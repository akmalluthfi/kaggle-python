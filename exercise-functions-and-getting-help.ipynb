{
 "cells": [
  {
   "cell_type": "markdown",
   "id": "0bb2e589",
   "metadata": {
    "papermill": {
     "duration": 0.006572,
     "end_time": "2023-06-10T07:46:47.756735",
     "exception": false,
     "start_time": "2023-06-10T07:46:47.750163",
     "status": "completed"
    },
    "tags": []
   },
   "source": [
    "**This notebook is an exercise in the [Python](https://www.kaggle.com/learn/python) course.  You can reference the tutorial at [this link](https://www.kaggle.com/colinmorris/functions-and-getting-help).**\n",
    "\n",
    "---\n"
   ]
  },
  {
   "cell_type": "markdown",
   "id": "2ac1833e",
   "metadata": {
    "papermill": {
     "duration": 0.005519,
     "end_time": "2023-06-10T07:46:47.768338",
     "exception": false,
     "start_time": "2023-06-10T07:46:47.762819",
     "status": "completed"
    },
    "tags": []
   },
   "source": [
    "Functions are powerful. Try writing some yourself.\n",
    "\n",
    "As before, don't forget to run the setup code below before jumping into question 1."
   ]
  },
  {
   "cell_type": "code",
   "execution_count": 1,
   "id": "493dca02",
   "metadata": {
    "_kg_hide-input": true,
    "_kg_hide-output": true,
    "execution": {
     "iopub.execute_input": "2023-06-10T07:46:47.781660Z",
     "iopub.status.busy": "2023-06-10T07:46:47.781262Z",
     "iopub.status.idle": "2023-06-10T07:46:47.826793Z",
     "shell.execute_reply": "2023-06-10T07:46:47.825494Z"
    },
    "papermill": {
     "duration": 0.055103,
     "end_time": "2023-06-10T07:46:47.829259",
     "exception": false,
     "start_time": "2023-06-10T07:46:47.774156",
     "status": "completed"
    },
    "tags": []
   },
   "outputs": [
    {
     "name": "stdout",
     "output_type": "stream",
     "text": [
      "Setup complete.\n"
     ]
    }
   ],
   "source": [
    "# SETUP. You don't need to worry for now about what this code does or how it works.\n",
    "from learntools.core import binder; binder.bind(globals())\n",
    "from learntools.python.ex2 import *\n",
    "print('Setup complete.')"
   ]
  },
  {
   "cell_type": "markdown",
   "id": "2f9c30ac",
   "metadata": {
    "papermill": {
     "duration": 0.00576,
     "end_time": "2023-06-10T07:46:47.841073",
     "exception": false,
     "start_time": "2023-06-10T07:46:47.835313",
     "status": "completed"
    },
    "tags": []
   },
   "source": [
    "# 1.\n",
    "\n",
    "Complete the body of the following function according to its docstring.\n",
    "\n",
    "HINT: Python has a built-in function `round`."
   ]
  },
  {
   "cell_type": "code",
   "execution_count": 2,
   "id": "986b2d26",
   "metadata": {
    "execution": {
     "iopub.execute_input": "2023-06-10T07:46:47.854642Z",
     "iopub.status.busy": "2023-06-10T07:46:47.854256Z",
     "iopub.status.idle": "2023-06-10T07:46:47.866646Z",
     "shell.execute_reply": "2023-06-10T07:46:47.865579Z"
    },
    "papermill": {
     "duration": 0.021857,
     "end_time": "2023-06-10T07:46:47.868768",
     "exception": false,
     "start_time": "2023-06-10T07:46:47.846911",
     "status": "completed"
    },
    "tags": []
   },
   "outputs": [
    {
     "data": {
      "application/javascript": [
       "parent.postMessage({\"jupyterEvent\": \"custom.exercise_interaction\", \"data\": {\"outcomeType\": 1, \"valueTowardsCompletion\": 0.16666666666666666, \"interactionType\": 1, \"questionType\": 2, \"questionId\": \"1_RoundFunctionProblem\", \"learnToolsVersion\": \"0.3.4\", \"failureMessage\": \"\", \"exceptionClass\": \"\", \"trace\": \"\"}}, \"*\")"
      ],
      "text/plain": [
       "<IPython.core.display.Javascript object>"
      ]
     },
     "metadata": {},
     "output_type": "display_data"
    },
    {
     "data": {
      "text/markdown": [
       "<span style=\"color:#33cc33\">Correct</span>"
      ],
      "text/plain": [
       "Correct"
      ]
     },
     "metadata": {},
     "output_type": "display_data"
    }
   ],
   "source": [
    "def round_to_two_places(num):\n",
    "    \"\"\"Return the given number rounded to two decimal places. \n",
    "    \n",
    "    >>> round_to_two_places(3.14159)\n",
    "    3.14\n",
    "    \"\"\"\n",
    "    # Replace this body with your own code.\n",
    "    # (\"pass\" is a keyword that does literally nothing. We used it as a placeholder\n",
    "    # because after we begin a code block, Python requires at least one line of code)\n",
    "    return round(num, 2)\n",
    "\n",
    "# Check your answer\n",
    "q1.check()"
   ]
  },
  {
   "cell_type": "code",
   "execution_count": 3,
   "id": "0cdf9aca",
   "metadata": {
    "execution": {
     "iopub.execute_input": "2023-06-10T07:46:47.884794Z",
     "iopub.status.busy": "2023-06-10T07:46:47.884149Z",
     "iopub.status.idle": "2023-06-10T07:46:47.887741Z",
     "shell.execute_reply": "2023-06-10T07:46:47.887059Z"
    },
    "papermill": {
     "duration": 0.01448,
     "end_time": "2023-06-10T07:46:47.889626",
     "exception": false,
     "start_time": "2023-06-10T07:46:47.875146",
     "status": "completed"
    },
    "tags": []
   },
   "outputs": [],
   "source": [
    "# Uncomment the following for a hint\n",
    "#q1.hint()\n",
    "# Or uncomment the following to peek at the solution\n",
    "#q1.solution()"
   ]
  },
  {
   "cell_type": "markdown",
   "id": "eb463293",
   "metadata": {
    "papermill": {
     "duration": 0.00593,
     "end_time": "2023-06-10T07:46:47.901801",
     "exception": false,
     "start_time": "2023-06-10T07:46:47.895871",
     "status": "completed"
    },
    "tags": []
   },
   "source": [
    "# 2.\n",
    "The help for `round` says that `ndigits` (the second argument) may be negative.\n",
    "What do you think will happen when it is? Try some examples in the following cell."
   ]
  },
  {
   "cell_type": "code",
   "execution_count": 4,
   "id": "c12cf29c",
   "metadata": {
    "execution": {
     "iopub.execute_input": "2023-06-10T07:46:47.915906Z",
     "iopub.status.busy": "2023-06-10T07:46:47.915515Z",
     "iopub.status.idle": "2023-06-10T07:46:47.922273Z",
     "shell.execute_reply": "2023-06-10T07:46:47.921267Z"
    },
    "papermill": {
     "duration": 0.016673,
     "end_time": "2023-06-10T07:46:47.924640",
     "exception": false,
     "start_time": "2023-06-10T07:46:47.907967",
     "status": "completed"
    },
    "tags": []
   },
   "outputs": [
    {
     "data": {
      "text/plain": [
       "300.0"
      ]
     },
     "execution_count": 4,
     "metadata": {},
     "output_type": "execute_result"
    }
   ],
   "source": [
    "# Put your test code here\n",
    "round(338.424, -2)"
   ]
  },
  {
   "cell_type": "markdown",
   "id": "970134c5",
   "metadata": {
    "papermill": {
     "duration": 0.006595,
     "end_time": "2023-06-10T07:46:47.937772",
     "exception": false,
     "start_time": "2023-06-10T07:46:47.931177",
     "status": "completed"
    },
    "tags": []
   },
   "source": [
    "Can you think of a case where this would be useful?  Once you're ready, run the code cell below to see the answer and to receive credit for completing the problem."
   ]
  },
  {
   "cell_type": "code",
   "execution_count": 5,
   "id": "553d2035",
   "metadata": {
    "execution": {
     "iopub.execute_input": "2023-06-10T07:46:47.952700Z",
     "iopub.status.busy": "2023-06-10T07:46:47.952309Z",
     "iopub.status.idle": "2023-06-10T07:46:47.960660Z",
     "shell.execute_reply": "2023-06-10T07:46:47.959619Z"
    },
    "papermill": {
     "duration": 0.019047,
     "end_time": "2023-06-10T07:46:47.963395",
     "exception": false,
     "start_time": "2023-06-10T07:46:47.944348",
     "status": "completed"
    },
    "tags": []
   },
   "outputs": [
    {
     "data": {
      "application/javascript": [
       "parent.postMessage({\"jupyterEvent\": \"custom.exercise_interaction\", \"data\": {\"interactionType\": 3, \"questionType\": 4, \"questionId\": \"2_RoundNdigitsProblem\", \"learnToolsVersion\": \"0.3.4\", \"valueTowardsCompletion\": 0.0, \"failureMessage\": \"\", \"exceptionClass\": \"\", \"trace\": \"\", \"outcomeType\": 4}}, \"*\")"
      ],
      "text/plain": [
       "<IPython.core.display.Javascript object>"
      ]
     },
     "metadata": {},
     "output_type": "display_data"
    },
    {
     "data": {
      "text/markdown": [
       "<span style=\"color:#33cc99\">Solution:</span> As you've seen, `ndigits=-1` rounds to the nearest 10, `ndigits=-2` rounds to the nearest 100 and so on. Where might this be useful? Suppose we're dealing with large numbers:\n",
       "\n",
       "> The area of Finland is 338,424 km²  \n",
       "> The area of Greenland is 2,166,086 km²\n",
       "\n",
       "We probably don't care whether it's really 338,424, or 338,425, or 338,177. All those digits of accuracy are just distracting. We can chop them off by calling `round()` with `ndigits=-3`:\n",
       "\n",
       "> The area of Finland is 338,000 km²  \n",
       "> The area of Greenland is 2,166,000 km²\n",
       "\n",
       "(We'll talk about how we would get the commas later when we talk about string formatting :))\n"
      ],
      "text/plain": [
       "Solution: As you've seen, `ndigits=-1` rounds to the nearest 10, `ndigits=-2` rounds to the nearest 100 and so on. Where might this be useful? Suppose we're dealing with large numbers:\n",
       "\n",
       "> The area of Finland is 338,424 km²  \n",
       "> The area of Greenland is 2,166,086 km²\n",
       "\n",
       "We probably don't care whether it's really 338,424, or 338,425, or 338,177. All those digits of accuracy are just distracting. We can chop them off by calling `round()` with `ndigits=-3`:\n",
       "\n",
       "> The area of Finland is 338,000 km²  \n",
       "> The area of Greenland is 2,166,000 km²\n",
       "\n",
       "(We'll talk about how we would get the commas later when we talk about string formatting :))"
      ]
     },
     "metadata": {},
     "output_type": "display_data"
    }
   ],
   "source": [
    "# Check your answer (Run this code cell to receive credit!)\n",
    "q2.solution()"
   ]
  },
  {
   "cell_type": "markdown",
   "id": "6e8a1203",
   "metadata": {
    "papermill": {
     "duration": 0.006898,
     "end_time": "2023-06-10T07:46:47.977376",
     "exception": false,
     "start_time": "2023-06-10T07:46:47.970478",
     "status": "completed"
    },
    "tags": []
   },
   "source": [
    "# 3.\n",
    "\n",
    "In the previous exercise, the candy-sharing friends Alice, Bob and Carol tried to split candies evenly. For the sake of their friendship, any candies left over would be smashed. For example, if they collectively bring home 91 candies, they'll take 30 each and smash 1.\n",
    "\n",
    "Below is a simple function that will calculate the number of candies to smash for *any* number of total candies.\n",
    "\n",
    "Modify it so that it optionally takes a second argument representing the number of friends the candies are being split between. If no second argument is provided, it should assume 3 friends, as before.\n",
    "\n",
    "Update the docstring to reflect this new behaviour."
   ]
  },
  {
   "cell_type": "code",
   "execution_count": 6,
   "id": "989bb351",
   "metadata": {
    "execution": {
     "iopub.execute_input": "2023-06-10T07:46:47.993800Z",
     "iopub.status.busy": "2023-06-10T07:46:47.992829Z",
     "iopub.status.idle": "2023-06-10T07:46:48.002425Z",
     "shell.execute_reply": "2023-06-10T07:46:48.001568Z"
    },
    "papermill": {
     "duration": 0.020204,
     "end_time": "2023-06-10T07:46:48.004809",
     "exception": false,
     "start_time": "2023-06-10T07:46:47.984605",
     "status": "completed"
    },
    "tags": []
   },
   "outputs": [
    {
     "data": {
      "application/javascript": [
       "parent.postMessage({\"jupyterEvent\": \"custom.exercise_interaction\", \"data\": {\"outcomeType\": 1, \"valueTowardsCompletion\": 0.16666666666666666, \"interactionType\": 1, \"questionType\": 2, \"questionId\": \"3_CandySmashingFunctionProblem\", \"learnToolsVersion\": \"0.3.4\", \"failureMessage\": \"\", \"exceptionClass\": \"\", \"trace\": \"\"}}, \"*\")"
      ],
      "text/plain": [
       "<IPython.core.display.Javascript object>"
      ]
     },
     "metadata": {},
     "output_type": "display_data"
    },
    {
     "data": {
      "text/markdown": [
       "<span style=\"color:#33cc33\">Correct</span>"
      ],
      "text/plain": [
       "Correct"
      ]
     },
     "metadata": {},
     "output_type": "display_data"
    }
   ],
   "source": [
    "def to_smash(total_candies, num_of_friends = 3):\n",
    "    \"\"\"Return the number of leftover candies that must be smashed after distributing\n",
    "    the given number of candies evenly between 3 friends.\n",
    "    \n",
    "    >>> to_smash(91)\n",
    "    1\n",
    "    \"\"\"\n",
    "    return total_candies % num_of_friends\n",
    "\n",
    "# Check your answer\n",
    "q3.check()"
   ]
  },
  {
   "cell_type": "code",
   "execution_count": 7,
   "id": "8de7cd4c",
   "metadata": {
    "execution": {
     "iopub.execute_input": "2023-06-10T07:46:48.021775Z",
     "iopub.status.busy": "2023-06-10T07:46:48.021037Z",
     "iopub.status.idle": "2023-06-10T07:46:48.025591Z",
     "shell.execute_reply": "2023-06-10T07:46:48.024859Z"
    },
    "papermill": {
     "duration": 0.01543,
     "end_time": "2023-06-10T07:46:48.027764",
     "exception": false,
     "start_time": "2023-06-10T07:46:48.012334",
     "status": "completed"
    },
    "tags": []
   },
   "outputs": [],
   "source": [
    "#q3.hint()"
   ]
  },
  {
   "cell_type": "code",
   "execution_count": 8,
   "id": "904d0df4",
   "metadata": {
    "execution": {
     "iopub.execute_input": "2023-06-10T07:46:48.044344Z",
     "iopub.status.busy": "2023-06-10T07:46:48.043728Z",
     "iopub.status.idle": "2023-06-10T07:46:48.052310Z",
     "shell.execute_reply": "2023-06-10T07:46:48.051292Z"
    },
    "papermill": {
     "duration": 0.019426,
     "end_time": "2023-06-10T07:46:48.054476",
     "exception": false,
     "start_time": "2023-06-10T07:46:48.035050",
     "status": "completed"
    },
    "tags": []
   },
   "outputs": [
    {
     "data": {
      "application/javascript": [
       "parent.postMessage({\"jupyterEvent\": \"custom.exercise_interaction\", \"data\": {\"interactionType\": 3, \"questionType\": 2, \"questionId\": \"3_CandySmashingFunctionProblem\", \"learnToolsVersion\": \"0.3.4\", \"valueTowardsCompletion\": 0.0, \"failureMessage\": \"\", \"exceptionClass\": \"\", \"trace\": \"\", \"outcomeType\": 4}}, \"*\")"
      ],
      "text/plain": [
       "<IPython.core.display.Javascript object>"
      ]
     },
     "metadata": {},
     "output_type": "display_data"
    },
    {
     "data": {
      "text/markdown": [
       "<span style=\"color:#33cc99\">Solution:</span> \n",
       "```python\n",
       "def to_smash(total_candies, n_friends=3):\n",
       "    return total_candies % n_friends\n",
       "```"
      ],
      "text/plain": [
       "Solution: \n",
       "```python\n",
       "def to_smash(total_candies, n_friends=3):\n",
       "    return total_candies % n_friends\n",
       "```"
      ]
     },
     "metadata": {},
     "output_type": "display_data"
    }
   ],
   "source": [
    "q3.solution()"
   ]
  },
  {
   "cell_type": "markdown",
   "id": "76863c56",
   "metadata": {
    "papermill": {
     "duration": 0.007352,
     "end_time": "2023-06-10T07:46:48.069367",
     "exception": false,
     "start_time": "2023-06-10T07:46:48.062015",
     "status": "completed"
    },
    "tags": []
   },
   "source": [
    "# 4. (Optional)\n",
    "\n",
    "It may not be fun, but reading and understanding error messages will be an important part of your Python career.\n",
    "\n",
    "Each code cell below contains some commented buggy code. For each cell...\n",
    "\n",
    "1. Read the code and predict what you think will happen when it's run.\n",
    "2. Then uncomment the code and run it to see what happens. (**Tip**: In the kernel editor, you can highlight several lines and press `ctrl`+`/` to toggle commenting.)\n",
    "3. Fix the code (so that it accomplishes its intended purpose without throwing an exception)\n",
    "\n",
    "<!-- TODO: should this be autochecked? Delta is probably pretty small. -->"
   ]
  },
  {
   "cell_type": "code",
   "execution_count": 9,
   "id": "389c1477",
   "metadata": {
    "execution": {
     "iopub.execute_input": "2023-06-10T07:46:48.085817Z",
     "iopub.status.busy": "2023-06-10T07:46:48.085459Z",
     "iopub.status.idle": "2023-06-10T07:46:48.091494Z",
     "shell.execute_reply": "2023-06-10T07:46:48.090397Z"
    },
    "papermill": {
     "duration": 0.016918,
     "end_time": "2023-06-10T07:46:48.093725",
     "exception": false,
     "start_time": "2023-06-10T07:46:48.076807",
     "status": "completed"
    },
    "tags": []
   },
   "outputs": [
    {
     "data": {
      "text/plain": [
       "10.0"
      ]
     },
     "execution_count": 9,
     "metadata": {},
     "output_type": "execute_result"
    }
   ],
   "source": [
    "round_to_two_places(9.9999)"
   ]
  },
  {
   "cell_type": "code",
   "execution_count": 10,
   "id": "a8781f0d",
   "metadata": {
    "execution": {
     "iopub.execute_input": "2023-06-10T07:46:48.110517Z",
     "iopub.status.busy": "2023-06-10T07:46:48.110131Z",
     "iopub.status.idle": "2023-06-10T07:46:48.114968Z",
     "shell.execute_reply": "2023-06-10T07:46:48.113934Z"
    },
    "papermill": {
     "duration": 0.015724,
     "end_time": "2023-06-10T07:46:48.117021",
     "exception": false,
     "start_time": "2023-06-10T07:46:48.101297",
     "status": "completed"
    },
    "tags": []
   },
   "outputs": [],
   "source": [
    "x = -10\n",
    "y = 5\n",
    "# # Which of the two variables above has the smallest absolute value?\n",
    "smallest_abs = min(abs(x), abs(y))"
   ]
  },
  {
   "cell_type": "code",
   "execution_count": 11,
   "id": "b4ba4b4f",
   "metadata": {
    "execution": {
     "iopub.execute_input": "2023-06-10T07:46:48.134549Z",
     "iopub.status.busy": "2023-06-10T07:46:48.133786Z",
     "iopub.status.idle": "2023-06-10T07:46:48.139766Z",
     "shell.execute_reply": "2023-06-10T07:46:48.138642Z"
    },
    "papermill": {
     "duration": 0.017317,
     "end_time": "2023-06-10T07:46:48.142111",
     "exception": false,
     "start_time": "2023-06-10T07:46:48.124794",
     "status": "completed"
    },
    "tags": []
   },
   "outputs": [
    {
     "name": "stdout",
     "output_type": "stream",
     "text": [
      "5\n"
     ]
    }
   ],
   "source": [
    "def f(x):\n",
    "    y = abs(x)\n",
    "    return y\n",
    "\n",
    "print(f(5))"
   ]
  },
  {
   "cell_type": "markdown",
   "id": "083047ee",
   "metadata": {
    "papermill": {
     "duration": 0.007526,
     "end_time": "2023-06-10T07:46:48.157447",
     "exception": false,
     "start_time": "2023-06-10T07:46:48.149921",
     "status": "completed"
    },
    "tags": []
   },
   "source": [
    "# Keep Going\n",
    "\n",
    "Nice job with the code. Next up, you'll learn about *conditionals*, which you'll need to **[write interesting programs](https://www.kaggle.com/colinmorris/booleans-and-conditionals)**. "
   ]
  },
  {
   "cell_type": "markdown",
   "id": "ee6ce5b5",
   "metadata": {
    "papermill": {
     "duration": 0.009822,
     "end_time": "2023-06-10T07:46:48.176473",
     "exception": false,
     "start_time": "2023-06-10T07:46:48.166651",
     "status": "completed"
    },
    "tags": []
   },
   "source": [
    "---\n",
    "\n",
    "\n",
    "\n",
    "\n",
    "*Have questions or comments? Visit the [course discussion forum](https://www.kaggle.com/learn/python/discussion) to chat with other learners.*"
   ]
  }
 ],
 "metadata": {
  "kernelspec": {
   "display_name": "Python 3",
   "language": "python",
   "name": "python3"
  },
  "language_info": {
   "codemirror_mode": {
    "name": "ipython",
    "version": 3
   },
   "file_extension": ".py",
   "mimetype": "text/x-python",
   "name": "python",
   "nbconvert_exporter": "python",
   "pygments_lexer": "ipython3",
   "version": "3.10.10"
  },
  "papermill": {
   "default_parameters": {},
   "duration": 12.726321,
   "end_time": "2023-06-10T07:46:49.005579",
   "environment_variables": {},
   "exception": null,
   "input_path": "__notebook__.ipynb",
   "output_path": "__notebook__.ipynb",
   "parameters": {},
   "start_time": "2023-06-10T07:46:36.279258",
   "version": "2.4.0"
  }
 },
 "nbformat": 4,
 "nbformat_minor": 5
}
