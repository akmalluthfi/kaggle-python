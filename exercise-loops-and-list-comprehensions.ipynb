{
 "cells": [
  {
   "cell_type": "markdown",
   "id": "2b2296b4",
   "metadata": {
    "papermill": {
     "duration": 0.007891,
     "end_time": "2023-06-10T08:01:59.459618",
     "exception": false,
     "start_time": "2023-06-10T08:01:59.451727",
     "status": "completed"
    },
    "tags": []
   },
   "source": [
    "**This notebook is an exercise in the [Python](https://www.kaggle.com/learn/python) course.  You can reference the tutorial at [this link](https://www.kaggle.com/colinmorris/loops-and-list-comprehensions).**\n",
    "\n",
    "---\n"
   ]
  },
  {
   "cell_type": "markdown",
   "id": "f54d0504",
   "metadata": {
    "papermill": {
     "duration": 0.006703,
     "end_time": "2023-06-10T08:01:59.473589",
     "exception": false,
     "start_time": "2023-06-10T08:01:59.466886",
     "status": "completed"
    },
    "tags": []
   },
   "source": [
    "With all you've learned, you can start writing much more interesting programs. See if you can solve the problems below.\n",
    "\n",
    "As always, run the setup code below before working on the questions."
   ]
  },
  {
   "cell_type": "code",
   "execution_count": 1,
   "id": "c7a727d2",
   "metadata": {
    "execution": {
     "iopub.execute_input": "2023-06-10T08:01:59.490212Z",
     "iopub.status.busy": "2023-06-10T08:01:59.489314Z",
     "iopub.status.idle": "2023-06-10T08:01:59.546049Z",
     "shell.execute_reply": "2023-06-10T08:01:59.544925Z"
    },
    "papermill": {
     "duration": 0.068205,
     "end_time": "2023-06-10T08:01:59.548876",
     "exception": false,
     "start_time": "2023-06-10T08:01:59.480671",
     "status": "completed"
    },
    "tags": []
   },
   "outputs": [
    {
     "name": "stdout",
     "output_type": "stream",
     "text": [
      "Setup complete.\n"
     ]
    }
   ],
   "source": [
    "from learntools.core import binder; binder.bind(globals())\n",
    "from learntools.python.ex5 import *\n",
    "print('Setup complete.')"
   ]
  },
  {
   "cell_type": "markdown",
   "id": "05fc36fa",
   "metadata": {
    "papermill": {
     "duration": 0.007076,
     "end_time": "2023-06-10T08:01:59.563190",
     "exception": false,
     "start_time": "2023-06-10T08:01:59.556114",
     "status": "completed"
    },
    "tags": []
   },
   "source": [
    "# 1.\n",
    "\n",
    "Have you ever felt debugging involved a bit of luck? The following program has a bug. Try to identify the bug and fix it."
   ]
  },
  {
   "cell_type": "code",
   "execution_count": 2,
   "id": "3988b3f9",
   "metadata": {
    "execution": {
     "iopub.execute_input": "2023-06-10T08:01:59.579215Z",
     "iopub.status.busy": "2023-06-10T08:01:59.578827Z",
     "iopub.status.idle": "2023-06-10T08:01:59.588749Z",
     "shell.execute_reply": "2023-06-10T08:01:59.587626Z"
    },
    "papermill": {
     "duration": 0.020925,
     "end_time": "2023-06-10T08:01:59.591299",
     "exception": false,
     "start_time": "2023-06-10T08:01:59.570374",
     "status": "completed"
    },
    "tags": []
   },
   "outputs": [
    {
     "data": {
      "text/plain": [
       "True"
      ]
     },
     "execution_count": 2,
     "metadata": {},
     "output_type": "execute_result"
    }
   ],
   "source": [
    "def has_lucky_number(nums):\n",
    "    \"\"\"Return whether the given list of numbers is lucky. A lucky list contains\n",
    "    at least one number divisible by 7.\n",
    "    \"\"\"\n",
    "    return len([num % 7 == 0 for num in nums]) > 0\n",
    "\n",
    "has_lucky_number([1, 2, 3, 5, 6])"
   ]
  },
  {
   "cell_type": "markdown",
   "id": "596e6b9c",
   "metadata": {
    "papermill": {
     "duration": 0.007118,
     "end_time": "2023-06-10T08:01:59.607255",
     "exception": false,
     "start_time": "2023-06-10T08:01:59.600137",
     "status": "completed"
    },
    "tags": []
   },
   "source": [
    "Try to identify the bug and fix it in the cell below:"
   ]
  },
  {
   "cell_type": "code",
   "execution_count": 3,
   "id": "c0099c7f",
   "metadata": {
    "execution": {
     "iopub.execute_input": "2023-06-10T08:01:59.624114Z",
     "iopub.status.busy": "2023-06-10T08:01:59.623746Z",
     "iopub.status.idle": "2023-06-10T08:01:59.633413Z",
     "shell.execute_reply": "2023-06-10T08:01:59.632299Z"
    },
    "papermill": {
     "duration": 0.020965,
     "end_time": "2023-06-10T08:01:59.635690",
     "exception": false,
     "start_time": "2023-06-10T08:01:59.614725",
     "status": "completed"
    },
    "tags": []
   },
   "outputs": [
    {
     "data": {
      "application/javascript": [
       "parent.postMessage({\"jupyterEvent\": \"custom.exercise_interaction\", \"data\": {\"outcomeType\": 1, \"valueTowardsCompletion\": 0.25, \"interactionType\": 1, \"questionType\": 2, \"questionId\": \"1_EarlyExitDebugging\", \"learnToolsVersion\": \"0.3.4\", \"failureMessage\": \"\", \"exceptionClass\": \"\", \"trace\": \"\"}}, \"*\")"
      ],
      "text/plain": [
       "<IPython.core.display.Javascript object>"
      ]
     },
     "metadata": {},
     "output_type": "display_data"
    },
    {
     "data": {
      "text/markdown": [
       "<span style=\"color:#33cc33\">Correct:</span> \n",
       "\n",
       "Remember that `return` causes a function to exit immediately. So our original implementation always ran for just one iteration. We can only return `False` if we've looked at every element of the list (and confirmed that none of them are lucky). Though we can return early if the answer is `True`:\n",
       "\n",
       "```python\n",
       "def has_lucky_number(nums):\n",
       "    for num in nums:\n",
       "        if num % 7 == 0:\n",
       "            return True\n",
       "    # We've exhausted the list without finding a lucky number\n",
       "    return False\n",
       "```\n",
       "\n",
       "Here's a one-line version using a list comprehension with Python's `any` function (you can read about what it does by calling `help(any)`):\n",
       "\n",
       "```python\n",
       "def has_lucky_number(nums):\n",
       "    return any([num % 7 == 0 for num in nums])\n",
       "```\n"
      ],
      "text/plain": [
       "Correct: \n",
       "\n",
       "Remember that `return` causes a function to exit immediately. So our original implementation always ran for just one iteration. We can only return `False` if we've looked at every element of the list (and confirmed that none of them are lucky). Though we can return early if the answer is `True`:\n",
       "\n",
       "```python\n",
       "def has_lucky_number(nums):\n",
       "    for num in nums:\n",
       "        if num % 7 == 0:\n",
       "            return True\n",
       "    # We've exhausted the list without finding a lucky number\n",
       "    return False\n",
       "```\n",
       "\n",
       "Here's a one-line version using a list comprehension with Python's `any` function (you can read about what it does by calling `help(any)`):\n",
       "\n",
       "```python\n",
       "def has_lucky_number(nums):\n",
       "    return any([num % 7 == 0 for num in nums])\n",
       "```"
      ]
     },
     "metadata": {},
     "output_type": "display_data"
    }
   ],
   "source": [
    "def has_lucky_number(nums):\n",
    "    \"\"\"Return whether the given list of numbers is lucky. A lucky list contains\n",
    "    at least one number divisible by 7.\n",
    "    \"\"\"\n",
    "    return any([num % 7 == 0 for num in nums])\n",
    "\n",
    "# Check your answer\n",
    "q1.check()"
   ]
  },
  {
   "cell_type": "code",
   "execution_count": 4,
   "id": "699f360e",
   "metadata": {
    "execution": {
     "iopub.execute_input": "2023-06-10T08:01:59.653205Z",
     "iopub.status.busy": "2023-06-10T08:01:59.652824Z",
     "iopub.status.idle": "2023-06-10T08:01:59.657641Z",
     "shell.execute_reply": "2023-06-10T08:01:59.656145Z"
    },
    "papermill": {
     "duration": 0.016897,
     "end_time": "2023-06-10T08:01:59.660353",
     "exception": false,
     "start_time": "2023-06-10T08:01:59.643456",
     "status": "completed"
    },
    "tags": []
   },
   "outputs": [],
   "source": [
    "#q1.hint()\n",
    "#q1.solution()"
   ]
  },
  {
   "cell_type": "markdown",
   "id": "91724e1e",
   "metadata": {
    "papermill": {
     "duration": 0.007591,
     "end_time": "2023-06-10T08:01:59.675922",
     "exception": false,
     "start_time": "2023-06-10T08:01:59.668331",
     "status": "completed"
    },
    "tags": []
   },
   "source": [
    "# 2.\n",
    "Look at the Python expression below. What do you think we'll get when we run it? When you've made your prediction, uncomment the code and run the cell to see if you were right."
   ]
  },
  {
   "cell_type": "code",
   "execution_count": 5,
   "id": "7589084c",
   "metadata": {
    "execution": {
     "iopub.execute_input": "2023-06-10T08:01:59.693588Z",
     "iopub.status.busy": "2023-06-10T08:01:59.693189Z",
     "iopub.status.idle": "2023-06-10T08:01:59.697750Z",
     "shell.execute_reply": "2023-06-10T08:01:59.696454Z"
    },
    "papermill": {
     "duration": 0.016287,
     "end_time": "2023-06-10T08:01:59.700077",
     "exception": false,
     "start_time": "2023-06-10T08:01:59.683790",
     "status": "completed"
    },
    "tags": []
   },
   "outputs": [],
   "source": [
    "# [1, 2, 3, 4] > 2"
   ]
  },
  {
   "cell_type": "markdown",
   "id": "1144cb7b",
   "metadata": {
    "papermill": {
     "duration": 0.007418,
     "end_time": "2023-06-10T08:01:59.715496",
     "exception": false,
     "start_time": "2023-06-10T08:01:59.708078",
     "status": "completed"
    },
    "tags": []
   },
   "source": [
    "R and Python have some libraries (like numpy and pandas) compare each element of the list to 2 (i.e. do an 'element-wise' comparison) and give us a list of booleans like `[False, False, True, True]`. \n",
    "\n",
    "Implement a function that reproduces this behaviour, returning a list of booleans corresponding to whether the corresponding element is greater than n."
   ]
  },
  {
   "cell_type": "code",
   "execution_count": 6,
   "id": "57bb7390",
   "metadata": {
    "execution": {
     "iopub.execute_input": "2023-06-10T08:01:59.732912Z",
     "iopub.status.busy": "2023-06-10T08:01:59.732521Z",
     "iopub.status.idle": "2023-06-10T08:01:59.742598Z",
     "shell.execute_reply": "2023-06-10T08:01:59.741533Z"
    },
    "papermill": {
     "duration": 0.021738,
     "end_time": "2023-06-10T08:01:59.744899",
     "exception": false,
     "start_time": "2023-06-10T08:01:59.723161",
     "status": "completed"
    },
    "tags": []
   },
   "outputs": [
    {
     "data": {
      "application/javascript": [
       "parent.postMessage({\"jupyterEvent\": \"custom.exercise_interaction\", \"data\": {\"outcomeType\": 1, \"valueTowardsCompletion\": 0.25, \"interactionType\": 1, \"questionType\": 2, \"questionId\": \"2_ElementWiseComparison\", \"learnToolsVersion\": \"0.3.4\", \"failureMessage\": \"\", \"exceptionClass\": \"\", \"trace\": \"\"}}, \"*\")"
      ],
      "text/plain": [
       "<IPython.core.display.Javascript object>"
      ]
     },
     "metadata": {},
     "output_type": "display_data"
    },
    {
     "data": {
      "text/markdown": [
       "<span style=\"color:#33cc33\">Correct:</span> \n",
       "\n",
       "Here's one solution:\n",
       "```python\n",
       "def elementwise_greater_than(L, thresh):\n",
       "    res = []\n",
       "    for ele in L:\n",
       "        res.append(ele > thresh)\n",
       "    return res\n",
       "```\n",
       "\n",
       "And here's the list comprehension version:\n",
       "```python\n",
       "def elementwise_greater_than(L, thresh):\n",
       "    return [ele > thresh for ele in L]\n",
       "```\n"
      ],
      "text/plain": [
       "Correct: \n",
       "\n",
       "Here's one solution:\n",
       "```python\n",
       "def elementwise_greater_than(L, thresh):\n",
       "    res = []\n",
       "    for ele in L:\n",
       "        res.append(ele > thresh)\n",
       "    return res\n",
       "```\n",
       "\n",
       "And here's the list comprehension version:\n",
       "```python\n",
       "def elementwise_greater_than(L, thresh):\n",
       "    return [ele > thresh for ele in L]\n",
       "```"
      ]
     },
     "metadata": {},
     "output_type": "display_data"
    }
   ],
   "source": [
    "def elementwise_greater_than(L, thresh):\n",
    "    \"\"\"Return a list with the same length as L, where the value at index i is \n",
    "    True if L[i] is greater than thresh, and False otherwise.\n",
    "    \n",
    "    >>> elementwise_greater_than([1, 2, 3, 4], 2)\n",
    "    [False, False, True, True]\n",
    "    \"\"\"\n",
    "    return [item > thresh for item in L]\n",
    "\n",
    "# Check your answer\n",
    "q2.check()"
   ]
  },
  {
   "cell_type": "code",
   "execution_count": 7,
   "id": "e83935fc",
   "metadata": {
    "execution": {
     "iopub.execute_input": "2023-06-10T08:01:59.762786Z",
     "iopub.status.busy": "2023-06-10T08:01:59.762381Z",
     "iopub.status.idle": "2023-06-10T08:01:59.767678Z",
     "shell.execute_reply": "2023-06-10T08:01:59.766732Z"
    },
    "papermill": {
     "duration": 0.016898,
     "end_time": "2023-06-10T08:01:59.769871",
     "exception": false,
     "start_time": "2023-06-10T08:01:59.752973",
     "status": "completed"
    },
    "tags": []
   },
   "outputs": [],
   "source": [
    "#q2.solution()"
   ]
  },
  {
   "cell_type": "markdown",
   "id": "9956a375",
   "metadata": {
    "papermill": {
     "duration": 0.007752,
     "end_time": "2023-06-10T08:01:59.785747",
     "exception": false,
     "start_time": "2023-06-10T08:01:59.777995",
     "status": "completed"
    },
    "tags": []
   },
   "source": [
    "# 3.\n",
    "\n",
    "Complete the body of the function below according to its docstring."
   ]
  },
  {
   "cell_type": "code",
   "execution_count": 8,
   "id": "c53a5de9",
   "metadata": {
    "execution": {
     "iopub.execute_input": "2023-06-10T08:01:59.804308Z",
     "iopub.status.busy": "2023-06-10T08:01:59.803553Z",
     "iopub.status.idle": "2023-06-10T08:01:59.813750Z",
     "shell.execute_reply": "2023-06-10T08:01:59.812578Z"
    },
    "papermill": {
     "duration": 0.022541,
     "end_time": "2023-06-10T08:01:59.816575",
     "exception": false,
     "start_time": "2023-06-10T08:01:59.794034",
     "status": "completed"
    },
    "tags": []
   },
   "outputs": [
    {
     "data": {
      "application/javascript": [
       "parent.postMessage({\"jupyterEvent\": \"custom.exercise_interaction\", \"data\": {\"outcomeType\": 1, \"valueTowardsCompletion\": 0.25, \"interactionType\": 1, \"questionType\": 2, \"questionId\": \"3_BoringMenu\", \"learnToolsVersion\": \"0.3.4\", \"failureMessage\": \"\", \"exceptionClass\": \"\", \"trace\": \"\"}}, \"*\")"
      ],
      "text/plain": [
       "<IPython.core.display.Javascript object>"
      ]
     },
     "metadata": {},
     "output_type": "display_data"
    },
    {
     "data": {
      "text/markdown": [
       "<span style=\"color:#33cc33\">Correct:</span> \n",
       "\n",
       "\n",
       "\n",
       "```python\n",
       "def menu_is_boring(meals):\n",
       "    # Iterate over all indices of the list, except the last one\n",
       "    for i in range(len(meals)-1):\n",
       "        if meals[i] == meals[i+1]:\n",
       "            return True\n",
       "    return False\n",
       "```\n",
       "\n",
       "The key to our solution is the call to `range`. `range(len(meals))` would give us all the indices of `meals`. If we had used that range, the last iteration of the loop would be comparing the last element to the element after it, which is... `IndexError`! `range(len(meals)-1)` gives us all the indices except the index of the last element.\n",
       "\n",
       "But don't we need to check if `meals` is empty? Turns out that `range(0) == range(-1)` - they're both empty. So if `meals` has length 0 or 1, we just won't do any iterations of our for loop.\n"
      ],
      "text/plain": [
       "Correct: \n",
       "\n",
       "\n",
       "\n",
       "```python\n",
       "def menu_is_boring(meals):\n",
       "    # Iterate over all indices of the list, except the last one\n",
       "    for i in range(len(meals)-1):\n",
       "        if meals[i] == meals[i+1]:\n",
       "            return True\n",
       "    return False\n",
       "```\n",
       "\n",
       "The key to our solution is the call to `range`. `range(len(meals))` would give us all the indices of `meals`. If we had used that range, the last iteration of the loop would be comparing the last element to the element after it, which is... `IndexError`! `range(len(meals)-1)` gives us all the indices except the index of the last element.\n",
       "\n",
       "But don't we need to check if `meals` is empty? Turns out that `range(0) == range(-1)` - they're both empty. So if `meals` has length 0 or 1, we just won't do any iterations of our for loop."
      ]
     },
     "metadata": {},
     "output_type": "display_data"
    }
   ],
   "source": [
    "def menu_is_boring(meals):\n",
    "    \"\"\"Given a list of meals served over some period of time, return True if the\n",
    "    same meal has ever been served two days in a row, and False otherwise.\n",
    "    \"\"\"\n",
    "    for i in range(len(meals) - 1):\n",
    "        if meals[i] == meals[i+1]:\n",
    "            return True\n",
    "        \n",
    "    return False\n",
    "    \n",
    "\n",
    "# Check your answer\n",
    "q3.check()"
   ]
  },
  {
   "cell_type": "code",
   "execution_count": 9,
   "id": "b1ab12ee",
   "metadata": {
    "execution": {
     "iopub.execute_input": "2023-06-10T08:01:59.836989Z",
     "iopub.status.busy": "2023-06-10T08:01:59.836272Z",
     "iopub.status.idle": "2023-06-10T08:01:59.845011Z",
     "shell.execute_reply": "2023-06-10T08:01:59.844080Z"
    },
    "papermill": {
     "duration": 0.021383,
     "end_time": "2023-06-10T08:01:59.847245",
     "exception": false,
     "start_time": "2023-06-10T08:01:59.825862",
     "status": "completed"
    },
    "tags": []
   },
   "outputs": [
    {
     "data": {
      "application/javascript": [
       "parent.postMessage({\"jupyterEvent\": \"custom.exercise_interaction\", \"data\": {\"interactionType\": 3, \"questionType\": 2, \"questionId\": \"3_BoringMenu\", \"learnToolsVersion\": \"0.3.4\", \"valueTowardsCompletion\": 0.0, \"failureMessage\": \"\", \"exceptionClass\": \"\", \"trace\": \"\", \"outcomeType\": 4}}, \"*\")"
      ],
      "text/plain": [
       "<IPython.core.display.Javascript object>"
      ]
     },
     "metadata": {},
     "output_type": "display_data"
    },
    {
     "data": {
      "text/markdown": [
       "<span style=\"color:#33cc99\">Solution:</span> \n",
       "\n",
       "```python\n",
       "def menu_is_boring(meals):\n",
       "    # Iterate over all indices of the list, except the last one\n",
       "    for i in range(len(meals)-1):\n",
       "        if meals[i] == meals[i+1]:\n",
       "            return True\n",
       "    return False\n",
       "```\n",
       "\n",
       "The key to our solution is the call to `range`. `range(len(meals))` would give us all the indices of `meals`. If we had used that range, the last iteration of the loop would be comparing the last element to the element after it, which is... `IndexError`! `range(len(meals)-1)` gives us all the indices except the index of the last element.\n",
       "\n",
       "But don't we need to check if `meals` is empty? Turns out that `range(0) == range(-1)` - they're both empty. So if `meals` has length 0 or 1, we just won't do any iterations of our for loop.\n"
      ],
      "text/plain": [
       "Solution: \n",
       "\n",
       "```python\n",
       "def menu_is_boring(meals):\n",
       "    # Iterate over all indices of the list, except the last one\n",
       "    for i in range(len(meals)-1):\n",
       "        if meals[i] == meals[i+1]:\n",
       "            return True\n",
       "    return False\n",
       "```\n",
       "\n",
       "The key to our solution is the call to `range`. `range(len(meals))` would give us all the indices of `meals`. If we had used that range, the last iteration of the loop would be comparing the last element to the element after it, which is... `IndexError`! `range(len(meals)-1)` gives us all the indices except the index of the last element.\n",
       "\n",
       "But don't we need to check if `meals` is empty? Turns out that `range(0) == range(-1)` - they're both empty. So if `meals` has length 0 or 1, we just won't do any iterations of our for loop."
      ]
     },
     "metadata": {},
     "output_type": "display_data"
    }
   ],
   "source": [
    "#q3.hint()\n",
    "q3.solution()"
   ]
  },
  {
   "cell_type": "markdown",
   "id": "d5a8e0b1",
   "metadata": {
    "papermill": {
     "duration": 0.00861,
     "end_time": "2023-06-10T08:01:59.865323",
     "exception": false,
     "start_time": "2023-06-10T08:01:59.856713",
     "status": "completed"
    },
    "tags": []
   },
   "source": [
    "# 4. <span title=\"A bit spicy\" style=\"color: darkgreen \">🌶️</span>\n",
    "\n",
    "Next to the Blackjack table, the Python Challenge Casino has a slot machine. You can get a result from the slot machine by calling `play_slot_machine()`. The number it returns is your winnings in dollars. Usually it returns 0.  But sometimes you'll get lucky and get a big payday. Try running it below:"
   ]
  },
  {
   "cell_type": "code",
   "execution_count": 10,
   "id": "81401650",
   "metadata": {
    "execution": {
     "iopub.execute_input": "2023-06-10T08:01:59.885044Z",
     "iopub.status.busy": "2023-06-10T08:01:59.884634Z",
     "iopub.status.idle": "2023-06-10T08:01:59.891372Z",
     "shell.execute_reply": "2023-06-10T08:01:59.890297Z"
    },
    "papermill": {
     "duration": 0.019508,
     "end_time": "2023-06-10T08:01:59.893750",
     "exception": false,
     "start_time": "2023-06-10T08:01:59.874242",
     "status": "completed"
    },
    "tags": []
   },
   "outputs": [
    {
     "data": {
      "text/plain": [
       "0"
      ]
     },
     "execution_count": 10,
     "metadata": {},
     "output_type": "execute_result"
    }
   ],
   "source": [
    "play_slot_machine()"
   ]
  },
  {
   "cell_type": "markdown",
   "id": "43c0fdac",
   "metadata": {
    "papermill": {
     "duration": 0.008626,
     "end_time": "2023-06-10T08:01:59.911467",
     "exception": false,
     "start_time": "2023-06-10T08:01:59.902841",
     "status": "completed"
    },
    "tags": []
   },
   "source": [
    "By the way, did we mention that each play costs $1? Don't worry, we'll send you the bill later.\n",
    "\n",
    "On average, how much money can you expect to gain (or lose) every time you play the machine?  The casino keeps it a secret, but you can estimate the average value of each pull using a technique called the **Monte Carlo method**. To estimate the average outcome, we simulate the scenario many times, and return the average result.\n",
    "\n",
    "Complete the following function to calculate the average value per play of the slot machine."
   ]
  },
  {
   "cell_type": "code",
   "execution_count": 11,
   "id": "235d4c40",
   "metadata": {
    "execution": {
     "iopub.execute_input": "2023-06-10T08:01:59.931999Z",
     "iopub.status.busy": "2023-06-10T08:01:59.931535Z",
     "iopub.status.idle": "2023-06-10T08:02:04.883314Z",
     "shell.execute_reply": "2023-06-10T08:02:04.882051Z"
    },
    "papermill": {
     "duration": 4.965687,
     "end_time": "2023-06-10T08:02:04.886009",
     "exception": false,
     "start_time": "2023-06-10T08:01:59.920322",
     "status": "completed"
    },
    "tags": []
   },
   "outputs": [
    {
     "data": {
      "text/plain": [
       "0.02423925"
      ]
     },
     "execution_count": 11,
     "metadata": {},
     "output_type": "execute_result"
    }
   ],
   "source": [
    "def estimate_average_slot_payout(n_runs):\n",
    "    \"\"\"Run the slot machine n_runs times and return the average net profit per run.\n",
    "    Example calls (note that return value is nondeterministic!):\n",
    "    >>> estimate_average_slot_payout(1)\n",
    "    -1\n",
    "    >>> estimate_average_slot_payout(1)\n",
    "    0.5\n",
    "    \"\"\"\n",
    "    runs = [play_slot_machine()-1 for i in range(n_runs)]\n",
    "    return sum(runs) / len(runs)\n",
    "    \n",
    "estimate_average_slot_payout(10000000)"
   ]
  },
  {
   "cell_type": "markdown",
   "id": "9ec496fd",
   "metadata": {
    "papermill": {
     "duration": 0.008906,
     "end_time": "2023-06-10T08:02:04.904731",
     "exception": false,
     "start_time": "2023-06-10T08:02:04.895825",
     "status": "completed"
    },
    "tags": []
   },
   "source": [
    "When you think you know the expected value per spin, run the code cell below to view the solution and get credit for answering the question."
   ]
  },
  {
   "cell_type": "code",
   "execution_count": 12,
   "id": "c9431f41",
   "metadata": {
    "execution": {
     "iopub.execute_input": "2023-06-10T08:02:04.924777Z",
     "iopub.status.busy": "2023-06-10T08:02:04.924351Z",
     "iopub.status.idle": "2023-06-10T08:02:04.933714Z",
     "shell.execute_reply": "2023-06-10T08:02:04.932616Z"
    },
    "papermill": {
     "duration": 0.02229,
     "end_time": "2023-06-10T08:02:04.936193",
     "exception": false,
     "start_time": "2023-06-10T08:02:04.913903",
     "status": "completed"
    },
    "tags": []
   },
   "outputs": [
    {
     "data": {
      "application/javascript": [
       "parent.postMessage({\"jupyterEvent\": \"custom.exercise_interaction\", \"data\": {\"interactionType\": 3, \"questionType\": 4, \"questionId\": \"4_ExpectedSlotsPayout\", \"learnToolsVersion\": \"0.3.4\", \"valueTowardsCompletion\": 0.0, \"failureMessage\": \"\", \"exceptionClass\": \"\", \"trace\": \"\", \"outcomeType\": 4}}, \"*\")"
      ],
      "text/plain": [
       "<IPython.core.display.Javascript object>"
      ]
     },
     "metadata": {},
     "output_type": "display_data"
    },
    {
     "data": {
      "text/markdown": [
       "<span style=\"color:#33cc99\">Solution:</span> \n",
       "    \n",
       "The exact expected value of one pull of the slot machine is 0.025 - i.e. a little more than 2 cents.  See?  Not every game in the Python Challenge Casino is rigged against the player!\n",
       "\n",
       "In order to get this answer, you'll need to implement the `estimate_average_slot_payout(n_runs)` function to simulate pulling the slot machine `n_runs` times.  It should return the payout averaged over those `n_runs`.\n",
       "\n",
       "Then, once the function is defined, in order to estimate the average slot payout, we need only call the function.\n",
       "\n",
       "Because of the high variance of the outcome (there are some very rare high payout results that significantly affect the average) you might need to run your function with a very high value of `n_runs` to get a stable answer close to the true expectation.  For instance, you might use a value for `n_runs` of 1000000.\n",
       "\n",
       "Here's an example for how the function could look:\n",
       "```python\n",
       "def estimate_average_slot_payout(n_runs):\n",
       "    # Play slot machine n_runs times, calculate payout of each\n",
       "    payouts = [play_slot_machine()-1 for i in range(n_runs)]\n",
       "    # Calculate the average value\n",
       "    avg_payout = sum(payouts) / n_runs\n",
       "    return avg_payout\n",
       "    \n",
       "estimate_average_slot_payout(10000000)\n",
       "\n",
       "```\n",
       "\n",
       "This should return an answer close to 0.025!\n",
       "            \n"
      ],
      "text/plain": [
       "Solution: \n",
       "    \n",
       "The exact expected value of one pull of the slot machine is 0.025 - i.e. a little more than 2 cents.  See?  Not every game in the Python Challenge Casino is rigged against the player!\n",
       "\n",
       "In order to get this answer, you'll need to implement the `estimate_average_slot_payout(n_runs)` function to simulate pulling the slot machine `n_runs` times.  It should return the payout averaged over those `n_runs`.\n",
       "\n",
       "Then, once the function is defined, in order to estimate the average slot payout, we need only call the function.\n",
       "\n",
       "Because of the high variance of the outcome (there are some very rare high payout results that significantly affect the average) you might need to run your function with a very high value of `n_runs` to get a stable answer close to the true expectation.  For instance, you might use a value for `n_runs` of 1000000.\n",
       "\n",
       "Here's an example for how the function could look:\n",
       "```python\n",
       "def estimate_average_slot_payout(n_runs):\n",
       "    # Play slot machine n_runs times, calculate payout of each\n",
       "    payouts = [play_slot_machine()-1 for i in range(n_runs)]\n",
       "    # Calculate the average value\n",
       "    avg_payout = sum(payouts) / n_runs\n",
       "    return avg_payout\n",
       "    \n",
       "estimate_average_slot_payout(10000000)\n",
       "\n",
       "```\n",
       "\n",
       "This should return an answer close to 0.025!\n",
       "            "
      ]
     },
     "metadata": {},
     "output_type": "display_data"
    }
   ],
   "source": [
    "# Check your answer (Run this code cell to receive credit!)\n",
    "q4.solution()"
   ]
  },
  {
   "cell_type": "markdown",
   "id": "57330f8f",
   "metadata": {
    "papermill": {
     "duration": 0.009052,
     "end_time": "2023-06-10T08:02:04.954894",
     "exception": false,
     "start_time": "2023-06-10T08:02:04.945842",
     "status": "completed"
    },
    "tags": []
   },
   "source": [
    "# Keep Going\n",
    "\n",
    "Many programmers report that dictionaries are their favorite data structure. You'll get to **[learn about them](https://www.kaggle.com/colinmorris/strings-and-dictionaries)** (as well as strings) in the next lesson."
   ]
  },
  {
   "cell_type": "markdown",
   "id": "3d100933",
   "metadata": {
    "papermill": {
     "duration": 0.009199,
     "end_time": "2023-06-10T08:02:04.973525",
     "exception": false,
     "start_time": "2023-06-10T08:02:04.964326",
     "status": "completed"
    },
    "tags": []
   },
   "source": [
    "---\n",
    "\n",
    "\n",
    "\n",
    "\n",
    "*Have questions or comments? Visit the [course discussion forum](https://www.kaggle.com/learn/python/discussion) to chat with other learners.*"
   ]
  }
 ],
 "metadata": {
  "kernelspec": {
   "display_name": "Python 3",
   "language": "python",
   "name": "python3"
  },
  "language_info": {
   "codemirror_mode": {
    "name": "ipython",
    "version": 3
   },
   "file_extension": ".py",
   "mimetype": "text/x-python",
   "name": "python",
   "nbconvert_exporter": "python",
   "pygments_lexer": "ipython3",
   "version": "3.10.10"
  },
  "papermill": {
   "default_parameters": {},
   "duration": 19.106282,
   "end_time": "2023-06-10T08:02:05.904799",
   "environment_variables": {},
   "exception": null,
   "input_path": "__notebook__.ipynb",
   "output_path": "__notebook__.ipynb",
   "parameters": {},
   "start_time": "2023-06-10T08:01:46.798517",
   "version": "2.4.0"
  }
 },
 "nbformat": 4,
 "nbformat_minor": 5
}
