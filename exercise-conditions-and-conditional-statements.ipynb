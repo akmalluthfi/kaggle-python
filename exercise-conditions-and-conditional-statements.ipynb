{
 "cells": [
  {
   "cell_type": "markdown",
   "id": "a54371cd",
   "metadata": {
    "papermill": {
     "duration": 0.00949,
     "end_time": "2023-06-10T08:10:42.743944",
     "exception": false,
     "start_time": "2023-06-10T08:10:42.734454",
     "status": "completed"
    },
    "tags": []
   },
   "source": [
    "**This notebook is an exercise in the [Intro to Programming](https://www.kaggle.com/learn/intro-to-programming) course.  You can reference the tutorial at [this link](https://www.kaggle.com/alexisbcook/conditions-and-conditional-statements).**\n",
    "\n",
    "---\n"
   ]
  },
  {
   "cell_type": "markdown",
   "id": "ba894854",
   "metadata": {
    "papermill": {
     "duration": 0.008534,
     "end_time": "2023-06-10T08:10:42.761892",
     "exception": false,
     "start_time": "2023-06-10T08:10:42.753358",
     "status": "completed"
    },
    "tags": []
   },
   "source": [
    "In the tutorial, you learned about conditions and conditional statements. In this exercise, you will use what you learned to answer several questions.\n",
    "\n",
    "# Set up the notebook\n",
    "\n",
    "Run the next code cell without changes to set up the notebook."
   ]
  },
  {
   "cell_type": "code",
   "execution_count": 1,
   "id": "e17940fe",
   "metadata": {
    "execution": {
     "iopub.execute_input": "2023-06-10T08:10:42.781783Z",
     "iopub.status.busy": "2023-06-10T08:10:42.780977Z",
     "iopub.status.idle": "2023-06-10T08:10:42.835085Z",
     "shell.execute_reply": "2023-06-10T08:10:42.833952Z"
    },
    "papermill": {
     "duration": 0.0674,
     "end_time": "2023-06-10T08:10:42.838075",
     "exception": false,
     "start_time": "2023-06-10T08:10:42.770675",
     "status": "completed"
    },
    "tags": []
   },
   "outputs": [
    {
     "name": "stdout",
     "output_type": "stream",
     "text": [
      "Setup complete.\n"
     ]
    }
   ],
   "source": [
    "from learntools.core import binder\n",
    "binder.bind(globals())\n",
    "from learntools.intro_to_programming.ex4 import *\n",
    "print('Setup complete.')"
   ]
  },
  {
   "cell_type": "markdown",
   "id": "d591027c",
   "metadata": {
    "papermill": {
     "duration": 0.008402,
     "end_time": "2023-06-10T08:10:42.855411",
     "exception": false,
     "start_time": "2023-06-10T08:10:42.847009",
     "status": "completed"
    },
    "tags": []
   },
   "source": [
    "# Question 1\n",
    "\n",
    "You work at a college admissions office.  When inspecting a dataset of college applicants, you notice that some students have represented their grades with letters (`\"A\"`, `\"B\"`, `\"C\"`, `\"D\"`, `\"F\"`), whereas others have represented their grades with a number between 0 and 100.\n",
    "\n",
    "You realize that for consistency, all of the grades should be formatted in the same way, and you decide to format them all as letters.  For the conversion, you decide to assign:\n",
    "- `\"A\"` - any grade 90-100, inclusive\n",
    "- `\"B\"` - any grade 80-89, inclusive\n",
    "- `\"C\"` - any grade 70-79, inclusive\n",
    "- `\"D\"` - any grade 60-69, inclusive\n",
    "- `\"F\"` - any grade <60\n",
    "\n",
    "Write a function `get_grade()` that takes as input:\n",
    "- `score` - an integer 0-100 corresponding to a numerical grade\n",
    "\n",
    "It should return a Python string with the letter grade that it corresponds to.  For instance,\n",
    "- A score of 85 corresponds to a B grade.  In other words, `get_grade(85)` should return `\"B\"`.\n",
    "- A score of 49 corresponds to an F grade.  In other words, `get_grade(49)` should return `\"F\"`.\n",
    "\n",
    "Make sure that when supplying the grade that is returned by the function, it is enclosed in quotes.  (For instance, if you want to return `\"A\"`, you should write `return \"A\"` and not `return A`.)"
   ]
  },
  {
   "cell_type": "code",
   "execution_count": 2,
   "id": "b071af86",
   "metadata": {
    "execution": {
     "iopub.execute_input": "2023-06-10T08:10:42.875939Z",
     "iopub.status.busy": "2023-06-10T08:10:42.875538Z",
     "iopub.status.idle": "2023-06-10T08:10:42.889188Z",
     "shell.execute_reply": "2023-06-10T08:10:42.888134Z"
    },
    "papermill": {
     "duration": 0.025912,
     "end_time": "2023-06-10T08:10:42.891507",
     "exception": false,
     "start_time": "2023-06-10T08:10:42.865595",
     "status": "completed"
    },
    "tags": []
   },
   "outputs": [
    {
     "data": {
      "application/javascript": [
       "parent.postMessage({\"jupyterEvent\": \"custom.exercise_interaction\", \"data\": {\"outcomeType\": 1, \"valueTowardsCompletion\": 0.2, \"interactionType\": 1, \"questionType\": 2, \"questionId\": \"1_GetGrade\", \"learnToolsVersion\": \"0.3.4\", \"failureMessage\": \"\", \"exceptionClass\": \"\", \"trace\": \"\"}}, \"*\")"
      ],
      "text/plain": [
       "<IPython.core.display.Javascript object>"
      ]
     },
     "metadata": {},
     "output_type": "display_data"
    },
    {
     "data": {
      "text/markdown": [
       "<span style=\"color:#33cc33\">Correct</span>"
      ],
      "text/plain": [
       "Correct"
      ]
     },
     "metadata": {},
     "output_type": "display_data"
    }
   ],
   "source": [
    "# TODO: Edit the function to return the correct grade for different scores\n",
    "def get_grade(score):\n",
    "    if(score >= 90):\n",
    "        return \"A\"\n",
    "    elif(score >= 80):\n",
    "        return \"B\"\n",
    "    elif(score >= 70):\n",
    "        return \"C\"\n",
    "    elif(score >= 60):\n",
    "        return \"D\"\n",
    "    else:\n",
    "        return \"F\"\n",
    "    \n",
    "# Check your answer\n",
    "q1.check()"
   ]
  },
  {
   "cell_type": "code",
   "execution_count": 3,
   "id": "b17c231a",
   "metadata": {
    "execution": {
     "iopub.execute_input": "2023-06-10T08:10:42.911709Z",
     "iopub.status.busy": "2023-06-10T08:10:42.911318Z",
     "iopub.status.idle": "2023-06-10T08:10:42.916061Z",
     "shell.execute_reply": "2023-06-10T08:10:42.914932Z"
    },
    "papermill": {
     "duration": 0.017803,
     "end_time": "2023-06-10T08:10:42.918468",
     "exception": false,
     "start_time": "2023-06-10T08:10:42.900665",
     "status": "completed"
    },
    "tags": []
   },
   "outputs": [],
   "source": [
    "# Uncomment to see a hint\n",
    "#q1.hint()\n",
    "\n",
    "# Uncomment to see the solution\n",
    "#q1.solution()"
   ]
  },
  {
   "cell_type": "markdown",
   "id": "0e0fda74",
   "metadata": {
    "papermill": {
     "duration": 0.008817,
     "end_time": "2023-06-10T08:10:42.936672",
     "exception": false,
     "start_time": "2023-06-10T08:10:42.927855",
     "status": "completed"
    },
    "tags": []
   },
   "source": [
    "# Question 2\n",
    "\n",
    "In the exercise for the previous lesson, you wrote a function `cost_of_project()` that estimated the price of rings for an online shop that sells rings with custom engravings.  This function did not use conditional statements.  In this exercise, you will rewrite the function to use conditional statements.  Recall that the online shop has the following price structure:\n",
    "- Gold plated rings have a base cost of \\\\$50, and you charge \\\\$7 per engraved unit.  \n",
    "- Solid gold rings have a base cost of \\\\$100, and you charge \\\\$10 per engraved unit.\n",
    "- Spaces and punctuation are counted as engraved units.\n",
    "\n",
    "Your function `cost_of_project()` takes two arguments:\n",
    "- `engraving` - a Python string with the text of the engraving\n",
    "- `solid_gold` - a Boolean that indicates whether the ring is solid gold\n",
    "\n",
    "It should return the cost of the project.  \n",
    "\n",
    "The function has been partially completed for you, and you need to fill in the blanks to complete the function."
   ]
  },
  {
   "cell_type": "code",
   "execution_count": 4,
   "id": "3ed7809f",
   "metadata": {
    "execution": {
     "iopub.execute_input": "2023-06-10T08:10:42.956769Z",
     "iopub.status.busy": "2023-06-10T08:10:42.956399Z",
     "iopub.status.idle": "2023-06-10T08:10:42.966629Z",
     "shell.execute_reply": "2023-06-10T08:10:42.965553Z"
    },
    "papermill": {
     "duration": 0.023024,
     "end_time": "2023-06-10T08:10:42.968814",
     "exception": false,
     "start_time": "2023-06-10T08:10:42.945790",
     "status": "completed"
    },
    "tags": []
   },
   "outputs": [
    {
     "data": {
      "application/javascript": [
       "parent.postMessage({\"jupyterEvent\": \"custom.exercise_interaction\", \"data\": {\"outcomeType\": 1, \"valueTowardsCompletion\": 0.2, \"interactionType\": 1, \"questionType\": 2, \"questionId\": \"2_CostProjectPartDeux\", \"learnToolsVersion\": \"0.3.4\", \"failureMessage\": \"\", \"exceptionClass\": \"\", \"trace\": \"\"}}, \"*\")"
      ],
      "text/plain": [
       "<IPython.core.display.Javascript object>"
      ]
     },
     "metadata": {},
     "output_type": "display_data"
    },
    {
     "data": {
      "text/markdown": [
       "<span style=\"color:#33cc33\">Correct</span>"
      ],
      "text/plain": [
       "Correct"
      ]
     },
     "metadata": {},
     "output_type": "display_data"
    }
   ],
   "source": [
    "def cost_of_project(engraving, solid_gold):\n",
    "    if solid_gold == True:\n",
    "        cost = 100\n",
    "        cost += len(engraving) * 10\n",
    "    else:\n",
    "        cost = 50\n",
    "        cost += len(engraving) * 7\n",
    "    return cost\n",
    "\n",
    "\n",
    "# Check your answer\n",
    "q2.check()"
   ]
  },
  {
   "cell_type": "code",
   "execution_count": 5,
   "id": "d677d769",
   "metadata": {
    "execution": {
     "iopub.execute_input": "2023-06-10T08:10:42.990105Z",
     "iopub.status.busy": "2023-06-10T08:10:42.989710Z",
     "iopub.status.idle": "2023-06-10T08:10:42.994544Z",
     "shell.execute_reply": "2023-06-10T08:10:42.993442Z"
    },
    "papermill": {
     "duration": 0.01813,
     "end_time": "2023-06-10T08:10:42.996756",
     "exception": false,
     "start_time": "2023-06-10T08:10:42.978626",
     "status": "completed"
    },
    "tags": []
   },
   "outputs": [],
   "source": [
    "# Uncomment to see a hint\n",
    "#q2.hint()\n",
    "\n",
    "# Uncomment to see the solution\n",
    "#q2.solution()"
   ]
  },
  {
   "cell_type": "markdown",
   "id": "5cea86a7",
   "metadata": {
    "papermill": {
     "duration": 0.009197,
     "end_time": "2023-06-10T08:10:43.015378",
     "exception": false,
     "start_time": "2023-06-10T08:10:43.006181",
     "status": "completed"
    },
    "tags": []
   },
   "source": [
    "# Question 3\n",
    "\n",
    "You are a programmer at a water agency.  Recently, you have been tasked to write a function `get_water_bill()` that takes as input:\n",
    "- `num_gallons` = the number of gallons of water that a customer used that month.  (This will always be an integer with no decimal part.)\n",
    "\n",
    "It should output the water bill.  \n",
    "\n",
    "The water agency uses this pricing structure:\n",
    "<table style=\"width: 100%;\">\n",
    "<tbody>\n",
    "<tr><th><b>Tier</b></th><th><b>Amount in gallons</b></th><th><b>Price per 1000 gallons</b></th></tr>\n",
    "<tr>\n",
    "<td>Tier 1</td>\n",
    "<td>0 - 8,000</td>\n",
    "<td>\\$5</td>\n",
    "</tr>\n",
    "<tr>\n",
    "<td>Tier 2</td>\n",
    "<td>8,001 - 22,000</td>\n",
    "<td>\\$6</td>\n",
    "</tr>\n",
    "<tr>\n",
    "<td>Tier 3</td>\n",
    "<td>22,001 - 30,000</td>\n",
    "<td>\\$7</td>\n",
    "</tr>\n",
    "<tr>\n",
    "<td>Tier 4</td>\n",
    "<td>30,001+</td>\n",
    "<td>\\$10</td>\n",
    "</tr>\n",
    "</tbody>\n",
    "</table>\n",
    "\n",
    "For example: \n",
    "- Someone who uses 10,000 gallons of water in a month is placed in Tier 2, and needs to pay a water bill of \\\\$6 * 10 = \\\\$60.  In other words, `get_water_bill(10000)` should return `60.0`.\n",
    "- Someone who uses 25,000 gallons of water in a month is placed in Tier 3, and needs to pay a water bill of \\\\$7 * 25 = \\\\$175.  In other words, `get_water_bill(25000)` should return `175.0`.\n",
    "\n",
    "**Do not round your answer.**  So, your answer might return fractions of a penny."
   ]
  },
  {
   "cell_type": "code",
   "execution_count": 6,
   "id": "bec8d67c",
   "metadata": {
    "execution": {
     "iopub.execute_input": "2023-06-10T08:10:43.036584Z",
     "iopub.status.busy": "2023-06-10T08:10:43.036181Z",
     "iopub.status.idle": "2023-06-10T08:10:43.046960Z",
     "shell.execute_reply": "2023-06-10T08:10:43.046044Z"
    },
    "papermill": {
     "duration": 0.023719,
     "end_time": "2023-06-10T08:10:43.049087",
     "exception": false,
     "start_time": "2023-06-10T08:10:43.025368",
     "status": "completed"
    },
    "tags": []
   },
   "outputs": [
    {
     "data": {
      "application/javascript": [
       "parent.postMessage({\"jupyterEvent\": \"custom.exercise_interaction\", \"data\": {\"outcomeType\": 1, \"valueTowardsCompletion\": 0.2, \"interactionType\": 1, \"questionType\": 2, \"questionId\": \"3_GetWaterBill\", \"learnToolsVersion\": \"0.3.4\", \"failureMessage\": \"\", \"exceptionClass\": \"\", \"trace\": \"\"}}, \"*\")"
      ],
      "text/plain": [
       "<IPython.core.display.Javascript object>"
      ]
     },
     "metadata": {},
     "output_type": "display_data"
    },
    {
     "data": {
      "text/markdown": [
       "<span style=\"color:#33cc33\">Correct</span>"
      ],
      "text/plain": [
       "Correct"
      ]
     },
     "metadata": {},
     "output_type": "display_data"
    }
   ],
   "source": [
    "# TODO: Edit the function to return the correct bill for different\n",
    "# values of num_gallons\n",
    "def get_water_bill(num_gallons):\n",
    "    if num_gallons > 30000:\n",
    "        return (num_gallons / 1000) * 10\n",
    "    elif num_gallons > 22000:\n",
    "        return (num_gallons / 1000) * 7\n",
    "    elif num_gallons > 8000:\n",
    "        return (num_gallons / 1000) * 6\n",
    "    else:\n",
    "        return (num_gallons / 1000) * 5\n",
    "    \n",
    "    \n",
    "    bill = 1000\n",
    "    return bill\n",
    "\n",
    "# Check your answer\n",
    "q3.check()"
   ]
  },
  {
   "cell_type": "code",
   "execution_count": 7,
   "id": "14887553",
   "metadata": {
    "execution": {
     "iopub.execute_input": "2023-06-10T08:10:43.071233Z",
     "iopub.status.busy": "2023-06-10T08:10:43.070839Z",
     "iopub.status.idle": "2023-06-10T08:10:43.074784Z",
     "shell.execute_reply": "2023-06-10T08:10:43.073876Z"
    },
    "papermill": {
     "duration": 0.017971,
     "end_time": "2023-06-10T08:10:43.076979",
     "exception": false,
     "start_time": "2023-06-10T08:10:43.059008",
     "status": "completed"
    },
    "tags": []
   },
   "outputs": [],
   "source": [
    "# Uncomment to see a hint\n",
    "#q3.hint()\n",
    "\n",
    "# Uncomment to see the solution\n",
    "#q3.solution()"
   ]
  },
  {
   "cell_type": "markdown",
   "id": "511f74f3",
   "metadata": {
    "papermill": {
     "duration": 0.009727,
     "end_time": "2023-06-10T08:10:43.096741",
     "exception": false,
     "start_time": "2023-06-10T08:10:43.087014",
     "status": "completed"
    },
    "tags": []
   },
   "source": [
    "# Question 4\n",
    "\n",
    "You work for a company that provides data services.  For \\\\$100/month, your company provides 15 gigabytes (GB) of data.  Then, any additional data is billed at \\\\$0.10/MB (or \\\\$100/GB, since 1,000 MB are in 1 GB).\n",
    "\n",
    "Use the next code cell to write a function `get_phone_bill()` that takes as input:\n",
    "- `gb` = number of GB that the customer used in a month\n",
    "\n",
    "It should return the customer's total phone bill.\n",
    "\n",
    "For instance:\n",
    "- A customer who uses 10 GB of data in one month is billed only \\\\$100, since the usage stayed under 15 GB.  In other words, `get_phone_bill(10)` should return `100`.\n",
    "- A customer who uses 15.1 GB (or 15 GB + 100 MB) of data in one month has gone over by .1 GB, so they must pay \\\\$100 (cost of plan), plus \\\\$0.10 * 100 = \\\\$10, for a total bill of \\\\$110.  In other words, `get_phone_bill(15.1)` should return `110`.\n",
    "\n",
    "Do not round your answer."
   ]
  },
  {
   "cell_type": "code",
   "execution_count": 8,
   "id": "acb7cb9d",
   "metadata": {
    "execution": {
     "iopub.execute_input": "2023-06-10T08:10:43.118861Z",
     "iopub.status.busy": "2023-06-10T08:10:43.118272Z",
     "iopub.status.idle": "2023-06-10T08:10:43.127575Z",
     "shell.execute_reply": "2023-06-10T08:10:43.126474Z"
    },
    "papermill": {
     "duration": 0.023069,
     "end_time": "2023-06-10T08:10:43.129914",
     "exception": false,
     "start_time": "2023-06-10T08:10:43.106845",
     "status": "completed"
    },
    "tags": []
   },
   "outputs": [
    {
     "data": {
      "application/javascript": [
       "parent.postMessage({\"jupyterEvent\": \"custom.exercise_interaction\", \"data\": {\"outcomeType\": 1, \"valueTowardsCompletion\": 0.2, \"interactionType\": 1, \"questionType\": 2, \"questionId\": \"4_GetPhoneBill\", \"learnToolsVersion\": \"0.3.4\", \"failureMessage\": \"\", \"exceptionClass\": \"\", \"trace\": \"\"}}, \"*\")"
      ],
      "text/plain": [
       "<IPython.core.display.Javascript object>"
      ]
     },
     "metadata": {},
     "output_type": "display_data"
    },
    {
     "data": {
      "text/markdown": [
       "<span style=\"color:#33cc33\">Correct</span>"
      ],
      "text/plain": [
       "Correct"
      ]
     },
     "metadata": {},
     "output_type": "display_data"
    }
   ],
   "source": [
    "# TODO: Edit the function to return the correct bill for different\n",
    "# values of GB\n",
    "def get_phone_bill(gb):\n",
    "    bill = 100\n",
    "    \n",
    "    if gb > 15:\n",
    "        gb -= 15\n",
    "        bill += gb * 100\n",
    "    \n",
    "    return bill\n",
    "\n",
    "# Check your answer\n",
    "q4.check()"
   ]
  },
  {
   "cell_type": "code",
   "execution_count": 9,
   "id": "234b62c3",
   "metadata": {
    "execution": {
     "iopub.execute_input": "2023-06-10T08:10:43.152432Z",
     "iopub.status.busy": "2023-06-10T08:10:43.151792Z",
     "iopub.status.idle": "2023-06-10T08:10:43.156554Z",
     "shell.execute_reply": "2023-06-10T08:10:43.155461Z"
    },
    "papermill": {
     "duration": 0.018734,
     "end_time": "2023-06-10T08:10:43.158888",
     "exception": false,
     "start_time": "2023-06-10T08:10:43.140154",
     "status": "completed"
    },
    "tags": []
   },
   "outputs": [],
   "source": [
    "# Uncomment to see a hint\n",
    "#q4.hint()\n",
    "\n",
    "# Uncomment to see the solution\n",
    "#q4.solution()"
   ]
  },
  {
   "cell_type": "markdown",
   "id": "ab08ef3b",
   "metadata": {
    "papermill": {
     "duration": 0.009985,
     "end_time": "2023-06-10T08:10:43.179377",
     "exception": false,
     "start_time": "2023-06-10T08:10:43.169392",
     "status": "completed"
    },
    "tags": []
   },
   "source": [
    "# 🌶️ Question 5\n",
    "\n",
    "In Mexico, foods and beverages that are high in saturated fat, trans fat, sugar, sodium, and/or calories appear with warning labels that are designed to help consumers make healthy food choices.\n",
    "\n",
    "For instance, the [box of cookies](https://world.openfoodfacts.org/product/7501000673209/florentinas-gamesa) in the image below appears with two labels (in the upper right corner):\n",
    "- EXCESO CALORÍAS (in English, EXCESS CALORIES)\n",
    "- EXCESO AZÚCARES (in English, EXCESS SUGAR)\n",
    "\n",
    "<center><img src=\"https://storage.googleapis.com/kaggle-media/learn/images/VXYKHnM.png\" alt=\"drawing\" width=\"500\"/></center>\n",
    "\n",
    "In this question, you'll work with a function `get_labels()` that takes the nutritional details about a food item and prints the needed warning labels.  This function takes several inputs:\n",
    "- `food_type` = one of `\"solid\"` or `\"liquid\"`\n",
    "- `serving_size` = size of one serving (if solid, in grams; if liquid, in milliliters)\n",
    "- `calories_per_serving` = calories in one serving\n",
    "- `saturated_fat_g` = grams of saturated fat in one serving\n",
    "- `trans_fat_g` = grams of trans fat in one serving\n",
    "- `sodium_mg` = mg of sodium in one serving\n",
    "- `sugars_g` = grams of sugar in one serving\n",
    "\n",
    "Note that some of the code here should feel unfamiliar to you, since we have not shared the details of how some of the functions like `excess_sugar()` or `excess_saturated_fat()` work.  But at a high level, these are functions that return a value of `True` if the food is deemed to have an excess of sugar or saturated fat, respectively.  These functions are used within the `get_labels()` function, and whenever there is an excess (of sugar or saturated fat, but also of trans fat, sodium, or calories), it prints the corresponding label."
   ]
  },
  {
   "cell_type": "code",
   "execution_count": 10,
   "id": "e959cfa6",
   "metadata": {
    "execution": {
     "iopub.execute_input": "2023-06-10T08:10:43.202848Z",
     "iopub.status.busy": "2023-06-10T08:10:43.201704Z",
     "iopub.status.idle": "2023-06-10T08:10:43.211164Z",
     "shell.execute_reply": "2023-06-10T08:10:43.210317Z"
    },
    "papermill": {
     "duration": 0.023967,
     "end_time": "2023-06-10T08:10:43.213972",
     "exception": false,
     "start_time": "2023-06-10T08:10:43.190005",
     "status": "completed"
    },
    "tags": []
   },
   "outputs": [],
   "source": [
    "# import functions needed to make get_labels work\n",
    "from learntools.intro_to_programming.ex4q5 import excess_sugar, excess_saturated_fat, excess_trans_fat, excess_sodium, excess_calories\n",
    "\n",
    "def get_labels(food_type, serving_size, calories_per_serving, saturated_fat_g, trans_fat_g, sodium_mg, sugars_g):\n",
    "    # Print messages based on findings\n",
    "    if excess_sugar(sugars_g, calories_per_serving) == True:\n",
    "        print(\"EXCESO AZÚCARES / EXCESS SUGAR\")\n",
    "    if excess_saturated_fat(saturated_fat_g, calories_per_serving) == True:\n",
    "        print(\"EXCESO GRASAS SATURADAS / EXCESS SATURATED FAT\")\n",
    "    if excess_trans_fat(trans_fat_g, calories_per_serving) == True:\n",
    "        print(\"EXCESO GRASAS TRANS / EXCESS TRANS FAT\")\n",
    "    if excess_sodium(calories_per_serving, sodium_mg) == True:\n",
    "        print(\"EXCESO SODIO / EXCESS SODIUM\")\n",
    "    if excess_calories(food_type, calories_per_serving, serving_size) == True:\n",
    "        print(\"EXCESO CALORÍAS / EXCESS CALORIES\")"
   ]
  },
  {
   "cell_type": "markdown",
   "id": "201c8d95",
   "metadata": {
    "papermill": {
     "duration": 0.009917,
     "end_time": "2023-06-10T08:10:43.234119",
     "exception": false,
     "start_time": "2023-06-10T08:10:43.224202",
     "status": "completed"
    },
    "tags": []
   },
   "source": [
    "The next code cell demonstrates how to use `get_labels()` to get the warning labels that the food item should contain.  We begin with [bologna](https://world.openfoodfacts.org/product/4099100179378/bologna).  Here is [an image](https://storage.googleapis.com/kaggle-media/learn/images/Cfcx72e) with all of the nutritional information.  Note that for this food,\n",
    "- `food_type = \"solid\"` (because bologna is a solid and not a liquid)\n",
    "- `serving_size = 32` (the serving size is 32 grams)\n",
    "- `calories_per_serving = 110` (there are 110 calories per serving)\n",
    "- `saturated_fat_g = 2.5` (there are 2.5 grams of saturated fat per serving)\n",
    "- `trans_fat_g = 0` (there are 0 grams of trans fat per serving)\n",
    "- `sodium_mg = 400` (there are 400 mg of sodium per serving)\n",
    "- `sugars_g = 1` (the nutrition facts say <1g, but we will round it up to 1 gram per serving to be safe)\n",
    "\n",
    "By supplying all of these values to the function, we can print the warning labels."
   ]
  },
  {
   "cell_type": "code",
   "execution_count": 11,
   "id": "93544f0b",
   "metadata": {
    "execution": {
     "iopub.execute_input": "2023-06-10T08:10:43.256746Z",
     "iopub.status.busy": "2023-06-10T08:10:43.256362Z",
     "iopub.status.idle": "2023-06-10T08:10:43.262159Z",
     "shell.execute_reply": "2023-06-10T08:10:43.260931Z"
    },
    "papermill": {
     "duration": 0.019962,
     "end_time": "2023-06-10T08:10:43.264701",
     "exception": false,
     "start_time": "2023-06-10T08:10:43.244739",
     "status": "completed"
    },
    "tags": []
   },
   "outputs": [
    {
     "name": "stdout",
     "output_type": "stream",
     "text": [
      "EXCESO GRASAS SATURADAS / EXCESS SATURATED FAT\n",
      "EXCESO SODIO / EXCESS SODIUM\n",
      "EXCESO CALORÍAS / EXCESS CALORIES\n"
     ]
    }
   ],
   "source": [
    "# bologna https://world.openfoodfacts.org/product/4099100179378/bologna\n",
    "get_labels(\"solid\", 32, 110, 2.5, 0, 400, 1)"
   ]
  },
  {
   "cell_type": "markdown",
   "id": "fbcaf25c",
   "metadata": {
    "papermill": {
     "duration": 0.009893,
     "end_time": "2023-06-10T08:10:43.284904",
     "exception": false,
     "start_time": "2023-06-10T08:10:43.275011",
     "status": "completed"
    },
    "tags": []
   },
   "source": [
    "This bologna has three labels, printed in the output above.\n",
    "\n",
    "For the rest of this question, you will use the same `get_labels()` function to determine the labels for more foods.  This question is designed to help you get practice with feeling comfortable with code that other people have written, and where you don't have time to review every single line of code before interacting with it.  For instance, when you take the [Intro to Machine Learning course](http://www.kaggle.com/learn/intro-to-machine-learning), you'll work with a Python package called \"scikit-learn\", which is a large collection of code that you'll learn how to run without reviewing all of the code in detail (as it would take too long, and you can trust that it was implemented correctly).\n",
    "\n",
    "In general, as you continue coding in Python, you will often be running code that other people have written.  This is common practice for advanced programmers.\n",
    "\n",
    "In the next code cell, fill in the values for [this cereal](https://world.openfoodfacts.org/product/7501008023624/zucaritas-kellogg-s).  Here is [an image](https://storage.googleapis.com/kaggle-media/learn/images/MUxzHVU) with all of the nutritional information.\n",
    "\n",
    "**Note**: running the line of code below as-is will return an error.  You have to fill in the nutritional values first."
   ]
  },
  {
   "cell_type": "code",
   "execution_count": 12,
   "id": "6bd86ac8",
   "metadata": {
    "execution": {
     "iopub.execute_input": "2023-06-10T08:10:43.307439Z",
     "iopub.status.busy": "2023-06-10T08:10:43.307055Z",
     "iopub.status.idle": "2023-06-10T08:10:43.312736Z",
     "shell.execute_reply": "2023-06-10T08:10:43.311438Z"
    },
    "papermill": {
     "duration": 0.020034,
     "end_time": "2023-06-10T08:10:43.315199",
     "exception": false,
     "start_time": "2023-06-10T08:10:43.295165",
     "status": "completed"
    },
    "tags": []
   },
   "outputs": [
    {
     "name": "stdout",
     "output_type": "stream",
     "text": [
      "EXCESO GRASAS SATURADAS / EXCESS SATURATED FAT\n",
      "EXCESO SODIO / EXCESS SODIUM\n",
      "EXCESO CALORÍAS / EXCESS CALORIES\n"
     ]
    }
   ],
   "source": [
    "# zucaritas cereal https://world.openfoodfacts.org/product/7501008023624/zucaritas-kellogg-s\n",
    "# TODO: Uncomment the line below, fill in the values, and run the function\n",
    "get_labels(\"solid\", 32, 110, 2.5, 0, 400, 1)"
   ]
  },
  {
   "cell_type": "markdown",
   "id": "a3cefb9d",
   "metadata": {
    "papermill": {
     "duration": 0.009948,
     "end_time": "2023-06-10T08:10:43.335553",
     "exception": false,
     "start_time": "2023-06-10T08:10:43.325605",
     "status": "completed"
    },
    "tags": []
   },
   "source": [
    "Next, try [these mozzarella sticks](https://world-es.openfoodfacts.org/producto/0062325540104/mozzarella-cheese-sticks).  Here is [an image](https://storage.googleapis.com/kaggle-media/learn/images/rcdB7VH) with all of the nutritional information."
   ]
  },
  {
   "cell_type": "code",
   "execution_count": 13,
   "id": "4e773d95",
   "metadata": {
    "execution": {
     "iopub.execute_input": "2023-06-10T08:10:43.357825Z",
     "iopub.status.busy": "2023-06-10T08:10:43.357441Z",
     "iopub.status.idle": "2023-06-10T08:10:43.361740Z",
     "shell.execute_reply": "2023-06-10T08:10:43.360605Z"
    },
    "papermill": {
     "duration": 0.017986,
     "end_time": "2023-06-10T08:10:43.363867",
     "exception": false,
     "start_time": "2023-06-10T08:10:43.345881",
     "status": "completed"
    },
    "tags": []
   },
   "outputs": [],
   "source": [
    "# mozzarella sticks https://world-es.openfoodfacts.org/producto/0062325540104/mozzarella-cheese-sticks\n",
    "# TODO: Uncomment the line below, fill in the values, and run the function\n",
    "#get_labels()"
   ]
  },
  {
   "cell_type": "markdown",
   "id": "b156647c",
   "metadata": {
    "papermill": {
     "duration": 0.010112,
     "end_time": "2023-06-10T08:10:43.384260",
     "exception": false,
     "start_time": "2023-06-10T08:10:43.374148",
     "status": "completed"
    },
    "tags": []
   },
   "source": [
    "Feel free to skip to the end of the notebook now and run `q5.check()` to complete the exercise.  If you want to try more foods, \n",
    "- try [these cookies](https://world.openfoodfacts.org/product/0069700118545/biscuits-au-sucre-pretraches).  Here is [an image](https://storage.googleapis.com/kaggle-media/learn/images/2Bc271o) with all of the nutritional information.\n",
    "- try [this soda](https://world-es.openfoodfacts.org/producto/0078000113464/orange-soda-sunkist).  Here is [an image](https://storage.googleapis.com/kaggle-media/learn/images/RsBYa8E) with all of the nutritional information.\n",
    "\n",
    "Use the two code cells below for this."
   ]
  },
  {
   "cell_type": "code",
   "execution_count": 14,
   "id": "a9f4723e",
   "metadata": {
    "execution": {
     "iopub.execute_input": "2023-06-10T08:10:43.406457Z",
     "iopub.status.busy": "2023-06-10T08:10:43.406071Z",
     "iopub.status.idle": "2023-06-10T08:10:43.410578Z",
     "shell.execute_reply": "2023-06-10T08:10:43.409401Z"
    },
    "papermill": {
     "duration": 0.018292,
     "end_time": "2023-06-10T08:10:43.412761",
     "exception": false,
     "start_time": "2023-06-10T08:10:43.394469",
     "status": "completed"
    },
    "tags": []
   },
   "outputs": [],
   "source": [
    "# pillsbury cookies https://world.openfoodfacts.org/product/0069700118545/biscuits-au-sucre-pretraches\n",
    "# TODO: Uncomment the line below, fill in the values, and run the function\n",
    "#get_labels()"
   ]
  },
  {
   "cell_type": "code",
   "execution_count": 15,
   "id": "a2b367fe",
   "metadata": {
    "execution": {
     "iopub.execute_input": "2023-06-10T08:10:43.435422Z",
     "iopub.status.busy": "2023-06-10T08:10:43.434676Z",
     "iopub.status.idle": "2023-06-10T08:10:43.438834Z",
     "shell.execute_reply": "2023-06-10T08:10:43.438066Z"
    },
    "papermill": {
     "duration": 0.017784,
     "end_time": "2023-06-10T08:10:43.440923",
     "exception": false,
     "start_time": "2023-06-10T08:10:43.423139",
     "status": "completed"
    },
    "tags": []
   },
   "outputs": [],
   "source": [
    "# sunkist orange soda https://world-es.openfoodfacts.org/producto/0078000113464/orange-soda-sunkist\n",
    "# TODO: Uncomment the line below, fill in the values, and run the function\n",
    "#get_labels()"
   ]
  },
  {
   "cell_type": "markdown",
   "id": "a952e2b6",
   "metadata": {
    "papermill": {
     "duration": 0.009942,
     "end_time": "2023-06-10T08:10:43.461232",
     "exception": false,
     "start_time": "2023-06-10T08:10:43.451290",
     "status": "completed"
    },
    "tags": []
   },
   "source": [
    "Once you have finished investigating the food items in this question, run the final code cell to get credit for completing this problem."
   ]
  },
  {
   "cell_type": "code",
   "execution_count": 16,
   "id": "946816e1",
   "metadata": {
    "execution": {
     "iopub.execute_input": "2023-06-10T08:10:43.483736Z",
     "iopub.status.busy": "2023-06-10T08:10:43.483068Z",
     "iopub.status.idle": "2023-06-10T08:10:43.491408Z",
     "shell.execute_reply": "2023-06-10T08:10:43.490415Z"
    },
    "papermill": {
     "duration": 0.022273,
     "end_time": "2023-06-10T08:10:43.493810",
     "exception": false,
     "start_time": "2023-06-10T08:10:43.471537",
     "status": "completed"
    },
    "tags": []
   },
   "outputs": [
    {
     "data": {
      "application/javascript": [
       "parent.postMessage({\"jupyterEvent\": \"custom.exercise_interaction\", \"data\": {\"outcomeType\": 1, \"valueTowardsCompletion\": 0.2, \"interactionType\": 1, \"questionType\": 2, \"questionId\": \"5_GetLabels\", \"learnToolsVersion\": \"0.3.4\", \"failureMessage\": \"\", \"exceptionClass\": \"\", \"trace\": \"\"}}, \"*\")"
      ],
      "text/plain": [
       "<IPython.core.display.Javascript object>"
      ]
     },
     "metadata": {},
     "output_type": "display_data"
    },
    {
     "data": {
      "text/markdown": [
       "<span style=\"color:#33cc33\">Once you have determined the labels for all of the food items, you're ready to move on to the next lesson!</span>"
      ],
      "text/plain": [
       "Once you have determined the labels for all of the food items, you're ready to move on to the next lesson!"
      ]
     },
     "metadata": {},
     "output_type": "display_data"
    }
   ],
   "source": [
    "# Get credit for completing the problem\n",
    "q5.check()"
   ]
  },
  {
   "cell_type": "markdown",
   "id": "d7338437",
   "metadata": {
    "papermill": {
     "duration": 0.010739,
     "end_time": "2023-06-10T08:10:43.515736",
     "exception": false,
     "start_time": "2023-06-10T08:10:43.504997",
     "status": "completed"
    },
    "tags": []
   },
   "source": [
    "# Keep going\n",
    "\n",
    "Continue to the next lesson to **[learn about Python lists](https://www.kaggle.com/alexisbcook/intro-to-lists)**."
   ]
  },
  {
   "cell_type": "markdown",
   "id": "6f83013d",
   "metadata": {
    "papermill": {
     "duration": 0.010478,
     "end_time": "2023-06-10T08:10:43.536875",
     "exception": false,
     "start_time": "2023-06-10T08:10:43.526397",
     "status": "completed"
    },
    "tags": []
   },
   "source": [
    "---\n",
    "\n",
    "\n",
    "\n",
    "\n",
    "*Have questions or comments? Visit the [course discussion forum](https://www.kaggle.com/learn/intro-to-programming/discussion) to chat with other learners.*"
   ]
  }
 ],
 "metadata": {
  "kernelspec": {
   "display_name": "Python 3",
   "language": "python",
   "name": "python3"
  },
  "language_info": {
   "codemirror_mode": {
    "name": "ipython",
    "version": 3
   },
   "file_extension": ".py",
   "mimetype": "text/x-python",
   "name": "python",
   "nbconvert_exporter": "python",
   "pygments_lexer": "ipython3",
   "version": "3.10.10"
  },
  "papermill": {
   "default_parameters": {},
   "duration": 14.077699,
   "end_time": "2023-06-10T08:10:44.368642",
   "environment_variables": {},
   "exception": null,
   "input_path": "__notebook__.ipynb",
   "output_path": "__notebook__.ipynb",
   "parameters": {},
   "start_time": "2023-06-10T08:10:30.290943",
   "version": "2.4.0"
  }
 },
 "nbformat": 4,
 "nbformat_minor": 5
}
