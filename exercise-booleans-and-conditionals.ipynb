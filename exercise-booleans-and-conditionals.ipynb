{
 "cells": [
  {
   "cell_type": "markdown",
   "id": "d339d82e",
   "metadata": {
    "papermill": {
     "duration": 0.015129,
     "end_time": "2023-06-10T07:47:43.252353",
     "exception": false,
     "start_time": "2023-06-10T07:47:43.237224",
     "status": "completed"
    },
    "tags": []
   },
   "source": [
    "**This notebook is an exercise in the [Python](https://www.kaggle.com/learn/python) course.  You can reference the tutorial at [this link](https://www.kaggle.com/colinmorris/booleans-and-conditionals).**\n",
    "\n",
    "---\n"
   ]
  },
  {
   "cell_type": "markdown",
   "id": "11d67065",
   "metadata": {
    "papermill": {
     "duration": 0.011019,
     "end_time": "2023-06-10T07:47:43.275024",
     "exception": false,
     "start_time": "2023-06-10T07:47:43.264005",
     "status": "completed"
    },
    "tags": []
   },
   "source": [
    "In this exercise, you'll put to work what you have learned about booleans and conditionals.\n",
    "\n",
    "To get started, **run the setup code below** before writing your own code (and if you leave this notebook and come back later, don't forget to run the setup code again)."
   ]
  },
  {
   "cell_type": "code",
   "execution_count": 1,
   "id": "04d80bf7",
   "metadata": {
    "execution": {
     "iopub.execute_input": "2023-06-10T07:47:43.301334Z",
     "iopub.status.busy": "2023-06-10T07:47:43.300434Z",
     "iopub.status.idle": "2023-06-10T07:47:43.354515Z",
     "shell.execute_reply": "2023-06-10T07:47:43.353125Z"
    },
    "papermill": {
     "duration": 0.070487,
     "end_time": "2023-06-10T07:47:43.357468",
     "exception": false,
     "start_time": "2023-06-10T07:47:43.286981",
     "status": "completed"
    },
    "tags": []
   },
   "outputs": [
    {
     "name": "stdout",
     "output_type": "stream",
     "text": [
      "Setup complete.\n"
     ]
    }
   ],
   "source": [
    "from learntools.core import binder; binder.bind(globals())\n",
    "from learntools.python.ex3 import *\n",
    "print('Setup complete.')"
   ]
  },
  {
   "cell_type": "markdown",
   "id": "7f01ec91",
   "metadata": {
    "papermill": {
     "duration": 0.011024,
     "end_time": "2023-06-10T07:47:43.381480",
     "exception": false,
     "start_time": "2023-06-10T07:47:43.370456",
     "status": "completed"
    },
    "tags": []
   },
   "source": [
    "# 1.\n",
    "\n",
    "Many programming languages have [`sign`](https://en.wikipedia.org/wiki/Sign_function) available as a built-in function. Python doesn't, but we can define our own!\n",
    "\n",
    "In the cell below, define a function called `sign` which takes a numerical argument and returns -1 if it's negative, 1 if it's positive, and 0 if it's 0."
   ]
  },
  {
   "cell_type": "code",
   "execution_count": 2,
   "id": "a84d0ce8",
   "metadata": {
    "execution": {
     "iopub.execute_input": "2023-06-10T07:47:43.406109Z",
     "iopub.status.busy": "2023-06-10T07:47:43.405676Z",
     "iopub.status.idle": "2023-06-10T07:47:43.417601Z",
     "shell.execute_reply": "2023-06-10T07:47:43.416398Z"
    },
    "papermill": {
     "duration": 0.027063,
     "end_time": "2023-06-10T07:47:43.419993",
     "exception": false,
     "start_time": "2023-06-10T07:47:43.392930",
     "status": "completed"
    },
    "tags": []
   },
   "outputs": [
    {
     "data": {
      "application/javascript": [
       "parent.postMessage({\"jupyterEvent\": \"custom.exercise_interaction\", \"data\": {\"outcomeType\": 1, \"valueTowardsCompletion\": 0.2, \"interactionType\": 1, \"questionType\": 2, \"questionId\": \"1_SignFunctionProblem\", \"learnToolsVersion\": \"0.3.4\", \"failureMessage\": \"\", \"exceptionClass\": \"\", \"trace\": \"\"}}, \"*\")"
      ],
      "text/plain": [
       "<IPython.core.display.Javascript object>"
      ]
     },
     "metadata": {},
     "output_type": "display_data"
    },
    {
     "data": {
      "text/markdown": [
       "<span style=\"color:#33cc33\">Correct</span>"
      ],
      "text/plain": [
       "Correct"
      ]
     },
     "metadata": {},
     "output_type": "display_data"
    }
   ],
   "source": [
    "# Your code goes here. Define a function called 'sign'\n",
    "def sign(num):\n",
    "    if(num > 0):\n",
    "        return 1\n",
    "    elif(num < 0):\n",
    "        return -1\n",
    "    else:\n",
    "        return 0\n",
    "\n",
    "# Check your answer\n",
    "q1.check()"
   ]
  },
  {
   "cell_type": "code",
   "execution_count": 3,
   "id": "88409595",
   "metadata": {
    "execution": {
     "iopub.execute_input": "2023-06-10T07:47:43.446581Z",
     "iopub.status.busy": "2023-06-10T07:47:43.445470Z",
     "iopub.status.idle": "2023-06-10T07:47:43.451285Z",
     "shell.execute_reply": "2023-06-10T07:47:43.450019Z"
    },
    "papermill": {
     "duration": 0.021814,
     "end_time": "2023-06-10T07:47:43.453670",
     "exception": false,
     "start_time": "2023-06-10T07:47:43.431856",
     "status": "completed"
    },
    "tags": []
   },
   "outputs": [],
   "source": [
    "# q1.solution()"
   ]
  },
  {
   "cell_type": "markdown",
   "id": "0f1e432d",
   "metadata": {
    "papermill": {
     "duration": 0.011655,
     "end_time": "2023-06-10T07:47:43.477574",
     "exception": false,
     "start_time": "2023-06-10T07:47:43.465919",
     "status": "completed"
    },
    "tags": []
   },
   "source": [
    "# 2.\n",
    "\n",
    "We've decided to add \"logging\" to our `to_smash` function from the previous exercise."
   ]
  },
  {
   "cell_type": "code",
   "execution_count": 4,
   "id": "544ad96f",
   "metadata": {
    "execution": {
     "iopub.execute_input": "2023-06-10T07:47:43.503697Z",
     "iopub.status.busy": "2023-06-10T07:47:43.503013Z",
     "iopub.status.idle": "2023-06-10T07:47:43.511344Z",
     "shell.execute_reply": "2023-06-10T07:47:43.510542Z"
    },
    "papermill": {
     "duration": 0.023957,
     "end_time": "2023-06-10T07:47:43.513525",
     "exception": false,
     "start_time": "2023-06-10T07:47:43.489568",
     "status": "completed"
    },
    "tags": []
   },
   "outputs": [
    {
     "name": "stdout",
     "output_type": "stream",
     "text": [
      "Splitting 91 candies\n"
     ]
    },
    {
     "data": {
      "text/plain": [
       "1"
      ]
     },
     "execution_count": 4,
     "metadata": {},
     "output_type": "execute_result"
    }
   ],
   "source": [
    "def to_smash(total_candies):\n",
    "    \"\"\"Return the number of leftover candies that must be smashed after distributing\n",
    "    the given number of candies evenly between 3 friends.\n",
    "    \n",
    "    >>> to_smash(91)\n",
    "    1\n",
    "    \"\"\"\n",
    "    print(\"Splitting\", total_candies, \"candies\")\n",
    "    return total_candies % 3\n",
    "\n",
    "to_smash(91)"
   ]
  },
  {
   "cell_type": "markdown",
   "id": "c99e5a9b",
   "metadata": {
    "papermill": {
     "duration": 0.01214,
     "end_time": "2023-06-10T07:47:43.538150",
     "exception": false,
     "start_time": "2023-06-10T07:47:43.526010",
     "status": "completed"
    },
    "tags": []
   },
   "source": [
    "What happens if we call it with `total_candies = 1`?"
   ]
  },
  {
   "cell_type": "code",
   "execution_count": 5,
   "id": "1355d81d",
   "metadata": {
    "execution": {
     "iopub.execute_input": "2023-06-10T07:47:43.565000Z",
     "iopub.status.busy": "2023-06-10T07:47:43.564305Z",
     "iopub.status.idle": "2023-06-10T07:47:43.571712Z",
     "shell.execute_reply": "2023-06-10T07:47:43.570964Z"
    },
    "papermill": {
     "duration": 0.022952,
     "end_time": "2023-06-10T07:47:43.573900",
     "exception": false,
     "start_time": "2023-06-10T07:47:43.550948",
     "status": "completed"
    },
    "tags": []
   },
   "outputs": [
    {
     "name": "stdout",
     "output_type": "stream",
     "text": [
      "Splitting 1 candies\n"
     ]
    },
    {
     "data": {
      "text/plain": [
       "1"
      ]
     },
     "execution_count": 5,
     "metadata": {},
     "output_type": "execute_result"
    }
   ],
   "source": [
    "to_smash(1)"
   ]
  },
  {
   "cell_type": "markdown",
   "id": "bf0322b4",
   "metadata": {
    "papermill": {
     "duration": 0.012811,
     "end_time": "2023-06-10T07:47:43.599052",
     "exception": false,
     "start_time": "2023-06-10T07:47:43.586241",
     "status": "completed"
    },
    "tags": []
   },
   "source": [
    "That isn't great grammar!\n",
    "\n",
    "Modify the definition in the cell below to correct the grammar of our print statement. (If there's only one candy, we should use the singular \"candy\" instead of the plural \"candies\")"
   ]
  },
  {
   "cell_type": "code",
   "execution_count": 6,
   "id": "504810e3",
   "metadata": {
    "execution": {
     "iopub.execute_input": "2023-06-10T07:47:43.626531Z",
     "iopub.status.busy": "2023-06-10T07:47:43.625563Z",
     "iopub.status.idle": "2023-06-10T07:47:43.634907Z",
     "shell.execute_reply": "2023-06-10T07:47:43.633902Z"
    },
    "papermill": {
     "duration": 0.026207,
     "end_time": "2023-06-10T07:47:43.637768",
     "exception": false,
     "start_time": "2023-06-10T07:47:43.611561",
     "status": "completed"
    },
    "tags": []
   },
   "outputs": [
    {
     "name": "stdout",
     "output_type": "stream",
     "text": [
      "Splitting 91 candies\n",
      "Splitting 1 candy\n"
     ]
    },
    {
     "data": {
      "text/plain": [
       "1"
      ]
     },
     "execution_count": 6,
     "metadata": {},
     "output_type": "execute_result"
    }
   ],
   "source": [
    "def to_smash(total_candies):\n",
    "    \"\"\"Return the number of leftover candies that must be smashed after distributing\n",
    "    the given number of candies evenly between 3 friends.\n",
    "    \n",
    "    >>> to_smash(91)\n",
    "    1\n",
    "    \"\"\"\n",
    "    print(\"Splitting\", total_candies, \"candy\" if total_candies == 1 else \"candies\")\n",
    "    return total_candies % 3\n",
    "\n",
    "to_smash(91)\n",
    "to_smash(1)"
   ]
  },
  {
   "cell_type": "markdown",
   "id": "01b55a83",
   "metadata": {
    "papermill": {
     "duration": 0.011971,
     "end_time": "2023-06-10T07:47:43.662244",
     "exception": false,
     "start_time": "2023-06-10T07:47:43.650273",
     "status": "completed"
    },
    "tags": []
   },
   "source": [
    "To get credit for completing this problem, and to see the official answer, run the code cell below."
   ]
  },
  {
   "cell_type": "code",
   "execution_count": 7,
   "id": "7fda4f8e",
   "metadata": {
    "execution": {
     "iopub.execute_input": "2023-06-10T07:47:43.689420Z",
     "iopub.status.busy": "2023-06-10T07:47:43.688760Z",
     "iopub.status.idle": "2023-06-10T07:47:43.697317Z",
     "shell.execute_reply": "2023-06-10T07:47:43.696478Z"
    },
    "papermill": {
     "duration": 0.024418,
     "end_time": "2023-06-10T07:47:43.699453",
     "exception": false,
     "start_time": "2023-06-10T07:47:43.675035",
     "status": "completed"
    },
    "tags": []
   },
   "outputs": [
    {
     "data": {
      "application/javascript": [
       "parent.postMessage({\"jupyterEvent\": \"custom.exercise_interaction\", \"data\": {\"interactionType\": 3, \"questionType\": 4, \"questionId\": \"2_PluralizationProblem\", \"learnToolsVersion\": \"0.3.4\", \"valueTowardsCompletion\": 0.0, \"failureMessage\": \"\", \"exceptionClass\": \"\", \"trace\": \"\", \"outcomeType\": 4}}, \"*\")"
      ],
      "text/plain": [
       "<IPython.core.display.Javascript object>"
      ]
     },
     "metadata": {},
     "output_type": "display_data"
    },
    {
     "data": {
      "text/markdown": [
       "<span style=\"color:#33cc99\">Solution:</span> A straightforward (and totally fine) solution is to replace the original `print` call with:\n",
       "\n",
       "```python\n",
       "if total_candies == 1:\n",
       "    print(\"Splitting 1 candy\")\n",
       "else:\n",
       "    print(\"Splitting\", total_candies, \"candies\")\n",
       "```\n",
       "\n",
       "Here's a slightly more succinct solution using a conditional expression:\n",
       "\n",
       "```python\n",
       "print(\"Splitting\", total_candies, \"candy\" if total_candies == 1 else \"candies\")\n",
       "```"
      ],
      "text/plain": [
       "Solution: A straightforward (and totally fine) solution is to replace the original `print` call with:\n",
       "\n",
       "```python\n",
       "if total_candies == 1:\n",
       "    print(\"Splitting 1 candy\")\n",
       "else:\n",
       "    print(\"Splitting\", total_candies, \"candies\")\n",
       "```\n",
       "\n",
       "Here's a slightly more succinct solution using a conditional expression:\n",
       "\n",
       "```python\n",
       "print(\"Splitting\", total_candies, \"candy\" if total_candies == 1 else \"candies\")\n",
       "```"
      ]
     },
     "metadata": {},
     "output_type": "display_data"
    }
   ],
   "source": [
    "# Check your answer (Run this code cell to receive credit!)\n",
    "q2.solution()"
   ]
  },
  {
   "cell_type": "markdown",
   "id": "b6baada5",
   "metadata": {
    "papermill": {
     "duration": 0.012035,
     "end_time": "2023-06-10T07:47:43.724085",
     "exception": false,
     "start_time": "2023-06-10T07:47:43.712050",
     "status": "completed"
    },
    "tags": []
   },
   "source": [
    "# 3. <span title=\"A bit spicy\" style=\"color: darkgreen \">🌶️</span>\n",
    "\n",
    "In the tutorial, we talked about deciding whether we're prepared for the weather. I said that I'm safe from today's weather if...\n",
    "- I have an umbrella...\n",
    "- or if the rain isn't too heavy and I have a hood...\n",
    "- otherwise, I'm still fine unless it's raining *and* it's a workday\n",
    "\n",
    "The function below uses our first attempt at turning this logic into a Python expression. I claimed that there was a bug in that code. Can you find it?\n",
    "\n",
    "To prove that `prepared_for_weather` is buggy, come up with a set of inputs where either:\n",
    "- the function returns `False` (but should have returned `True`), or\n",
    "- the function returned `True` (but should have returned `False`).\n",
    "\n",
    "To get credit for completing this question, your code should return a <font color='#33cc33'>Correct</font> result."
   ]
  },
  {
   "cell_type": "code",
   "execution_count": 8,
   "id": "c1058408",
   "metadata": {
    "execution": {
     "iopub.execute_input": "2023-06-10T07:47:43.752638Z",
     "iopub.status.busy": "2023-06-10T07:47:43.752001Z",
     "iopub.status.idle": "2023-06-10T07:47:43.764553Z",
     "shell.execute_reply": "2023-06-10T07:47:43.763355Z"
    },
    "papermill": {
     "duration": 0.030265,
     "end_time": "2023-06-10T07:47:43.767272",
     "exception": false,
     "start_time": "2023-06-10T07:47:43.737007",
     "status": "completed"
    },
    "tags": []
   },
   "outputs": [
    {
     "name": "stdout",
     "output_type": "stream",
     "text": [
      "False\n"
     ]
    },
    {
     "data": {
      "application/javascript": [
       "parent.postMessage({\"jupyterEvent\": \"custom.exercise_interaction\", \"data\": {\"outcomeType\": 1, \"valueTowardsCompletion\": 0.2, \"interactionType\": 1, \"questionType\": 1, \"questionId\": \"3_WeatherDebug\", \"learnToolsVersion\": \"0.3.4\", \"failureMessage\": \"\", \"exceptionClass\": \"\", \"trace\": \"\"}}, \"*\")"
      ],
      "text/plain": [
       "<IPython.core.display.Javascript object>"
      ]
     },
     "metadata": {},
     "output_type": "display_data"
    },
    {
     "data": {
      "text/markdown": [
       "<span style=\"color:#33cc33\">Correct:</span> \n",
       "\n",
       "One example of a failing test case is:\n",
       "\n",
       "```python\n",
       "have_umbrella = False\n",
       "rain_level = 0.0\n",
       "have_hood = False\n",
       "is_workday = False\n",
       "```\n",
       "\n",
       "Clearly we're prepared for the weather in this case. It's not raining. Not only that, it's not a workday, so we don't even need to leave the house! But our function will return False on these inputs.\n",
       "\n",
       "The key problem is that Python implictly parenthesizes the last part as:\n",
       "\n",
       "```python\n",
       "(not (rain_level > 0)) and is_workday\n",
       "```\n",
       "\n",
       "Whereas what we were trying to express would look more like:\n",
       "\n",
       "```python\n",
       "not (rain_level > 0 and is_workday)\n",
       "```\n"
      ],
      "text/plain": [
       "Correct: \n",
       "\n",
       "One example of a failing test case is:\n",
       "\n",
       "```python\n",
       "have_umbrella = False\n",
       "rain_level = 0.0\n",
       "have_hood = False\n",
       "is_workday = False\n",
       "```\n",
       "\n",
       "Clearly we're prepared for the weather in this case. It's not raining. Not only that, it's not a workday, so we don't even need to leave the house! But our function will return False on these inputs.\n",
       "\n",
       "The key problem is that Python implictly parenthesizes the last part as:\n",
       "\n",
       "```python\n",
       "(not (rain_level > 0)) and is_workday\n",
       "```\n",
       "\n",
       "Whereas what we were trying to express would look more like:\n",
       "\n",
       "```python\n",
       "not (rain_level > 0 and is_workday)\n",
       "```"
      ]
     },
     "metadata": {},
     "output_type": "display_data"
    }
   ],
   "source": [
    "def prepared_for_weather(have_umbrella, rain_level, have_hood, is_workday):\n",
    "    # Don't change this code. Our goal is just to find the bug, not fix it!\n",
    "    return have_umbrella or rain_level < 5 and have_hood or not rain_level > 0 and is_workday\n",
    "\n",
    "# Change the values of these inputs so they represent a case where prepared_for_weather\n",
    "# returns the wrong answer.\n",
    "have_umbrella = False\n",
    "rain_level = 0.0\n",
    "have_hood = False\n",
    "is_workday = False\n",
    "\n",
    "# Check what the function returns given the current values of the variables above\n",
    "actual = prepared_for_weather(have_umbrella, rain_level, have_hood, is_workday)\n",
    "print(actual)\n",
    "\n",
    "# Check your answer\n",
    "q3.check()"
   ]
  },
  {
   "cell_type": "code",
   "execution_count": 9,
   "id": "9159e090",
   "metadata": {
    "execution": {
     "iopub.execute_input": "2023-06-10T07:47:43.796987Z",
     "iopub.status.busy": "2023-06-10T07:47:43.796585Z",
     "iopub.status.idle": "2023-06-10T07:47:43.800440Z",
     "shell.execute_reply": "2023-06-10T07:47:43.799298Z"
    },
    "papermill": {
     "duration": 0.021467,
     "end_time": "2023-06-10T07:47:43.802546",
     "exception": false,
     "start_time": "2023-06-10T07:47:43.781079",
     "status": "completed"
    },
    "tags": []
   },
   "outputs": [],
   "source": [
    "#q3.hint()\n",
    "# q3.solution()"
   ]
  },
  {
   "cell_type": "markdown",
   "id": "ca3b7e79",
   "metadata": {
    "papermill": {
     "duration": 0.012982,
     "end_time": "2023-06-10T07:47:43.829047",
     "exception": false,
     "start_time": "2023-06-10T07:47:43.816065",
     "status": "completed"
    },
    "tags": []
   },
   "source": [
    "# 4.\n",
    "\n",
    "The function `is_negative` below is implemented correctly - it returns True if the given number is negative and False otherwise.\n",
    "\n",
    "However, it's more verbose than it needs to be. We can actually reduce the number of lines of code in this function by *75%* while keeping the same behaviour. \n",
    "\n",
    "See if you can come up with an equivalent body that uses just **one line** of code, and put it in the function `concise_is_negative`. (HINT: you don't even need Python's ternary syntax)"
   ]
  },
  {
   "cell_type": "code",
   "execution_count": 10,
   "id": "e93daf1b",
   "metadata": {
    "execution": {
     "iopub.execute_input": "2023-06-10T07:47:43.859831Z",
     "iopub.status.busy": "2023-06-10T07:47:43.859227Z",
     "iopub.status.idle": "2023-06-10T07:47:43.868338Z",
     "shell.execute_reply": "2023-06-10T07:47:43.867085Z"
    },
    "papermill": {
     "duration": 0.026787,
     "end_time": "2023-06-10T07:47:43.870570",
     "exception": false,
     "start_time": "2023-06-10T07:47:43.843783",
     "status": "completed"
    },
    "tags": []
   },
   "outputs": [
    {
     "data": {
      "application/javascript": [
       "parent.postMessage({\"jupyterEvent\": \"custom.exercise_interaction\", \"data\": {\"outcomeType\": 1, \"valueTowardsCompletion\": 0.2, \"interactionType\": 1, \"questionType\": 2, \"questionId\": \"4_ConciseIsNegative\", \"learnToolsVersion\": \"0.3.4\", \"failureMessage\": \"\", \"exceptionClass\": \"\", \"trace\": \"\"}}, \"*\")"
      ],
      "text/plain": [
       "<IPython.core.display.Javascript object>"
      ]
     },
     "metadata": {},
     "output_type": "display_data"
    },
    {
     "data": {
      "text/markdown": [
       "<span style=\"color:#33cc33\">Correct</span>"
      ],
      "text/plain": [
       "Correct"
      ]
     },
     "metadata": {},
     "output_type": "display_data"
    }
   ],
   "source": [
    "def is_negative(number):\n",
    "    if number < 0:\n",
    "        return True\n",
    "    else:\n",
    "        return False\n",
    "\n",
    "def concise_is_negative(number):\n",
    "    return number < 0 # Your code goes here (try to keep it to one line!)\n",
    "\n",
    "\n",
    "# Check your answer\n",
    "q4.check()"
   ]
  },
  {
   "cell_type": "code",
   "execution_count": 11,
   "id": "e8a3ee50",
   "metadata": {
    "execution": {
     "iopub.execute_input": "2023-06-10T07:47:43.900394Z",
     "iopub.status.busy": "2023-06-10T07:47:43.899731Z",
     "iopub.status.idle": "2023-06-10T07:47:43.905138Z",
     "shell.execute_reply": "2023-06-10T07:47:43.904025Z"
    },
    "papermill": {
     "duration": 0.023263,
     "end_time": "2023-06-10T07:47:43.907712",
     "exception": false,
     "start_time": "2023-06-10T07:47:43.884449",
     "status": "completed"
    },
    "tags": []
   },
   "outputs": [],
   "source": [
    "#q4.hint()\n",
    "#q4.solution()"
   ]
  },
  {
   "cell_type": "markdown",
   "id": "cb29d7a8",
   "metadata": {
    "papermill": {
     "duration": 0.013611,
     "end_time": "2023-06-10T07:47:43.935273",
     "exception": false,
     "start_time": "2023-06-10T07:47:43.921662",
     "status": "completed"
    },
    "tags": []
   },
   "source": [
    "# 5a.\n",
    "\n",
    "The boolean variables `ketchup`, `mustard` and `onion` represent whether a customer wants a particular topping on their hot dog. We want to implement a number of boolean functions that correspond to some yes-or-no questions about the customer's order. For example:"
   ]
  },
  {
   "cell_type": "code",
   "execution_count": 12,
   "id": "6b913897",
   "metadata": {
    "execution": {
     "iopub.execute_input": "2023-06-10T07:47:43.966305Z",
     "iopub.status.busy": "2023-06-10T07:47:43.965876Z",
     "iopub.status.idle": "2023-06-10T07:47:43.971983Z",
     "shell.execute_reply": "2023-06-10T07:47:43.970560Z"
    },
    "papermill": {
     "duration": 0.024512,
     "end_time": "2023-06-10T07:47:43.974630",
     "exception": false,
     "start_time": "2023-06-10T07:47:43.950118",
     "status": "completed"
    },
    "tags": []
   },
   "outputs": [],
   "source": [
    "def onionless(ketchup, mustard, onion):\n",
    "    \"\"\"Return whether the customer doesn't want onions.\n",
    "    \"\"\"\n",
    "    return not onion"
   ]
  },
  {
   "cell_type": "code",
   "execution_count": 13,
   "id": "a9a4ddaa",
   "metadata": {
    "execution": {
     "iopub.execute_input": "2023-06-10T07:47:44.005360Z",
     "iopub.status.busy": "2023-06-10T07:47:44.004911Z",
     "iopub.status.idle": "2023-06-10T07:47:44.016454Z",
     "shell.execute_reply": "2023-06-10T07:47:44.015202Z"
    },
    "papermill": {
     "duration": 0.029866,
     "end_time": "2023-06-10T07:47:44.018996",
     "exception": false,
     "start_time": "2023-06-10T07:47:43.989130",
     "status": "completed"
    },
    "tags": []
   },
   "outputs": [
    {
     "data": {
      "application/javascript": [
       "parent.postMessage({\"jupyterEvent\": \"custom.exercise_interaction\", \"data\": {\"outcomeType\": 1, \"valueTowardsCompletion\": 0.2, \"interactionType\": 1, \"questionType\": 2, \"questionId\": \"5.1_AllToppings\", \"learnToolsVersion\": \"0.3.4\", \"failureMessage\": \"\", \"exceptionClass\": \"\", \"trace\": \"\"}}, \"*\")"
      ],
      "text/plain": [
       "<IPython.core.display.Javascript object>"
      ]
     },
     "metadata": {},
     "output_type": "display_data"
    },
    {
     "data": {
      "text/markdown": [
       "<span style=\"color:#33cc33\">Correct</span>"
      ],
      "text/plain": [
       "Correct"
      ]
     },
     "metadata": {},
     "output_type": "display_data"
    }
   ],
   "source": [
    "def wants_all_toppings(ketchup, mustard, onion):\n",
    "    \"\"\"Return whether the customer wants \"the works\" (all 3 toppings)\n",
    "    \"\"\"\n",
    "    return ketchup and mustard and onion\n",
    "\n",
    "# Check your answer\n",
    "q5.a.check()"
   ]
  },
  {
   "cell_type": "code",
   "execution_count": 14,
   "id": "13186e88",
   "metadata": {
    "execution": {
     "iopub.execute_input": "2023-06-10T07:47:44.050919Z",
     "iopub.status.busy": "2023-06-10T07:47:44.049692Z",
     "iopub.status.idle": "2023-06-10T07:47:44.055396Z",
     "shell.execute_reply": "2023-06-10T07:47:44.054137Z"
    },
    "papermill": {
     "duration": 0.024637,
     "end_time": "2023-06-10T07:47:44.058046",
     "exception": false,
     "start_time": "2023-06-10T07:47:44.033409",
     "status": "completed"
    },
    "tags": []
   },
   "outputs": [],
   "source": [
    "#q5.a.hint()\n",
    "#q5.a.solution()"
   ]
  },
  {
   "cell_type": "markdown",
   "id": "4f3a36b4",
   "metadata": {
    "papermill": {
     "duration": 0.013746,
     "end_time": "2023-06-10T07:47:44.086376",
     "exception": false,
     "start_time": "2023-06-10T07:47:44.072630",
     "status": "completed"
    },
    "tags": []
   },
   "source": [
    "# 5b.\n",
    "\n",
    "For the next function, fill in the body to match the English description in the docstring. "
   ]
  },
  {
   "cell_type": "code",
   "execution_count": 15,
   "id": "9e796a3a",
   "metadata": {
    "execution": {
     "iopub.execute_input": "2023-06-10T07:47:44.116730Z",
     "iopub.status.busy": "2023-06-10T07:47:44.116337Z",
     "iopub.status.idle": "2023-06-10T07:47:44.127067Z",
     "shell.execute_reply": "2023-06-10T07:47:44.125896Z"
    },
    "papermill": {
     "duration": 0.028993,
     "end_time": "2023-06-10T07:47:44.129672",
     "exception": false,
     "start_time": "2023-06-10T07:47:44.100679",
     "status": "completed"
    },
    "tags": []
   },
   "outputs": [
    {
     "data": {
      "application/javascript": [
       "parent.postMessage({\"jupyterEvent\": \"custom.exercise_interaction\", \"data\": {\"outcomeType\": 1, \"valueTowardsCompletion\": 0.2, \"interactionType\": 1, \"questionType\": 2, \"questionId\": \"5.2_PlainDog\", \"learnToolsVersion\": \"0.3.4\", \"failureMessage\": \"\", \"exceptionClass\": \"\", \"trace\": \"\"}}, \"*\")"
      ],
      "text/plain": [
       "<IPython.core.display.Javascript object>"
      ]
     },
     "metadata": {},
     "output_type": "display_data"
    },
    {
     "data": {
      "text/markdown": [
       "<span style=\"color:#33cc33\">Correct:</span> \n",
       "\n",
       "One solution looks like:\n",
       "```python\n",
       "return not ketchup and not mustard and not onion\n",
       "```\n",
       "\n",
       "We can also [\"factor out\" the nots](https://en.wikipedia.org/wiki/De_Morgan%27s_laws) to get:\n",
       "\n",
       "```python\n",
       "return not (ketchup or mustard or onion)\n",
       "```"
      ],
      "text/plain": [
       "Correct: \n",
       "\n",
       "One solution looks like:\n",
       "```python\n",
       "return not ketchup and not mustard and not onion\n",
       "```\n",
       "\n",
       "We can also [\"factor out\" the nots](https://en.wikipedia.org/wiki/De_Morgan%27s_laws) to get:\n",
       "\n",
       "```python\n",
       "return not (ketchup or mustard or onion)\n",
       "```"
      ]
     },
     "metadata": {},
     "output_type": "display_data"
    }
   ],
   "source": [
    "def wants_plain_hotdog(ketchup, mustard, onion):\n",
    "    \"\"\"Return whether the customer wants a plain hot dog with no toppings.\n",
    "    \"\"\"\n",
    "    return not (ketchup or mustard or onion)\n",
    "\n",
    "# Check your answer\n",
    "q5.b.check()"
   ]
  },
  {
   "cell_type": "code",
   "execution_count": 16,
   "id": "5825873b",
   "metadata": {
    "execution": {
     "iopub.execute_input": "2023-06-10T07:47:44.161621Z",
     "iopub.status.busy": "2023-06-10T07:47:44.161249Z",
     "iopub.status.idle": "2023-06-10T07:47:44.166146Z",
     "shell.execute_reply": "2023-06-10T07:47:44.164972Z"
    },
    "papermill": {
     "duration": 0.024157,
     "end_time": "2023-06-10T07:47:44.168774",
     "exception": false,
     "start_time": "2023-06-10T07:47:44.144617",
     "status": "completed"
    },
    "tags": []
   },
   "outputs": [],
   "source": [
    "#q5.b.hint()\n",
    "#q5.b.solution()"
   ]
  },
  {
   "cell_type": "markdown",
   "id": "d3e84905",
   "metadata": {
    "papermill": {
     "duration": 0.014854,
     "end_time": "2023-06-10T07:47:44.198467",
     "exception": false,
     "start_time": "2023-06-10T07:47:44.183613",
     "status": "completed"
    },
    "tags": []
   },
   "source": [
    "# 5c.\n",
    "\n",
    "You know what to do: for the next function, fill in the body to match the English description in the docstring."
   ]
  },
  {
   "cell_type": "code",
   "execution_count": 17,
   "id": "e0571d19",
   "metadata": {
    "execution": {
     "iopub.execute_input": "2023-06-10T07:47:44.229891Z",
     "iopub.status.busy": "2023-06-10T07:47:44.229430Z",
     "iopub.status.idle": "2023-06-10T07:47:44.239954Z",
     "shell.execute_reply": "2023-06-10T07:47:44.238695Z"
    },
    "papermill": {
     "duration": 0.029239,
     "end_time": "2023-06-10T07:47:44.242565",
     "exception": false,
     "start_time": "2023-06-10T07:47:44.213326",
     "status": "completed"
    },
    "tags": []
   },
   "outputs": [
    {
     "data": {
      "application/javascript": [
       "parent.postMessage({\"jupyterEvent\": \"custom.exercise_interaction\", \"data\": {\"outcomeType\": 1, \"valueTowardsCompletion\": 0.2, \"interactionType\": 1, \"questionType\": 2, \"questionId\": \"5.3_OneSauce\", \"learnToolsVersion\": \"0.3.4\", \"failureMessage\": \"\", \"exceptionClass\": \"\", \"trace\": \"\"}}, \"*\")"
      ],
      "text/plain": [
       "<IPython.core.display.Javascript object>"
      ]
     },
     "metadata": {},
     "output_type": "display_data"
    },
    {
     "data": {
      "text/markdown": [
       "<span style=\"color:#33cc33\">Correct</span>"
      ],
      "text/plain": [
       "Correct"
      ]
     },
     "metadata": {},
     "output_type": "display_data"
    }
   ],
   "source": [
    "def exactly_one_sauce(ketchup, mustard, onion):\n",
    "    \"\"\"Return whether the customer wants either ketchup or mustard, but not both.\n",
    "    (You may be familiar with this operation under the name \"exclusive or\")\n",
    "    \"\"\"\n",
    "    return ketchup ^ mustard\n",
    "\n",
    "# Check your answer\n",
    "q5.c.check()"
   ]
  },
  {
   "cell_type": "code",
   "execution_count": 18,
   "id": "2c0c4cb7",
   "metadata": {
    "execution": {
     "iopub.execute_input": "2023-06-10T07:47:44.275317Z",
     "iopub.status.busy": "2023-06-10T07:47:44.274884Z",
     "iopub.status.idle": "2023-06-10T07:47:44.280115Z",
     "shell.execute_reply": "2023-06-10T07:47:44.278826Z"
    },
    "papermill": {
     "duration": 0.024355,
     "end_time": "2023-06-10T07:47:44.282404",
     "exception": false,
     "start_time": "2023-06-10T07:47:44.258049",
     "status": "completed"
    },
    "tags": []
   },
   "outputs": [],
   "source": [
    "#q5.c.hint()\n",
    "#q5.c.solution()"
   ]
  },
  {
   "cell_type": "markdown",
   "id": "c06e609a",
   "metadata": {
    "papermill": {
     "duration": 0.015011,
     "end_time": "2023-06-10T07:47:44.312564",
     "exception": false,
     "start_time": "2023-06-10T07:47:44.297553",
     "status": "completed"
    },
    "tags": []
   },
   "source": [
    "# 6. <span title=\"A bit spicy\" style=\"color: darkgreen \">🌶️</span>\n",
    "\n",
    "We’ve seen that calling `bool()` on an integer returns `False` if it’s equal to 0 and `True` otherwise. What happens if we call `int()` on a bool? Try it out in the notebook cell below.\n",
    "\n",
    "Can you take advantage of this to write a succinct function that corresponds to the English sentence \"does the customer want exactly one topping?\"?"
   ]
  },
  {
   "cell_type": "code",
   "execution_count": 19,
   "id": "b98a85f6",
   "metadata": {
    "execution": {
     "iopub.execute_input": "2023-06-10T07:47:44.344619Z",
     "iopub.status.busy": "2023-06-10T07:47:44.344225Z",
     "iopub.status.idle": "2023-06-10T07:47:44.355118Z",
     "shell.execute_reply": "2023-06-10T07:47:44.353842Z"
    },
    "papermill": {
     "duration": 0.029959,
     "end_time": "2023-06-10T07:47:44.357597",
     "exception": false,
     "start_time": "2023-06-10T07:47:44.327638",
     "status": "completed"
    },
    "tags": []
   },
   "outputs": [
    {
     "data": {
      "application/javascript": [
       "parent.postMessage({\"jupyterEvent\": \"custom.exercise_interaction\", \"data\": {\"outcomeType\": 1, \"valueTowardsCompletion\": 0.2, \"interactionType\": 1, \"questionType\": 2, \"questionId\": \"6_OneTopping\", \"learnToolsVersion\": \"0.3.4\", \"failureMessage\": \"\", \"exceptionClass\": \"\", \"trace\": \"\"}}, \"*\")"
      ],
      "text/plain": [
       "<IPython.core.display.Javascript object>"
      ]
     },
     "metadata": {},
     "output_type": "display_data"
    },
    {
     "data": {
      "text/markdown": [
       "<span style=\"color:#33cc33\">Correct:</span> \n",
       "\n",
       "This condition would be pretty complicated to express using just `and`, `or` and `not`, but using boolean-to-integer conversion gives us this short solution:\n",
       "```python\n",
       "return (int(ketchup) + int(mustard) + int(onion)) == 1\n",
       "```\n",
       "\n",
       "Fun fact: we don't technically need to call `int` on the arguments. Just by doing addition with booleans, Python implicitly does the integer conversion. So we could also write...\n",
       "\n",
       "```python\n",
       "return (ketchup + mustard + onion) == 1\n",
       "```"
      ],
      "text/plain": [
       "Correct: \n",
       "\n",
       "This condition would be pretty complicated to express using just `and`, `or` and `not`, but using boolean-to-integer conversion gives us this short solution:\n",
       "```python\n",
       "return (int(ketchup) + int(mustard) + int(onion)) == 1\n",
       "```\n",
       "\n",
       "Fun fact: we don't technically need to call `int` on the arguments. Just by doing addition with booleans, Python implicitly does the integer conversion. So we could also write...\n",
       "\n",
       "```python\n",
       "return (ketchup + mustard + onion) == 1\n",
       "```"
      ]
     },
     "metadata": {},
     "output_type": "display_data"
    }
   ],
   "source": [
    "def exactly_one_topping(ketchup, mustard, onion):\n",
    "    \"\"\"Return whether the customer wants exactly one of the three available toppings\n",
    "    on their hot dog.\n",
    "    \"\"\"\n",
    "    return (ketchup or mustard) ^ onion\n",
    "\n",
    "# Check your answer\n",
    "q6.check()"
   ]
  },
  {
   "cell_type": "code",
   "execution_count": 20,
   "id": "1879e417",
   "metadata": {
    "execution": {
     "iopub.execute_input": "2023-06-10T07:47:44.390511Z",
     "iopub.status.busy": "2023-06-10T07:47:44.390142Z",
     "iopub.status.idle": "2023-06-10T07:47:44.394063Z",
     "shell.execute_reply": "2023-06-10T07:47:44.393003Z"
    },
    "papermill": {
     "duration": 0.023316,
     "end_time": "2023-06-10T07:47:44.396431",
     "exception": false,
     "start_time": "2023-06-10T07:47:44.373115",
     "status": "completed"
    },
    "tags": []
   },
   "outputs": [],
   "source": [
    "#q6.hint()\n",
    "#q6.solution()"
   ]
  },
  {
   "cell_type": "markdown",
   "id": "15e8b359",
   "metadata": {
    "papermill": {
     "duration": 0.015359,
     "end_time": "2023-06-10T07:47:44.427067",
     "exception": false,
     "start_time": "2023-06-10T07:47:44.411708",
     "status": "completed"
    },
    "tags": []
   },
   "source": [
    "# 7. <span title=\"A bit spicy\" style=\"color: darkgreen \">🌶️</span> (Optional)\n",
    "\n",
    "In this problem we'll be working with a simplified version of [blackjack](https://en.wikipedia.org/wiki/Blackjack) (aka twenty-one). In this version there is one player (who you'll control) and a dealer. Play proceeds as follows:\n",
    "\n",
    "- The player is dealt two face-up cards. The dealer is dealt one face-up card.\n",
    "- The player may ask to be dealt another card ('hit') as many times as they wish. If the sum of their cards exceeds 21, they lose the round immediately.\n",
    "- The dealer then deals additional cards to himself until either:\n",
    "    - the sum of the dealer's cards exceeds 21, in which case the player wins the round\n",
    "    - the sum of the dealer's cards is greater than or equal to 17. If the player's total is greater than the dealer's, the player wins. Otherwise, the dealer wins (even in case of a tie).\n",
    "    \n",
    "When calculating the sum of cards, Jack, Queen, and King count for 10. Aces can count as 1 or 11 (when referring to a player's \"total\" above, we mean the largest total that can be made without exceeding 21. So e.g. A+8 = 19, A+8+8 = 17)\n",
    "\n",
    "For this problem, you'll write a function representing the player's decision-making strategy in this game. We've provided a very unintelligent implementation below:"
   ]
  },
  {
   "cell_type": "code",
   "execution_count": 21,
   "id": "603dc892",
   "metadata": {
    "execution": {
     "iopub.execute_input": "2023-06-10T07:47:44.459546Z",
     "iopub.status.busy": "2023-06-10T07:47:44.459109Z",
     "iopub.status.idle": "2023-06-10T07:47:44.465253Z",
     "shell.execute_reply": "2023-06-10T07:47:44.464179Z"
    },
    "papermill": {
     "duration": 0.025162,
     "end_time": "2023-06-10T07:47:44.467422",
     "exception": false,
     "start_time": "2023-06-10T07:47:44.442260",
     "status": "completed"
    },
    "tags": []
   },
   "outputs": [],
   "source": [
    "def should_hit(dealer_total, player_total, player_low_aces, player_high_aces):\n",
    "    \"\"\"Return True if the player should hit (request another card) given the current game\n",
    "    state, or False if the player should stay.\n",
    "    When calculating a hand's total value, we count aces as \"high\" (with value 11) if doing so\n",
    "    doesn't bring the total above 21, otherwise we count them as low (with value 1). \n",
    "    For example, if the player's hand is {A, A, A, 7}, we will count it as 11 + 1 + 1 + 7,\n",
    "    and therefore set player_total=20, player_low_aces=2, player_high_aces=1.\n",
    "    \"\"\"\n",
    "    return False"
   ]
  },
  {
   "cell_type": "markdown",
   "id": "a1cbe66c",
   "metadata": {
    "papermill": {
     "duration": 0.014973,
     "end_time": "2023-06-10T07:47:44.497847",
     "exception": false,
     "start_time": "2023-06-10T07:47:44.482874",
     "status": "completed"
    },
    "tags": []
   },
   "source": [
    "This very conservative agent *always* sticks with the hand of two cards that they're dealt.\n",
    "\n",
    "We'll be simulating games between your player agent and our own dealer agent by calling your function.\n",
    "\n",
    "Try running the function below to see an example of a simulated game:"
   ]
  },
  {
   "cell_type": "code",
   "execution_count": 22,
   "id": "a82185b6",
   "metadata": {
    "execution": {
     "iopub.execute_input": "2023-06-10T07:47:44.530795Z",
     "iopub.status.busy": "2023-06-10T07:47:44.530046Z",
     "iopub.status.idle": "2023-06-10T07:47:44.536018Z",
     "shell.execute_reply": "2023-06-10T07:47:44.534835Z"
    },
    "papermill": {
     "duration": 0.025462,
     "end_time": "2023-06-10T07:47:44.538469",
     "exception": false,
     "start_time": "2023-06-10T07:47:44.513007",
     "status": "completed"
    },
    "tags": []
   },
   "outputs": [
    {
     "name": "stdout",
     "output_type": "stream",
     "text": [
      "Player starts with A and Q (total = 21)\n",
      "Dealer starts with 10\n",
      "\n",
      "__Player's turn__\n",
      "Player stays\n",
      "\n",
      "__Dealer's turn__\n",
      "Dealer hits and receives 5. (total = 15)\n",
      "Dealer hits and receives 10. (total = 25)\n",
      "Dealer busts! Player wins.\n"
     ]
    }
   ],
   "source": [
    "q7.simulate_one_game()"
   ]
  },
  {
   "cell_type": "markdown",
   "id": "58d04839",
   "metadata": {
    "papermill": {
     "duration": 0.0157,
     "end_time": "2023-06-10T07:47:44.569948",
     "exception": false,
     "start_time": "2023-06-10T07:47:44.554248",
     "status": "completed"
    },
    "tags": []
   },
   "source": [
    "The real test of your agent's mettle is their average win rate over many games. Try calling the function below to simulate 50000 games of blackjack (it may take a couple seconds):"
   ]
  },
  {
   "cell_type": "code",
   "execution_count": 23,
   "id": "c21b8539",
   "metadata": {
    "execution": {
     "iopub.execute_input": "2023-06-10T07:47:44.603289Z",
     "iopub.status.busy": "2023-06-10T07:47:44.602827Z",
     "iopub.status.idle": "2023-06-10T07:47:46.722309Z",
     "shell.execute_reply": "2023-06-10T07:47:46.720698Z"
    },
    "papermill": {
     "duration": 2.139331,
     "end_time": "2023-06-10T07:47:46.725214",
     "exception": false,
     "start_time": "2023-06-10T07:47:44.585883",
     "status": "completed"
    },
    "tags": []
   },
   "outputs": [
    {
     "name": "stdout",
     "output_type": "stream",
     "text": [
      "Player won 19061 out of 50000 games (win rate = 38.1%)\n"
     ]
    }
   ],
   "source": [
    "q7.simulate(n_games=50000)"
   ]
  },
  {
   "cell_type": "markdown",
   "id": "9ab8d4f4",
   "metadata": {
    "papermill": {
     "duration": 0.0153,
     "end_time": "2023-06-10T07:47:46.756238",
     "exception": false,
     "start_time": "2023-06-10T07:47:46.740938",
     "status": "completed"
    },
    "tags": []
   },
   "source": [
    "Our dumb agent that completely ignores the game state still manages to win shockingly often!\n",
    "\n",
    "Try adding some more smarts to the `should_hit` function and see how it affects the results."
   ]
  },
  {
   "cell_type": "code",
   "execution_count": 24,
   "id": "cc6e0049",
   "metadata": {
    "execution": {
     "iopub.execute_input": "2023-06-10T07:47:46.789732Z",
     "iopub.status.busy": "2023-06-10T07:47:46.788575Z",
     "iopub.status.idle": "2023-06-10T07:47:48.891898Z",
     "shell.execute_reply": "2023-06-10T07:47:48.890254Z"
    },
    "papermill": {
     "duration": 2.123052,
     "end_time": "2023-06-10T07:47:48.894622",
     "exception": false,
     "start_time": "2023-06-10T07:47:46.771570",
     "status": "completed"
    },
    "tags": []
   },
   "outputs": [
    {
     "name": "stdout",
     "output_type": "stream",
     "text": [
      "Player won 19255 out of 50000 games (win rate = 38.5%)\n"
     ]
    }
   ],
   "source": [
    "def should_hit(dealer_total, player_total, player_low_aces, player_high_aces):\n",
    "    \"\"\"Return True if the player should hit (request another card) given the current game\n",
    "    state, or False if the player should stay.\n",
    "    When calculating a hand's total value, we count aces as \"high\" (with value 11) if doing so\n",
    "    doesn't bring the total above 21, otherwise we count them as low (with value 1). \n",
    "    For example, if the player's hand is {A, A, A, 7}, we will count it as 11 + 1 + 1 + 7,\n",
    "    and therefore set player_total=20, player_low_aces=2, player_high_aces=1.\n",
    "    \"\"\"\n",
    "    return False\n",
    "\n",
    "q7.simulate(n_games=50000)"
   ]
  },
  {
   "cell_type": "markdown",
   "id": "a518189f",
   "metadata": {
    "papermill": {
     "duration": 0.015428,
     "end_time": "2023-06-10T07:47:48.926245",
     "exception": false,
     "start_time": "2023-06-10T07:47:48.910817",
     "status": "completed"
    },
    "tags": []
   },
   "source": [
    "# Keep Going\n",
    "\n",
    "Learn about **[lists and tuples](https://www.kaggle.com/colinmorris/lists)** to handle multiple items of data in a systematic way."
   ]
  },
  {
   "cell_type": "markdown",
   "id": "fd0fc2ef",
   "metadata": {
    "papermill": {
     "duration": 0.015506,
     "end_time": "2023-06-10T07:47:48.957689",
     "exception": false,
     "start_time": "2023-06-10T07:47:48.942183",
     "status": "completed"
    },
    "tags": []
   },
   "source": [
    "---\n",
    "\n",
    "\n",
    "\n",
    "\n",
    "*Have questions or comments? Visit the [course discussion forum](https://www.kaggle.com/learn/python/discussion) to chat with other learners.*"
   ]
  }
 ],
 "metadata": {
  "kernelspec": {
   "display_name": "Python 3",
   "language": "python",
   "name": "python3"
  },
  "language_info": {
   "codemirror_mode": {
    "name": "ipython",
    "version": 3
   },
   "file_extension": ".py",
   "mimetype": "text/x-python",
   "name": "python",
   "nbconvert_exporter": "python",
   "pygments_lexer": "ipython3",
   "version": "3.10.10"
  },
  "papermill": {
   "default_parameters": {},
   "duration": 18.266966,
   "end_time": "2023-06-10T07:47:49.797094",
   "environment_variables": {},
   "exception": null,
   "input_path": "__notebook__.ipynb",
   "output_path": "__notebook__.ipynb",
   "parameters": {},
   "start_time": "2023-06-10T07:47:31.530128",
   "version": "2.4.0"
  }
 },
 "nbformat": 4,
 "nbformat_minor": 5
}
