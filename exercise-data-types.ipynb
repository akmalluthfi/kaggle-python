{
 "cells": [
  {
   "cell_type": "markdown",
   "id": "33455c6c",
   "metadata": {
    "papermill": {
     "duration": 0.00631,
     "end_time": "2023-06-10T08:08:16.497058",
     "exception": false,
     "start_time": "2023-06-10T08:08:16.490748",
     "status": "completed"
    },
    "tags": []
   },
   "source": [
    "**This notebook is an exercise in the [Intro to Programming](https://www.kaggle.com/learn/intro-to-programming) course.  You can reference the tutorial at [this link](https://www.kaggle.com/alexisbcook/data-types).**\n",
    "\n",
    "---\n"
   ]
  },
  {
   "cell_type": "markdown",
   "id": "94a88ee5",
   "metadata": {
    "papermill": {
     "duration": 0.006241,
     "end_time": "2023-06-10T08:08:16.509116",
     "exception": false,
     "start_time": "2023-06-10T08:08:16.502875",
     "status": "completed"
    },
    "tags": []
   },
   "source": [
    "In the tutorial, you learned about four different data types: floats, integers, strings, and booleans.  In this exercise, you'll experiment with them.\n",
    "\n",
    "# Set up the notebook\n",
    "\n",
    "Run the next code cell without changes to set up the notebook."
   ]
  },
  {
   "cell_type": "code",
   "execution_count": 1,
   "id": "f46d01d6",
   "metadata": {
    "execution": {
     "iopub.execute_input": "2023-06-10T08:08:16.523917Z",
     "iopub.status.busy": "2023-06-10T08:08:16.523335Z",
     "iopub.status.idle": "2023-06-10T08:08:16.579193Z",
     "shell.execute_reply": "2023-06-10T08:08:16.578094Z"
    },
    "papermill": {
     "duration": 0.067715,
     "end_time": "2023-06-10T08:08:16.583033",
     "exception": false,
     "start_time": "2023-06-10T08:08:16.515318",
     "status": "completed"
    },
    "tags": []
   },
   "outputs": [
    {
     "name": "stdout",
     "output_type": "stream",
     "text": [
      "Setup complete.\n"
     ]
    }
   ],
   "source": [
    "# Set up the exercise\n",
    "from learntools.core import binder\n",
    "binder.bind(globals())\n",
    "from learntools.intro_to_programming.ex3 import *\n",
    "print('Setup complete.')"
   ]
  },
  {
   "cell_type": "markdown",
   "id": "adb9e588",
   "metadata": {
    "papermill": {
     "duration": 0.00523,
     "end_time": "2023-06-10T08:08:16.594983",
     "exception": false,
     "start_time": "2023-06-10T08:08:16.589753",
     "status": "completed"
    },
    "tags": []
   },
   "source": [
    "# Question 1\n",
    "\n",
    "You have seen how to convert a float to an integer with the `int` function.  Try this out yourself by running the code cell below."
   ]
  },
  {
   "cell_type": "code",
   "execution_count": 2,
   "id": "de805678",
   "metadata": {
    "execution": {
     "iopub.execute_input": "2023-06-10T08:08:16.608677Z",
     "iopub.status.busy": "2023-06-10T08:08:16.608070Z",
     "iopub.status.idle": "2023-06-10T08:08:16.616381Z",
     "shell.execute_reply": "2023-06-10T08:08:16.614393Z"
    },
    "papermill": {
     "duration": 0.018646,
     "end_time": "2023-06-10T08:08:16.618855",
     "exception": false,
     "start_time": "2023-06-10T08:08:16.600209",
     "status": "completed"
    },
    "tags": []
   },
   "outputs": [
    {
     "name": "stdout",
     "output_type": "stream",
     "text": [
      "1.0\n",
      "<class 'float'>\n",
      "1\n",
      "<class 'int'>\n"
     ]
    }
   ],
   "source": [
    "# Define a float\n",
    "y = 1.\n",
    "print(y)\n",
    "print(type(y))\n",
    "\n",
    "# Convert float to integer with the int function\n",
    "z = int(y)\n",
    "print(z)\n",
    "print(type(z))"
   ]
  },
  {
   "cell_type": "markdown",
   "id": "9d6c2c44",
   "metadata": {
    "papermill": {
     "duration": 0.005652,
     "end_time": "2023-06-10T08:08:16.630533",
     "exception": false,
     "start_time": "2023-06-10T08:08:16.624881",
     "status": "completed"
    },
    "tags": []
   },
   "source": [
    "In this case, the float you are using has no numbers after the decimal.  \n",
    "- But what happens when you try to convert a float with a fractional part to an integer?  \n",
    "- How does the outcome of the `int` function change for positive and negative numbers?\n",
    "\n",
    "Use the next code cell to investigate and answer these questions.  Feel free to add or remove any lines of code -- it is your workspace!"
   ]
  },
  {
   "cell_type": "code",
   "execution_count": 3,
   "id": "b860b4da",
   "metadata": {
    "execution": {
     "iopub.execute_input": "2023-06-10T08:08:16.646331Z",
     "iopub.status.busy": "2023-06-10T08:08:16.645732Z",
     "iopub.status.idle": "2023-06-10T08:08:16.651588Z",
     "shell.execute_reply": "2023-06-10T08:08:16.649542Z"
    },
    "papermill": {
     "duration": 0.016862,
     "end_time": "2023-06-10T08:08:16.654393",
     "exception": false,
     "start_time": "2023-06-10T08:08:16.637531",
     "status": "completed"
    },
    "tags": []
   },
   "outputs": [
    {
     "name": "stdout",
     "output_type": "stream",
     "text": [
      "1\n",
      "1\n",
      "-3\n",
      "-2\n"
     ]
    }
   ],
   "source": [
    "# Uncomment and run this code to get started!\n",
    "print(int(1.2321))\n",
    "print(int(1.747))\n",
    "print(int(-3.94535))\n",
    "print(int(-2.19774))"
   ]
  },
  {
   "cell_type": "markdown",
   "id": "e1a909d5",
   "metadata": {
    "papermill": {
     "duration": 0.005927,
     "end_time": "2023-06-10T08:08:16.666434",
     "exception": false,
     "start_time": "2023-06-10T08:08:16.660507",
     "status": "completed"
    },
    "tags": []
   },
   "source": [
    "Once you have an answer, run the code cell below to see the solution.  Viewing the solution will give you credit for answering the problem."
   ]
  },
  {
   "cell_type": "code",
   "execution_count": 4,
   "id": "011fc754",
   "metadata": {
    "execution": {
     "iopub.execute_input": "2023-06-10T08:08:16.679860Z",
     "iopub.status.busy": "2023-06-10T08:08:16.679499Z",
     "iopub.status.idle": "2023-06-10T08:08:16.689301Z",
     "shell.execute_reply": "2023-06-10T08:08:16.688126Z"
    },
    "papermill": {
     "duration": 0.019138,
     "end_time": "2023-06-10T08:08:16.691488",
     "exception": false,
     "start_time": "2023-06-10T08:08:16.672350",
     "status": "completed"
    },
    "tags": []
   },
   "outputs": [
    {
     "data": {
      "application/javascript": [
       "parent.postMessage({\"jupyterEvent\": \"custom.exercise_interaction\", \"data\": {\"outcomeType\": 1, \"valueTowardsCompletion\": 0.2, \"interactionType\": 1, \"questionType\": 4, \"questionId\": \"1_FloatToInt\", \"learnToolsVersion\": \"0.3.4\", \"failureMessage\": \"\", \"exceptionClass\": \"\", \"trace\": \"\"}}, \"*\")"
      ],
      "text/plain": [
       "<IPython.core.display.Javascript object>"
      ]
     },
     "metadata": {},
     "output_type": "display_data"
    },
    {
     "data": {
      "text/markdown": [
       "<span style=\"color:#33cc33\">Correct:</span> \n",
       "\n",
       "Negative floats are always rounded UP to the closest integer (for instance, both -1.1 and -1.9 are rounded up to -1). Positive floats are always rounded DOWN to the closest integer (for instance, 2.1 and 2.9 are rounded down to 2)."
      ],
      "text/plain": [
       "Correct: \n",
       "\n",
       "Negative floats are always rounded UP to the closest integer (for instance, both -1.1 and -1.9 are rounded up to -1). Positive floats are always rounded DOWN to the closest integer (for instance, 2.1 and 2.9 are rounded down to 2)."
      ]
     },
     "metadata": {},
     "output_type": "display_data"
    }
   ],
   "source": [
    "# Check your answer (Run this code cell to receive credit!)\n",
    "q1.check()"
   ]
  },
  {
   "cell_type": "markdown",
   "id": "ff76db9f",
   "metadata": {
    "papermill": {
     "duration": 0.006445,
     "end_time": "2023-06-10T08:08:16.705140",
     "exception": false,
     "start_time": "2023-06-10T08:08:16.698695",
     "status": "completed"
    },
    "tags": []
   },
   "source": [
    "# Question 2\n",
    "\n",
    "In the tutorial, you learned about booleans (which can take a value of `True` or `False`), in addition to integers, floats, and strings.  For this question, your goal is to determine what happens when you multiply a boolean by any of these data types.  Specifically, \n",
    "- What happens when you multiply an integer or float by `True`?  What happens when you multiply them by `False`?  How does the answer change if the numbers are positive or negative?\n",
    "- What happens when you multiply a string by `True`?  By `False`?\n",
    "\n",
    "Use the next code cell for your investigation. "
   ]
  },
  {
   "cell_type": "code",
   "execution_count": 5,
   "id": "69c528e8",
   "metadata": {
    "execution": {
     "iopub.execute_input": "2023-06-10T08:08:16.720890Z",
     "iopub.status.busy": "2023-06-10T08:08:16.720195Z",
     "iopub.status.idle": "2023-06-10T08:08:16.728473Z",
     "shell.execute_reply": "2023-06-10T08:08:16.726723Z"
    },
    "papermill": {
     "duration": 0.018497,
     "end_time": "2023-06-10T08:08:16.730588",
     "exception": false,
     "start_time": "2023-06-10T08:08:16.712091",
     "status": "completed"
    },
    "tags": []
   },
   "outputs": [
    {
     "name": "stdout",
     "output_type": "stream",
     "text": [
      "3\n",
      "\n",
      "<class 'str'>\n",
      "0\n"
     ]
    }
   ],
   "source": [
    "# Uncomment and run this code to get started!\n",
    "print(3 * True)\n",
    "print(\"-3.1\" * False)\n",
    "print(type(\"abc\" * False))\n",
    "print(len(\"abc\" * False))"
   ]
  },
  {
   "cell_type": "markdown",
   "id": "14bcf273",
   "metadata": {
    "papermill": {
     "duration": 0.005719,
     "end_time": "2023-06-10T08:08:16.742697",
     "exception": false,
     "start_time": "2023-06-10T08:08:16.736978",
     "status": "completed"
    },
    "tags": []
   },
   "source": [
    "Once you have an answer, run the code cell below to see the solution.  Viewing the solution will give you credit for answering the problem."
   ]
  },
  {
   "cell_type": "code",
   "execution_count": 6,
   "id": "81df1d20",
   "metadata": {
    "execution": {
     "iopub.execute_input": "2023-06-10T08:08:16.758039Z",
     "iopub.status.busy": "2023-06-10T08:08:16.757452Z",
     "iopub.status.idle": "2023-06-10T08:08:16.764949Z",
     "shell.execute_reply": "2023-06-10T08:08:16.764243Z"
    },
    "papermill": {
     "duration": 0.01759,
     "end_time": "2023-06-10T08:08:16.766736",
     "exception": false,
     "start_time": "2023-06-10T08:08:16.749146",
     "status": "completed"
    },
    "tags": []
   },
   "outputs": [
    {
     "data": {
      "application/javascript": [
       "parent.postMessage({\"jupyterEvent\": \"custom.exercise_interaction\", \"data\": {\"outcomeType\": 1, \"valueTowardsCompletion\": 0.2, \"interactionType\": 1, \"questionType\": 4, \"questionId\": \"2_MultiplyBooleans\", \"learnToolsVersion\": \"0.3.4\", \"failureMessage\": \"\", \"exceptionClass\": \"\", \"trace\": \"\"}}, \"*\")"
      ],
      "text/plain": [
       "<IPython.core.display.Javascript object>"
      ]
     },
     "metadata": {},
     "output_type": "display_data"
    },
    {
     "data": {
      "text/markdown": [
       "<span style=\"color:#33cc33\">Correct:</span> \n",
       "\n",
       "When you multiple an integer or float by a boolean with value `True`, it just returns that same integer or float (and is equivalent to multiplying by 1).  If you multiply an integer or float by a boolean with value `False`, it always returns 0.  This is true for both positive and negative numbers.  If you multiply a string by a boolean with value `True`, it just returns that same string.  And if you multiply a string by a boolean with value `False`, it returns an empty string (or a string with length zero)."
      ],
      "text/plain": [
       "Correct: \n",
       "\n",
       "When you multiple an integer or float by a boolean with value `True`, it just returns that same integer or float (and is equivalent to multiplying by 1).  If you multiply an integer or float by a boolean with value `False`, it always returns 0.  This is true for both positive and negative numbers.  If you multiply a string by a boolean with value `True`, it just returns that same string.  And if you multiply a string by a boolean with value `False`, it returns an empty string (or a string with length zero)."
      ]
     },
     "metadata": {},
     "output_type": "display_data"
    }
   ],
   "source": [
    "# Check your answer (Run this code cell to receive credit!)\n",
    "q2.check()"
   ]
  },
  {
   "cell_type": "markdown",
   "id": "3a54f805",
   "metadata": {
    "papermill": {
     "duration": 0.006314,
     "end_time": "2023-06-10T08:08:16.780005",
     "exception": false,
     "start_time": "2023-06-10T08:08:16.773691",
     "status": "completed"
    },
    "tags": []
   },
   "source": [
    "# Question 3\n",
    "\n",
    "In this question, you will build off your work from the previous exercise to write a function that estimates the value of a house.\n",
    "\n",
    "Use the next code cell to create a function `get_expected_cost` that takes as input three variables:\n",
    "- `beds` - number of bedrooms (data type float)\n",
    "- `baths` - number of bathrooms (data type float)\n",
    "- `has_basement` - whether or not the house has a basement (data type boolean)\n",
    "\n",
    "It should return the expected cost of a house with those characteristics. Assume that:\n",
    "- the expected cost for a house with 0 bedrooms and 0 bathrooms, and no basement is 80000, \n",
    "- each bedroom adds 30000 to the expected cost,\n",
    "- each bathroom adds 10000 to the expected cost, and\n",
    "- a basement adds 40000 to the expected cost.\n",
    "\n",
    "For instance,\n",
    "- a house with 1 bedroom, 1 bathroom, and no basement has an expected cost of 80000 + 30000 + 10000 = 120000.  This value will be calculated with `get_expected_cost(1, 1, False)`.\n",
    "- a house with 2 bedrooms, 1 bathroom, and a basement has an expected cost of 80000 + 2*30000 + 10000 + 40000 = 190000.  This value will be calculated with `get_expected_cost(2, 1, True)`.\n",
    "\n",
    "Remember you can always get a hint by uncommenting `q3.hint()` in the code cell following the next!"
   ]
  },
  {
   "cell_type": "code",
   "execution_count": 7,
   "id": "638ebe9b",
   "metadata": {
    "execution": {
     "iopub.execute_input": "2023-06-10T08:08:16.795903Z",
     "iopub.status.busy": "2023-06-10T08:08:16.795060Z",
     "iopub.status.idle": "2023-06-10T08:08:16.805642Z",
     "shell.execute_reply": "2023-06-10T08:08:16.803134Z"
    },
    "papermill": {
     "duration": 0.022104,
     "end_time": "2023-06-10T08:08:16.808829",
     "exception": false,
     "start_time": "2023-06-10T08:08:16.786725",
     "status": "completed"
    },
    "tags": []
   },
   "outputs": [
    {
     "data": {
      "application/javascript": [
       "parent.postMessage({\"jupyterEvent\": \"custom.exercise_interaction\", \"data\": {\"outcomeType\": 1, \"valueTowardsCompletion\": 0.2, \"interactionType\": 1, \"questionType\": 2, \"questionId\": \"3_EstimateHouseValueBool\", \"learnToolsVersion\": \"0.3.4\", \"failureMessage\": \"\", \"exceptionClass\": \"\", \"trace\": \"\"}}, \"*\")"
      ],
      "text/plain": [
       "<IPython.core.display.Javascript object>"
      ]
     },
     "metadata": {},
     "output_type": "display_data"
    },
    {
     "data": {
      "text/markdown": [
       "<span style=\"color:#33cc33\">Correct</span>"
      ],
      "text/plain": [
       "Correct"
      ]
     },
     "metadata": {},
     "output_type": "display_data"
    }
   ],
   "source": [
    "# TODO: Complete the function\n",
    "def get_expected_cost(beds, baths, has_basement):\n",
    "    house_price = 80000\n",
    "    beds_price = beds * 30000\n",
    "    bath_price = baths * 10000\n",
    "    \n",
    "    total = house_price + beds_price + bath_price\n",
    "    \n",
    "    if(has_basement):\n",
    "        total += 40000\n",
    "    \n",
    "    return total\n",
    "\n",
    "# Check your answer \n",
    "q3.check()"
   ]
  },
  {
   "cell_type": "code",
   "execution_count": 8,
   "id": "fe6cff52",
   "metadata": {
    "execution": {
     "iopub.execute_input": "2023-06-10T08:08:16.826666Z",
     "iopub.status.busy": "2023-06-10T08:08:16.826206Z",
     "iopub.status.idle": "2023-06-10T08:08:16.831658Z",
     "shell.execute_reply": "2023-06-10T08:08:16.830596Z"
    },
    "papermill": {
     "duration": 0.017218,
     "end_time": "2023-06-10T08:08:16.833588",
     "exception": false,
     "start_time": "2023-06-10T08:08:16.816370",
     "status": "completed"
    },
    "tags": []
   },
   "outputs": [],
   "source": [
    "# Uncomment to see a hint\n",
    "#q3.hint()\n",
    "\n",
    "# Uncomment to view the solution\n",
    "#q3.solution()"
   ]
  },
  {
   "cell_type": "markdown",
   "id": "5743854e",
   "metadata": {
    "papermill": {
     "duration": 0.006152,
     "end_time": "2023-06-10T08:08:16.846629",
     "exception": false,
     "start_time": "2023-06-10T08:08:16.840477",
     "status": "completed"
    },
    "tags": []
   },
   "source": [
    "# Question 4\n",
    "\n",
    "We'll continue our study of boolean arithmetic.  For this question, your task is to provide a description of what happpens when you add booleans. \n",
    "\n",
    "Use the next code cell for your investigation.  Feel free to add or remove any lines of code - use it as your workspace!"
   ]
  },
  {
   "cell_type": "code",
   "execution_count": 9,
   "id": "3efec483",
   "metadata": {
    "execution": {
     "iopub.execute_input": "2023-06-10T08:08:16.861712Z",
     "iopub.status.busy": "2023-06-10T08:08:16.861350Z",
     "iopub.status.idle": "2023-06-10T08:08:16.866941Z",
     "shell.execute_reply": "2023-06-10T08:08:16.865614Z"
    },
    "papermill": {
     "duration": 0.015573,
     "end_time": "2023-06-10T08:08:16.869008",
     "exception": false,
     "start_time": "2023-06-10T08:08:16.853435",
     "status": "completed"
    },
    "tags": []
   },
   "outputs": [
    {
     "name": "stdout",
     "output_type": "stream",
     "text": [
      "0\n",
      "1\n",
      "1\n",
      "2\n",
      "3\n"
     ]
    }
   ],
   "source": [
    "print(False + False)\n",
    "print(True + False)\n",
    "print(False + True)\n",
    "print(True + True)\n",
    "print(False + True + True + True)"
   ]
  },
  {
   "cell_type": "markdown",
   "id": "81c3d861",
   "metadata": {
    "papermill": {
     "duration": 0.00656,
     "end_time": "2023-06-10T08:08:16.882656",
     "exception": false,
     "start_time": "2023-06-10T08:08:16.876096",
     "status": "completed"
    },
    "tags": []
   },
   "source": [
    "Once you have an answer, run the code cell below to see the solution.  Viewing the solution will give you credit for answering the problem."
   ]
  },
  {
   "cell_type": "code",
   "execution_count": 10,
   "id": "12236bd2",
   "metadata": {
    "execution": {
     "iopub.execute_input": "2023-06-10T08:08:16.897912Z",
     "iopub.status.busy": "2023-06-10T08:08:16.897487Z",
     "iopub.status.idle": "2023-06-10T08:08:16.906590Z",
     "shell.execute_reply": "2023-06-10T08:08:16.904459Z"
    },
    "papermill": {
     "duration": 0.020015,
     "end_time": "2023-06-10T08:08:16.909436",
     "exception": false,
     "start_time": "2023-06-10T08:08:16.889421",
     "status": "completed"
    },
    "tags": []
   },
   "outputs": [
    {
     "data": {
      "application/javascript": [
       "parent.postMessage({\"jupyterEvent\": \"custom.exercise_interaction\", \"data\": {\"outcomeType\": 1, \"valueTowardsCompletion\": 0.2, \"interactionType\": 1, \"questionType\": 4, \"questionId\": \"4_AddingBooleans\", \"learnToolsVersion\": \"0.3.4\", \"failureMessage\": \"\", \"exceptionClass\": \"\", \"trace\": \"\"}}, \"*\")"
      ],
      "text/plain": [
       "<IPython.core.display.Javascript object>"
      ]
     },
     "metadata": {},
     "output_type": "display_data"
    },
    {
     "data": {
      "text/markdown": [
       "<span style=\"color:#33cc33\">Correct:</span> \n",
       "\n",
       "When you add booleans, adding `False` is equivalent to adding 0, and adding `True` is equivalent to adding 1."
      ],
      "text/plain": [
       "Correct: \n",
       "\n",
       "When you add booleans, adding `False` is equivalent to adding 0, and adding `True` is equivalent to adding 1."
      ]
     },
     "metadata": {},
     "output_type": "display_data"
    }
   ],
   "source": [
    "# Check your answer (Run this code cell to receive credit!)\n",
    "q4.check()"
   ]
  },
  {
   "cell_type": "markdown",
   "id": "165856d2",
   "metadata": {
    "papermill": {
     "duration": 0.006842,
     "end_time": "2023-06-10T08:08:16.923894",
     "exception": false,
     "start_time": "2023-06-10T08:08:16.917052",
     "status": "completed"
    },
    "tags": []
   },
   "source": [
    "# 🌶️ Question 5\n",
    "\n",
    "You own an online shop where you sell rings with custom engravings.  You offer both gold plated and solid gold rings.\n",
    "- Gold plated rings have a base cost of \\\\$50, and you charge \\\\$7 per engraved unit.  \n",
    "- Solid gold rings have a base cost of \\\\$100, and you charge \\\\$10 per engraved unit.\n",
    "- Spaces and punctuation are counted as engraved units.\n",
    "\n",
    "Write a function `cost_of_project()` that takes two arguments:\n",
    "- `engraving` - a Python string with the text of the engraving\n",
    "- `solid_gold` - a Boolean that indicates whether the ring is solid gold\n",
    "\n",
    "It should return the cost of the project.  This question should be fairly challenging, and you may need a hint."
   ]
  },
  {
   "cell_type": "code",
   "execution_count": 11,
   "id": "0730698e",
   "metadata": {
    "execution": {
     "iopub.execute_input": "2023-06-10T08:08:16.939857Z",
     "iopub.status.busy": "2023-06-10T08:08:16.939471Z",
     "iopub.status.idle": "2023-06-10T08:08:16.949648Z",
     "shell.execute_reply": "2023-06-10T08:08:16.948536Z"
    },
    "papermill": {
     "duration": 0.020588,
     "end_time": "2023-06-10T08:08:16.952211",
     "exception": false,
     "start_time": "2023-06-10T08:08:16.931623",
     "status": "completed"
    },
    "tags": []
   },
   "outputs": [
    {
     "data": {
      "application/javascript": [
       "parent.postMessage({\"jupyterEvent\": \"custom.exercise_interaction\", \"data\": {\"outcomeType\": 2, \"failureMessage\": \"Expected return value of `240` given `engraving='Charlie+Denver'`, `solid_gold=True`, but got `<learntools.core.constants.PlaceholderValue object at 0x78f2ff1cf6a0>` instead.\", \"interactionType\": 1, \"questionType\": 2, \"questionId\": \"5_CustomEngravings\", \"learnToolsVersion\": \"0.3.4\", \"valueTowardsCompletion\": 0.0, \"exceptionClass\": \"\", \"trace\": \"\"}}, \"*\")"
      ],
      "text/plain": [
       "<IPython.core.display.Javascript object>"
      ]
     },
     "metadata": {},
     "output_type": "display_data"
    },
    {
     "data": {
      "text/markdown": [
       "<span style=\"color:#cc3333\">Incorrect:</span> Expected return value of `240` given `engraving='Charlie+Denver'`, `solid_gold=True`, but got `<learntools.core.constants.PlaceholderValue object at 0x78f2ff1cf6a0>` instead."
      ],
      "text/plain": [
       "Incorrect: Expected return value of `240` given `engraving='Charlie+Denver'`, `solid_gold=True`, but got `<learntools.core.constants.PlaceholderValue object at 0x78f2ff1cf6a0>` instead."
      ]
     },
     "metadata": {},
     "output_type": "display_data"
    }
   ],
   "source": [
    "def cost_of_project(engraving, solid_gold):\n",
    "    if(solid_gold):\n",
    "        cost = 100\n",
    "        cost += len(engraving) * 10\n",
    "    else:\n",
    "        cost = 50\n",
    "        cost += len(engraving) * 7\n",
    "    \n",
    "    cost = ____\n",
    "    return cost\n",
    "\n",
    "# Check your answer\n",
    "q5.check()"
   ]
  },
  {
   "cell_type": "code",
   "execution_count": 12,
   "id": "9f723c3e",
   "metadata": {
    "execution": {
     "iopub.execute_input": "2023-06-10T08:08:16.969124Z",
     "iopub.status.busy": "2023-06-10T08:08:16.968776Z",
     "iopub.status.idle": "2023-06-10T08:08:16.973668Z",
     "shell.execute_reply": "2023-06-10T08:08:16.972166Z"
    },
    "papermill": {
     "duration": 0.016788,
     "end_time": "2023-06-10T08:08:16.976363",
     "exception": false,
     "start_time": "2023-06-10T08:08:16.959575",
     "status": "completed"
    },
    "tags": []
   },
   "outputs": [],
   "source": [
    "# Uncomment to see a hint\n",
    "#q5.hint()\n",
    "\n",
    "# Uncomment to view the solution\n",
    "#q5.solution()"
   ]
  },
  {
   "cell_type": "markdown",
   "id": "61123836",
   "metadata": {
    "papermill": {
     "duration": 0.007032,
     "end_time": "2023-06-10T08:08:16.990840",
     "exception": false,
     "start_time": "2023-06-10T08:08:16.983808",
     "status": "completed"
    },
    "tags": []
   },
   "source": [
    "Run the next code cell to calculate the cost of engraving `Charlie+Denver` on a solid gold ring."
   ]
  },
  {
   "cell_type": "code",
   "execution_count": 13,
   "id": "2e588cd3",
   "metadata": {
    "execution": {
     "iopub.execute_input": "2023-06-10T08:08:17.007749Z",
     "iopub.status.busy": "2023-06-10T08:08:17.007010Z",
     "iopub.status.idle": "2023-06-10T08:08:17.013547Z",
     "shell.execute_reply": "2023-06-10T08:08:17.011589Z"
    },
    "papermill": {
     "duration": 0.018694,
     "end_time": "2023-06-10T08:08:17.016770",
     "exception": false,
     "start_time": "2023-06-10T08:08:16.998076",
     "status": "completed"
    },
    "tags": []
   },
   "outputs": [
    {
     "name": "stdout",
     "output_type": "stream",
     "text": [
      "<learntools.core.constants.PlaceholderValue object at 0x78f2ff1cf6a0>\n"
     ]
    }
   ],
   "source": [
    "project_one = cost_of_project(\"Charlie+Denver\", True)\n",
    "print(project_one)"
   ]
  },
  {
   "cell_type": "markdown",
   "id": "7049a365",
   "metadata": {
    "papermill": {
     "duration": 0.007914,
     "end_time": "2023-06-10T08:08:17.032876",
     "exception": false,
     "start_time": "2023-06-10T08:08:17.024962",
     "status": "completed"
    },
    "tags": []
   },
   "source": [
    "Use the next code cell to calculate the cost of engraving `08/10/2000` on a gold plated ring."
   ]
  },
  {
   "cell_type": "code",
   "execution_count": 14,
   "id": "3f7b35df",
   "metadata": {
    "execution": {
     "iopub.execute_input": "2023-06-10T08:08:17.049922Z",
     "iopub.status.busy": "2023-06-10T08:08:17.049553Z",
     "iopub.status.idle": "2023-06-10T08:08:17.056604Z",
     "shell.execute_reply": "2023-06-10T08:08:17.054528Z"
    },
    "papermill": {
     "duration": 0.018142,
     "end_time": "2023-06-10T08:08:17.058797",
     "exception": false,
     "start_time": "2023-06-10T08:08:17.040655",
     "status": "completed"
    },
    "tags": []
   },
   "outputs": [
    {
     "name": "stdout",
     "output_type": "stream",
     "text": [
      "<learntools.core.constants.PlaceholderValue object at 0x78f2ff1cf6a0>\n"
     ]
    }
   ],
   "source": [
    "project_two = cost_of_project(\"08/10/2000\", False)\n",
    "print(project_two)"
   ]
  },
  {
   "cell_type": "markdown",
   "id": "df4d6f3e",
   "metadata": {
    "papermill": {
     "duration": 0.006493,
     "end_time": "2023-06-10T08:08:17.072751",
     "exception": false,
     "start_time": "2023-06-10T08:08:17.066258",
     "status": "completed"
    },
    "tags": []
   },
   "source": [
    "# Keep going\n",
    "\n",
    "Continue to the next lesson to **[learn about conditions and conditional statements](https://www.kaggle.com/alexisbcook/conditions-and-conditional-statements)**."
   ]
  },
  {
   "cell_type": "markdown",
   "id": "e2d4f675",
   "metadata": {
    "papermill": {
     "duration": 0.006794,
     "end_time": "2023-06-10T08:08:17.086435",
     "exception": false,
     "start_time": "2023-06-10T08:08:17.079641",
     "status": "completed"
    },
    "tags": []
   },
   "source": [
    "---\n",
    "\n",
    "\n",
    "\n",
    "\n",
    "*Have questions or comments? Visit the [course discussion forum](https://www.kaggle.com/learn/intro-to-programming/discussion) to chat with other learners.*"
   ]
  }
 ],
 "metadata": {
  "kernelspec": {
   "display_name": "Python 3",
   "language": "python",
   "name": "python3"
  },
  "language_info": {
   "codemirror_mode": {
    "name": "ipython",
    "version": 3
   },
   "file_extension": ".py",
   "mimetype": "text/x-python",
   "name": "python",
   "nbconvert_exporter": "python",
   "pygments_lexer": "ipython3",
   "version": "3.10.10"
  },
  "papermill": {
   "default_parameters": {},
   "duration": 11.572394,
   "end_time": "2023-06-10T08:08:18.015081",
   "environment_variables": {},
   "exception": null,
   "input_path": "__notebook__.ipynb",
   "output_path": "__notebook__.ipynb",
   "parameters": {},
   "start_time": "2023-06-10T08:08:06.442687",
   "version": "2.4.0"
  }
 },
 "nbformat": 4,
 "nbformat_minor": 5
}
