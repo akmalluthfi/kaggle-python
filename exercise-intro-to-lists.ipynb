{
 "cells": [
  {
   "cell_type": "markdown",
   "id": "5b8feccc",
   "metadata": {
    "papermill": {
     "duration": 0.006222,
     "end_time": "2023-06-10T08:09:15.847233",
     "exception": false,
     "start_time": "2023-06-10T08:09:15.841011",
     "status": "completed"
    },
    "tags": []
   },
   "source": [
    "**This notebook is an exercise in the [Intro to Programming](https://www.kaggle.com/learn/intro-to-programming) course.  You can reference the tutorial at [this link](https://www.kaggle.com/alexisbcook/intro-to-lists).**\n",
    "\n",
    "---\n"
   ]
  },
  {
   "cell_type": "markdown",
   "id": "be39fabf",
   "metadata": {
    "papermill": {
     "duration": 0.005457,
     "end_time": "2023-06-10T08:09:15.858638",
     "exception": false,
     "start_time": "2023-06-10T08:09:15.853181",
     "status": "completed"
    },
    "tags": []
   },
   "source": [
    "In the tutorial, you learned how to define and modify Python lists.  In this exercise, you will use your new knowledge to solve several problems.\n",
    "\n",
    "# Set up the notebook\n",
    "\n",
    "Run the next code cell without changes to set up the notebook."
   ]
  },
  {
   "cell_type": "code",
   "execution_count": 1,
   "id": "11fb8637",
   "metadata": {
    "execution": {
     "iopub.execute_input": "2023-06-10T08:09:15.872411Z",
     "iopub.status.busy": "2023-06-10T08:09:15.871618Z",
     "iopub.status.idle": "2023-06-10T08:09:15.921695Z",
     "shell.execute_reply": "2023-06-10T08:09:15.920850Z"
    },
    "papermill": {
     "duration": 0.059922,
     "end_time": "2023-06-10T08:09:15.924189",
     "exception": false,
     "start_time": "2023-06-10T08:09:15.864267",
     "status": "completed"
    },
    "tags": []
   },
   "outputs": [
    {
     "name": "stdout",
     "output_type": "stream",
     "text": [
      "Setup complete.\n"
     ]
    }
   ],
   "source": [
    "from learntools.core import binder\n",
    "binder.bind(globals())\n",
    "from learntools.intro_to_programming.ex5 import *\n",
    "print('Setup complete.')"
   ]
  },
  {
   "cell_type": "markdown",
   "id": "e153147e",
   "metadata": {
    "papermill": {
     "duration": 0.005613,
     "end_time": "2023-06-10T08:09:15.936906",
     "exception": false,
     "start_time": "2023-06-10T08:09:15.931293",
     "status": "completed"
    },
    "tags": []
   },
   "source": [
    "# Question 1\n",
    "\n",
    "You own a restaurant with five food dishes, organized in the Python list `menu` below.  One day, you decide to:\n",
    "- remove bean soup (`'bean soup'`) from the menu, and\n",
    "- add roasted beet salad (`'roasted beet salad'`) to the menu.\n",
    "\n",
    "Implement this change to the list below.  While completing this task, \n",
    "- do not change the line that creates the `menu` list.  \n",
    "- your answer should use `.remove()` and `.append()`.  "
   ]
  },
  {
   "cell_type": "code",
   "execution_count": 2,
   "id": "8457e83c",
   "metadata": {
    "execution": {
     "iopub.execute_input": "2023-06-10T08:09:15.956530Z",
     "iopub.status.busy": "2023-06-10T08:09:15.955393Z",
     "iopub.status.idle": "2023-06-10T08:09:15.970146Z",
     "shell.execute_reply": "2023-06-10T08:09:15.969101Z"
    },
    "papermill": {
     "duration": 0.028083,
     "end_time": "2023-06-10T08:09:15.972153",
     "exception": false,
     "start_time": "2023-06-10T08:09:15.944070",
     "status": "completed"
    },
    "tags": []
   },
   "outputs": [
    {
     "data": {
      "application/javascript": [
       "parent.postMessage({\"jupyterEvent\": \"custom.exercise_interaction\", \"data\": {\"outcomeType\": 1, \"valueTowardsCompletion\": 0.2, \"interactionType\": 1, \"questionType\": 2, \"questionId\": \"1_FoodMenu\", \"learnToolsVersion\": \"0.3.4\", \"failureMessage\": \"\", \"exceptionClass\": \"\", \"trace\": \"\"}}, \"*\")"
      ],
      "text/plain": [
       "<IPython.core.display.Javascript object>"
      ]
     },
     "metadata": {},
     "output_type": "display_data"
    },
    {
     "data": {
      "text/markdown": [
       "<span style=\"color:#33cc33\">Correct</span>"
      ],
      "text/plain": [
       "Correct"
      ]
     },
     "metadata": {},
     "output_type": "display_data"
    }
   ],
   "source": [
    "# Do not change: Initial menu for your restaurant\n",
    "menu = ['stewed meat with onions', 'bean soup', 'risotto with trout and shrimp',\n",
    "       'fish soup with cream and onion', 'gyro']\n",
    "\n",
    "# TODO: remove 'bean soup', and add 'roasted beet salad' to the end of the menu\n",
    "____\n",
    "menu.remove('bean soup')\n",
    "menu.append('roasted beet salad')\n",
    "\n",
    "# Do not change: Check your answer\n",
    "q1.check()"
   ]
  },
  {
   "cell_type": "code",
   "execution_count": 3,
   "id": "f40d734c",
   "metadata": {
    "execution": {
     "iopub.execute_input": "2023-06-10T08:09:15.989221Z",
     "iopub.status.busy": "2023-06-10T08:09:15.987291Z",
     "iopub.status.idle": "2023-06-10T08:09:15.993726Z",
     "shell.execute_reply": "2023-06-10T08:09:15.992057Z"
    },
    "papermill": {
     "duration": 0.019161,
     "end_time": "2023-06-10T08:09:15.997366",
     "exception": false,
     "start_time": "2023-06-10T08:09:15.978205",
     "status": "completed"
    },
    "tags": []
   },
   "outputs": [],
   "source": [
    "# Uncomment to see a hint\n",
    "#q1.hint()\n",
    "\n",
    "# Uncomment to see the solution\n",
    "#q1.solution()"
   ]
  },
  {
   "cell_type": "markdown",
   "id": "c947da63",
   "metadata": {
    "papermill": {
     "duration": 0.005672,
     "end_time": "2023-06-10T08:09:16.009732",
     "exception": false,
     "start_time": "2023-06-10T08:09:16.004060",
     "status": "completed"
    },
    "tags": []
   },
   "source": [
    "# Question 2\n",
    "\n",
    "The list `num_customers` contains the number of customers who came into your restaurant every day over the last month (which lasted thirty days).  Fill in values for each of the following:\n",
    "- `avg_first_seven` - average number of customers who visited in the first seven days\n",
    "- `avg_last_seven` - average number of customers who visited in the last seven days\n",
    "- `max_month` - number of customers on the day that got the most customers in the last month\n",
    "- `min_month` - number of customers on the day that got the least customers in the last month\n",
    "\n",
    "Answer this question by writing code.  For instance, if you have to find the minimum value in a list, use `min()` instead of scanning for the smallest value and directly filling in a number."
   ]
  },
  {
   "cell_type": "code",
   "execution_count": 4,
   "id": "36f33c2d",
   "metadata": {
    "execution": {
     "iopub.execute_input": "2023-06-10T08:09:16.023711Z",
     "iopub.status.busy": "2023-06-10T08:09:16.023149Z",
     "iopub.status.idle": "2023-06-10T08:09:16.032368Z",
     "shell.execute_reply": "2023-06-10T08:09:16.031404Z"
    },
    "papermill": {
     "duration": 0.018748,
     "end_time": "2023-06-10T08:09:16.034464",
     "exception": false,
     "start_time": "2023-06-10T08:09:16.015716",
     "status": "completed"
    },
    "tags": []
   },
   "outputs": [
    {
     "data": {
      "application/javascript": [
       "parent.postMessage({\"jupyterEvent\": \"custom.exercise_interaction\", \"data\": {\"outcomeType\": 1, \"valueTowardsCompletion\": 0.2, \"interactionType\": 1, \"questionType\": 1, \"questionId\": \"2_NumCustomers\", \"learnToolsVersion\": \"0.3.4\", \"failureMessage\": \"\", \"exceptionClass\": \"\", \"trace\": \"\"}}, \"*\")"
      ],
      "text/plain": [
       "<IPython.core.display.Javascript object>"
      ]
     },
     "metadata": {},
     "output_type": "display_data"
    },
    {
     "data": {
      "text/markdown": [
       "<span style=\"color:#33cc33\">Correct</span>"
      ],
      "text/plain": [
       "Correct"
      ]
     },
     "metadata": {},
     "output_type": "display_data"
    }
   ],
   "source": [
    "# Do not change: Number of customers each day for the last month\n",
    "num_customers = [137, 147, 135, 128, 170, 174, 165, 146, 126, 159,\n",
    "                 141, 148, 132, 147, 168, 153, 170, 161, 148, 152,\n",
    "                 141, 151, 131, 149, 164, 163, 143, 143, 166, 171]\n",
    "\n",
    "# TODO: Fill in values for the variables below\n",
    "avg_first_seven = sum(num_customers[:7]) / 7 \n",
    "avg_last_seven = sum(num_customers[-7:]) / 7\n",
    "max_month = max(num_customers)\n",
    "min_month = min(num_customers)\n",
    "\n",
    "# Do not change: Check your answer\n",
    "q2.check()"
   ]
  },
  {
   "cell_type": "code",
   "execution_count": 5,
   "id": "565475b4",
   "metadata": {
    "execution": {
     "iopub.execute_input": "2023-06-10T08:09:16.049083Z",
     "iopub.status.busy": "2023-06-10T08:09:16.048073Z",
     "iopub.status.idle": "2023-06-10T08:09:16.052806Z",
     "shell.execute_reply": "2023-06-10T08:09:16.051958Z"
    },
    "papermill": {
     "duration": 0.014128,
     "end_time": "2023-06-10T08:09:16.054834",
     "exception": false,
     "start_time": "2023-06-10T08:09:16.040706",
     "status": "completed"
    },
    "tags": []
   },
   "outputs": [],
   "source": [
    "# Uncomment to see a hint\n",
    "#q2.hint()\n",
    "\n",
    "# Uncomment to see the solution\n",
    "#q2.solution()"
   ]
  },
  {
   "cell_type": "markdown",
   "id": "0c831f16",
   "metadata": {
    "papermill": {
     "duration": 0.006156,
     "end_time": "2023-06-10T08:09:16.067558",
     "exception": false,
     "start_time": "2023-06-10T08:09:16.061402",
     "status": "completed"
    },
    "tags": []
   },
   "source": [
    "# Question 3\n",
    "\n",
    "In the tutorial, we gave an example of a Python string with information that was better as a list."
   ]
  },
  {
   "cell_type": "code",
   "execution_count": 6,
   "id": "67982cbb",
   "metadata": {
    "execution": {
     "iopub.execute_input": "2023-06-10T08:09:16.082234Z",
     "iopub.status.busy": "2023-06-10T08:09:16.081529Z",
     "iopub.status.idle": "2023-06-10T08:09:16.086288Z",
     "shell.execute_reply": "2023-06-10T08:09:16.085212Z"
    },
    "papermill": {
     "duration": 0.014247,
     "end_time": "2023-06-10T08:09:16.088251",
     "exception": false,
     "start_time": "2023-06-10T08:09:16.074004",
     "status": "completed"
    },
    "tags": []
   },
   "outputs": [],
   "source": [
    "flowers = \"pink primrose,hard-leaved pocket orchid,canterbury bells,sweet pea,english marigold,tiger lily,moon orchid,bird of paradise,monkshood,globe thistle\""
   ]
  },
  {
   "cell_type": "markdown",
   "id": "826a20df",
   "metadata": {
    "papermill": {
     "duration": 0.006007,
     "end_time": "2023-06-10T08:09:16.100594",
     "exception": false,
     "start_time": "2023-06-10T08:09:16.094587",
     "status": "completed"
    },
    "tags": []
   },
   "source": [
    "You can actually use Python to quickly turn this string into a list with `.split()`.  In the parentheses, we need to provide the character should be used to mark the end of one list item and the beginning of another, and enclose it in quotation marks.  In this case, that character is a comma."
   ]
  },
  {
   "cell_type": "code",
   "execution_count": 7,
   "id": "eede4e36",
   "metadata": {
    "execution": {
     "iopub.execute_input": "2023-06-10T08:09:16.115235Z",
     "iopub.status.busy": "2023-06-10T08:09:16.114494Z",
     "iopub.status.idle": "2023-06-10T08:09:16.120443Z",
     "shell.execute_reply": "2023-06-10T08:09:16.118979Z"
    },
    "papermill": {
     "duration": 0.015427,
     "end_time": "2023-06-10T08:09:16.122303",
     "exception": false,
     "start_time": "2023-06-10T08:09:16.106876",
     "status": "completed"
    },
    "tags": []
   },
   "outputs": [
    {
     "name": "stdout",
     "output_type": "stream",
     "text": [
      "['pink primrose', 'hard-leaved pocket orchid', 'canterbury bells', 'sweet pea', 'english marigold', 'tiger lily', 'moon orchid', 'bird of paradise', 'monkshood', 'globe thistle']\n"
     ]
    }
   ],
   "source": [
    " print(flowers.split(\",\"))"
   ]
  },
  {
   "cell_type": "markdown",
   "id": "09139a47",
   "metadata": {
    "papermill": {
     "duration": 0.005991,
     "end_time": "2023-06-10T08:09:16.134580",
     "exception": false,
     "start_time": "2023-06-10T08:09:16.128589",
     "status": "completed"
    },
    "tags": []
   },
   "source": [
    "Now it is your turn to try this out!  Create two Python lists:\n",
    "- `letters` should be a Python list where each entry is an uppercase letter of the English alphabet.  For instance, the first two entries should be `\"A\"` and `\"B\"`, and the final two entries should be `\"Y\"` and `\"Z\"`.  Use the string `alphabet` to create this list.\n",
    "- `address` should be a Python list where each row in `address` is a different item in the list.  Currently, each row in `address` is separated by a comma. "
   ]
  },
  {
   "cell_type": "code",
   "execution_count": 8,
   "id": "951f1dbf",
   "metadata": {
    "execution": {
     "iopub.execute_input": "2023-06-10T08:09:16.148709Z",
     "iopub.status.busy": "2023-06-10T08:09:16.148333Z",
     "iopub.status.idle": "2023-06-10T08:09:16.157322Z",
     "shell.execute_reply": "2023-06-10T08:09:16.156399Z"
    },
    "papermill": {
     "duration": 0.018274,
     "end_time": "2023-06-10T08:09:16.159192",
     "exception": false,
     "start_time": "2023-06-10T08:09:16.140918",
     "status": "completed"
    },
    "tags": []
   },
   "outputs": [
    {
     "data": {
      "application/javascript": [
       "parent.postMessage({\"jupyterEvent\": \"custom.exercise_interaction\", \"data\": {\"outcomeType\": 1, \"valueTowardsCompletion\": 0.2, \"interactionType\": 1, \"questionType\": 1, \"questionId\": \"3_SplitString\", \"learnToolsVersion\": \"0.3.4\", \"failureMessage\": \"\", \"exceptionClass\": \"\", \"trace\": \"\"}}, \"*\")"
      ],
      "text/plain": [
       "<IPython.core.display.Javascript object>"
      ]
     },
     "metadata": {},
     "output_type": "display_data"
    },
    {
     "data": {
      "text/markdown": [
       "<span style=\"color:#33cc33\">Correct</span>"
      ],
      "text/plain": [
       "Correct"
      ]
     },
     "metadata": {},
     "output_type": "display_data"
    }
   ],
   "source": [
    "# DO not change: Define two Python strings\n",
    "alphabet = \"A.B.C.D.E.F.G.H.I.J.K.L.M.N.O.P.Q.R.S.T.U.V.W.X.Y.Z\"\n",
    "address = \"Mr. H. Potter,The cupboard under the Stairs,4 Privet Drive,Little Whinging,Surrey\"\n",
    "\n",
    "# TODO: Convert strings into Python lists\n",
    "letters = alphabet.split('.')\n",
    "formatted_address = address.split(',')\n",
    "\n",
    "# Do not change: Check your answer\n",
    "q3.check()"
   ]
  },
  {
   "cell_type": "code",
   "execution_count": 9,
   "id": "810e72fd",
   "metadata": {
    "execution": {
     "iopub.execute_input": "2023-06-10T08:09:16.174098Z",
     "iopub.status.busy": "2023-06-10T08:09:16.173729Z",
     "iopub.status.idle": "2023-06-10T08:09:16.177614Z",
     "shell.execute_reply": "2023-06-10T08:09:16.176623Z"
    },
    "papermill": {
     "duration": 0.013923,
     "end_time": "2023-06-10T08:09:16.179630",
     "exception": false,
     "start_time": "2023-06-10T08:09:16.165707",
     "status": "completed"
    },
    "tags": []
   },
   "outputs": [],
   "source": [
    "# Uncomment to see a hint\n",
    "#q3.hint()\n",
    "\n",
    "# Uncomment to see the solution\n",
    "#q3.solution()"
   ]
  },
  {
   "cell_type": "markdown",
   "id": "f956ce00",
   "metadata": {
    "papermill": {
     "duration": 0.00646,
     "end_time": "2023-06-10T08:09:16.193003",
     "exception": false,
     "start_time": "2023-06-10T08:09:16.186543",
     "status": "completed"
    },
    "tags": []
   },
   "source": [
    "# Question 4\n",
    "\n",
    "In the Python course, you'll learn all about **list comprehensions**, which allow you to create a list based on the values in another list.  In this question, you'll get a brief preview of how they work.\n",
    "\n",
    "Say we're working with the list below."
   ]
  },
  {
   "cell_type": "code",
   "execution_count": 10,
   "id": "1a93df42",
   "metadata": {
    "execution": {
     "iopub.execute_input": "2023-06-10T08:09:16.208882Z",
     "iopub.status.busy": "2023-06-10T08:09:16.207755Z",
     "iopub.status.idle": "2023-06-10T08:09:16.212722Z",
     "shell.execute_reply": "2023-06-10T08:09:16.211733Z"
    },
    "papermill": {
     "duration": 0.015247,
     "end_time": "2023-06-10T08:09:16.214861",
     "exception": false,
     "start_time": "2023-06-10T08:09:16.199614",
     "status": "completed"
    },
    "tags": []
   },
   "outputs": [],
   "source": [
    "test_ratings = [1, 2, 3, 4, 5]"
   ]
  },
  {
   "cell_type": "markdown",
   "id": "889e3335",
   "metadata": {
    "papermill": {
     "duration": 0.006489,
     "end_time": "2023-06-10T08:09:16.228228",
     "exception": false,
     "start_time": "2023-06-10T08:09:16.221739",
     "status": "completed"
    },
    "tags": []
   },
   "source": [
    "Then we can use this list (`test_ratings`) to create a new list (`test_liked`) where each item has been turned into a boolean, depending on whether or not the item is greater than or equal to four."
   ]
  },
  {
   "cell_type": "code",
   "execution_count": 11,
   "id": "d7a9eb2b",
   "metadata": {
    "execution": {
     "iopub.execute_input": "2023-06-10T08:09:16.243202Z",
     "iopub.status.busy": "2023-06-10T08:09:16.242813Z",
     "iopub.status.idle": "2023-06-10T08:09:16.247351Z",
     "shell.execute_reply": "2023-06-10T08:09:16.246334Z"
    },
    "papermill": {
     "duration": 0.014689,
     "end_time": "2023-06-10T08:09:16.249628",
     "exception": false,
     "start_time": "2023-06-10T08:09:16.234939",
     "status": "completed"
    },
    "tags": []
   },
   "outputs": [],
   "source": [
    "# test_liked = [i>=4 for i in test_ratings]\n",
    "# print(test_liked)\n",
    "# print(list(map(lambda i: i>=4, test_ratings)))"
   ]
  },
  {
   "cell_type": "markdown",
   "id": "e4a8e3bf",
   "metadata": {
    "papermill": {
     "duration": 0.006293,
     "end_time": "2023-06-10T08:09:16.262779",
     "exception": false,
     "start_time": "2023-06-10T08:09:16.256486",
     "status": "completed"
    },
    "tags": []
   },
   "source": [
    "In this question, you'll use this list comprehension to define a function `percentage_liked()` that takes one argument as input:\n",
    "- `ratings`: list of ratings that people gave to a movie, where each rating is a number between 1-5, inclusive\n",
    "\n",
    "We say someone liked the movie, if they gave a rating of either 4 or 5.  Your function should return the percentage of people who liked the movie.\n",
    "\n",
    "For instance, if we supply a value of `[1, 2, 3, 4, 5, 4, 5, 1]`, then 50% (4/8) of the people liked the movie, and the function should return `0.5`.\n",
    "\n",
    "Part of the function has already been completed for you.  You need only use `list_liked` to calculate `percentage_liked`."
   ]
  },
  {
   "cell_type": "code",
   "execution_count": 12,
   "id": "cecd9188",
   "metadata": {
    "execution": {
     "iopub.execute_input": "2023-06-10T08:09:16.277481Z",
     "iopub.status.busy": "2023-06-10T08:09:16.277137Z",
     "iopub.status.idle": "2023-06-10T08:09:16.285841Z",
     "shell.execute_reply": "2023-06-10T08:09:16.284871Z"
    },
    "papermill": {
     "duration": 0.018549,
     "end_time": "2023-06-10T08:09:16.287802",
     "exception": false,
     "start_time": "2023-06-10T08:09:16.269253",
     "status": "completed"
    },
    "tags": []
   },
   "outputs": [
    {
     "data": {
      "application/javascript": [
       "parent.postMessage({\"jupyterEvent\": \"custom.exercise_interaction\", \"data\": {\"outcomeType\": 1, \"valueTowardsCompletion\": 0.2, \"interactionType\": 1, \"questionType\": 2, \"questionId\": \"4_PercentageLiked\", \"learnToolsVersion\": \"0.3.4\", \"failureMessage\": \"\", \"exceptionClass\": \"\", \"trace\": \"\"}}, \"*\")"
      ],
      "text/plain": [
       "<IPython.core.display.Javascript object>"
      ]
     },
     "metadata": {},
     "output_type": "display_data"
    },
    {
     "data": {
      "text/markdown": [
       "<span style=\"color:#33cc33\">Correct</span>"
      ],
      "text/plain": [
       "Correct"
      ]
     },
     "metadata": {},
     "output_type": "display_data"
    }
   ],
   "source": [
    "\n",
    "def percentage_liked(ratings):\n",
    "    list_liked = [i>=4 for i in ratings]\n",
    "    # TODO: Complete the function\n",
    "    percentage_liked = sum(list_liked) / len(ratings)\n",
    "    return percentage_liked\n",
    "\n",
    "# Do not change: should return 0.5\n",
    "percentage_liked([1, 2, 3, 4, 5, 4, 5, 1])\n",
    "\n",
    "# Do not change: Check your answer\n",
    "q4.check()"
   ]
  },
  {
   "cell_type": "code",
   "execution_count": 13,
   "id": "18f1951e",
   "metadata": {
    "execution": {
     "iopub.execute_input": "2023-06-10T08:09:16.303760Z",
     "iopub.status.busy": "2023-06-10T08:09:16.303072Z",
     "iopub.status.idle": "2023-06-10T08:09:16.307171Z",
     "shell.execute_reply": "2023-06-10T08:09:16.306220Z"
    },
    "papermill": {
     "duration": 0.014335,
     "end_time": "2023-06-10T08:09:16.309337",
     "exception": false,
     "start_time": "2023-06-10T08:09:16.295002",
     "status": "completed"
    },
    "tags": []
   },
   "outputs": [],
   "source": [
    "# Uncomment to see a hint\n",
    "# q4.hint()\n",
    "\n",
    "# Uncomment to see the solution\n",
    "# q4.solution()"
   ]
  },
  {
   "cell_type": "markdown",
   "id": "db30a6bc",
   "metadata": {
    "papermill": {
     "duration": 0.009408,
     "end_time": "2023-06-10T08:09:16.325856",
     "exception": false,
     "start_time": "2023-06-10T08:09:16.316448",
     "status": "completed"
    },
    "tags": []
   },
   "source": [
    "# 🌶️ Question 5\n",
    " \n",
    "Say you're doing analytics for a website.  You need to write a function that returns the percentage growth in the total number of users relative to a specified number of years ago.\n",
    "\n",
    "Your function `percentage_growth()` should take two arguments as input:\n",
    "- `num_users` = Python list with the total number of users each year.  So `num_users[0]` is the total number of users in the first year, `num_users[1]` is the total number of users in the second year, and so on.  The final entry in the list gives the total number of users in the most recently completed year.\n",
    "- `yrs_ago` = number of years to go back in time when calculating the growth percentage\n",
    "\n",
    "For instance, say `num_users = [920344, 1043553, 1204334, 1458996, 1503323, 1593432, 1623463, 1843064, 1930992, 2001078]`.\n",
    "- if `yrs_ago = 1`, we want the function to return a value of about `0.036`. This corresponds to a percentage growth of approximately 3.6%, calculated as (2001078 - 1930992)/1930992.\n",
    "- if `years_ago = 7`, we would want to return approximately `0.66`.  This corresponds to a percentage growth of approximately 66%, calculated as (2001078 - 1204334)/1204334.\n",
    "\n",
    "Your coworker sent you a draft of a function, but it doesn't seem to be doing the correct calculation.  Can you figure out what has gone wrong and make the needed changes?"
   ]
  },
  {
   "cell_type": "code",
   "execution_count": 14,
   "id": "c2bf99c0",
   "metadata": {
    "execution": {
     "iopub.execute_input": "2023-06-10T08:09:16.343377Z",
     "iopub.status.busy": "2023-06-10T08:09:16.342750Z",
     "iopub.status.idle": "2023-06-10T08:09:16.356985Z",
     "shell.execute_reply": "2023-06-10T08:09:16.354399Z"
    },
    "papermill": {
     "duration": 0.024651,
     "end_time": "2023-06-10T08:09:16.359065",
     "exception": false,
     "start_time": "2023-06-10T08:09:16.334414",
     "status": "completed"
    },
    "tags": []
   },
   "outputs": [
    {
     "name": "stdout",
     "output_type": "stream",
     "text": [
      "0.03629533421163837\n",
      "0.6615639847417742\n"
     ]
    },
    {
     "data": {
      "application/javascript": [
       "parent.postMessage({\"jupyterEvent\": \"custom.exercise_interaction\", \"data\": {\"outcomeType\": 1, \"valueTowardsCompletion\": 0.2, \"interactionType\": 1, \"questionType\": 2, \"questionId\": \"5_WebsiteAnalytics\", \"learnToolsVersion\": \"0.3.4\", \"failureMessage\": \"\", \"exceptionClass\": \"\", \"trace\": \"\"}}, \"*\")"
      ],
      "text/plain": [
       "<IPython.core.display.Javascript object>"
      ]
     },
     "metadata": {},
     "output_type": "display_data"
    },
    {
     "data": {
      "text/markdown": [
       "<span style=\"color:#33cc33\">Correct</span>"
      ],
      "text/plain": [
       "Correct"
      ]
     },
     "metadata": {},
     "output_type": "display_data"
    }
   ],
   "source": [
    "# TODO: Edit the function\n",
    "def percentage_growth(num_users, yrs_ago):\n",
    "    yrs_ago += 1\n",
    "    growth = (num_users[len(num_users)-1] - num_users[len(num_users)-yrs_ago])/num_users[len(num_users)-yrs_ago]\n",
    "    return growth\n",
    "\n",
    "# Do not change: Variable for calculating some test examples\n",
    "num_users_test = [920344, 1043553, 1204334, 1458996, 1503323, 1593432, 1623463, 1843064, 1930992, 2001078]\n",
    "\n",
    "# Do not change: Should return .036\n",
    "print(percentage_growth(num_users_test, 1))\n",
    "\n",
    "# Do not change: Should return 0.66\n",
    "print(percentage_growth(num_users_test, 7))\n",
    "\n",
    "# Do not change: Check your answer\n",
    "q5.check()"
   ]
  },
  {
   "cell_type": "code",
   "execution_count": 15,
   "id": "5e7cb9f3",
   "metadata": {
    "execution": {
     "iopub.execute_input": "2023-06-10T08:09:16.375921Z",
     "iopub.status.busy": "2023-06-10T08:09:16.375171Z",
     "iopub.status.idle": "2023-06-10T08:09:16.383626Z",
     "shell.execute_reply": "2023-06-10T08:09:16.382653Z"
    },
    "papermill": {
     "duration": 0.019229,
     "end_time": "2023-06-10T08:09:16.385598",
     "exception": false,
     "start_time": "2023-06-10T08:09:16.366369",
     "status": "completed"
    },
    "tags": []
   },
   "outputs": [
    {
     "data": {
      "application/javascript": [
       "parent.postMessage({\"jupyterEvent\": \"custom.exercise_interaction\", \"data\": {\"interactionType\": 3, \"questionType\": 2, \"questionId\": \"5_WebsiteAnalytics\", \"learnToolsVersion\": \"0.3.4\", \"valueTowardsCompletion\": 0.0, \"failureMessage\": \"\", \"exceptionClass\": \"\", \"trace\": \"\", \"outcomeType\": 4}}, \"*\")"
      ],
      "text/plain": [
       "<IPython.core.display.Javascript object>"
      ]
     },
     "metadata": {},
     "output_type": "display_data"
    },
    {
     "data": {
      "text/markdown": [
       "<span style=\"color:#33cc99\">Solution:</span> \n",
       "```python\n",
       "def percentage_growth(num_users, yrs_ago):\n",
       "    growth = (num_users[len(num_users)-1] - num_users[len(num_users)-yrs_ago-1])/num_users[len(num_users)-yrs_ago-1]\n",
       "    return growth\n",
       "\n",
       "```"
      ],
      "text/plain": [
       "Solution: \n",
       "```python\n",
       "def percentage_growth(num_users, yrs_ago):\n",
       "    growth = (num_users[len(num_users)-1] - num_users[len(num_users)-yrs_ago-1])/num_users[len(num_users)-yrs_ago-1]\n",
       "    return growth\n",
       "\n",
       "```"
      ]
     },
     "metadata": {},
     "output_type": "display_data"
    }
   ],
   "source": [
    "# Uncomment to see a hint\n",
    "#q5.hint()\n",
    "\n",
    "# Uncomment to see the solution\n",
    "q5.solution()"
   ]
  },
  {
   "cell_type": "markdown",
   "id": "3f71cd52",
   "metadata": {
    "papermill": {
     "duration": 0.007505,
     "end_time": "2023-06-10T08:09:16.401134",
     "exception": false,
     "start_time": "2023-06-10T08:09:16.393629",
     "status": "completed"
    },
    "tags": []
   },
   "source": [
    "# Congratulations!\n",
    "\n",
    "Congratulations for finishing the Intro to Programming course!  You should be proud of your very first steps with learning programming.  As next steps, we recommend taking:\n",
    "- the **[Python course](http://www.kaggle.com/learn/python)**, and \n",
    "- the **[Intro to Machine Learning course](https://www.kaggle.com/learn/intro-to-machine-learning)**."
   ]
  },
  {
   "cell_type": "markdown",
   "id": "d08ded32",
   "metadata": {
    "papermill": {
     "duration": 0.007615,
     "end_time": "2023-06-10T08:09:16.416499",
     "exception": false,
     "start_time": "2023-06-10T08:09:16.408884",
     "status": "completed"
    },
    "tags": []
   },
   "source": [
    "---\n",
    "\n",
    "\n",
    "\n",
    "\n",
    "*Have questions or comments? Visit the [course discussion forum](https://www.kaggle.com/learn/intro-to-programming/discussion) to chat with other learners.*"
   ]
  }
 ],
 "metadata": {
  "kernelspec": {
   "display_name": "Python 3",
   "language": "python",
   "name": "python3"
  },
  "language_info": {
   "codemirror_mode": {
    "name": "ipython",
    "version": 3
   },
   "file_extension": ".py",
   "mimetype": "text/x-python",
   "name": "python",
   "nbconvert_exporter": "python",
   "pygments_lexer": "ipython3",
   "version": "3.10.10"
  },
  "papermill": {
   "default_parameters": {},
   "duration": 11.295152,
   "end_time": "2023-06-10T08:09:17.246125",
   "environment_variables": {},
   "exception": null,
   "input_path": "__notebook__.ipynb",
   "output_path": "__notebook__.ipynb",
   "parameters": {},
   "start_time": "2023-06-10T08:09:05.950973",
   "version": "2.4.0"
  }
 },
 "nbformat": 4,
 "nbformat_minor": 5
}
