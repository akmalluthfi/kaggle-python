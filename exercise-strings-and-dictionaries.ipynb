{
 "cells": [
  {
   "cell_type": "markdown",
   "id": "2db3c4ff",
   "metadata": {
    "papermill": {
     "duration": 0.005117,
     "end_time": "2023-06-10T07:50:28.380946",
     "exception": false,
     "start_time": "2023-06-10T07:50:28.375829",
     "status": "completed"
    },
    "tags": []
   },
   "source": [
    "**This notebook is an exercise in the [Python](https://www.kaggle.com/learn/python) course.  You can reference the tutorial at [this link](https://www.kaggle.com/colinmorris/strings-and-dictionaries).**\n",
    "\n",
    "---\n"
   ]
  },
  {
   "cell_type": "markdown",
   "id": "8df5f2d4",
   "metadata": {
    "papermill": {
     "duration": 0.004081,
     "end_time": "2023-06-10T07:50:28.389523",
     "exception": false,
     "start_time": "2023-06-10T07:50:28.385442",
     "status": "completed"
    },
    "tags": []
   },
   "source": [
    "You are almost done with the course. Nice job!\n",
    "\n",
    "We have a couple more interesting problems for you before you go. \n",
    "\n",
    "As always, run the setup code below before working on the questions."
   ]
  },
  {
   "cell_type": "code",
   "execution_count": 1,
   "id": "0c692e24",
   "metadata": {
    "execution": {
     "iopub.execute_input": "2023-06-10T07:50:28.400159Z",
     "iopub.status.busy": "2023-06-10T07:50:28.399795Z",
     "iopub.status.idle": "2023-06-10T07:50:28.464310Z",
     "shell.execute_reply": "2023-06-10T07:50:28.461778Z"
    },
    "papermill": {
     "duration": 0.07306,
     "end_time": "2023-06-10T07:50:28.466966",
     "exception": false,
     "start_time": "2023-06-10T07:50:28.393906",
     "status": "completed"
    },
    "tags": []
   },
   "outputs": [
    {
     "name": "stdout",
     "output_type": "stream",
     "text": [
      "Setup complete.\n"
     ]
    }
   ],
   "source": [
    "from learntools.core import binder; binder.bind(globals())\n",
    "from learntools.python.ex6 import *\n",
    "print('Setup complete.')"
   ]
  },
  {
   "cell_type": "markdown",
   "id": "9b6a90ee",
   "metadata": {
    "papermill": {
     "duration": 0.005014,
     "end_time": "2023-06-10T07:50:28.477502",
     "exception": false,
     "start_time": "2023-06-10T07:50:28.472488",
     "status": "completed"
    },
    "tags": []
   },
   "source": [
    "Let's start with a string lightning round to warm up. What are the lengths of the strings below?\n",
    "\n",
    "For each of the five strings below, predict what `len()` would return when passed that string. Use the variable `length` to record your answer, then run the cell to check whether you were right.  \n",
    "\n",
    "# 0a."
   ]
  },
  {
   "cell_type": "code",
   "execution_count": 2,
   "id": "f407445d",
   "metadata": {
    "execution": {
     "iopub.execute_input": "2023-06-10T07:50:28.490078Z",
     "iopub.status.busy": "2023-06-10T07:50:28.489394Z",
     "iopub.status.idle": "2023-06-10T07:50:28.498632Z",
     "shell.execute_reply": "2023-06-10T07:50:28.497575Z"
    },
    "papermill": {
     "duration": 0.017705,
     "end_time": "2023-06-10T07:50:28.500978",
     "exception": false,
     "start_time": "2023-06-10T07:50:28.483273",
     "status": "completed"
    },
    "tags": []
   },
   "outputs": [
    {
     "data": {
      "application/javascript": [
       "parent.postMessage({\"jupyterEvent\": \"custom.exercise_interaction\", \"data\": {\"outcomeType\": 1, \"valueTowardsCompletion\": 0.3333333333333333, \"interactionType\": 1, \"questionType\": 1, \"questionId\": \"0.1_ZA\", \"learnToolsVersion\": \"0.3.4\", \"failureMessage\": \"\", \"exceptionClass\": \"\", \"trace\": \"\"}}, \"*\")"
      ],
      "text/plain": [
       "<IPython.core.display.Javascript object>"
      ]
     },
     "metadata": {},
     "output_type": "display_data"
    },
    {
     "data": {
      "text/markdown": [
       "<span style=\"color:#33cc33\">Correct:</span> \n",
       "\n",
       "The empty string has length zero. Note that the empty string is also the only string that Python considers as False when converting to boolean."
      ],
      "text/plain": [
       "Correct: \n",
       "\n",
       "The empty string has length zero. Note that the empty string is also the only string that Python considers as False when converting to boolean."
      ]
     },
     "metadata": {},
     "output_type": "display_data"
    }
   ],
   "source": [
    "a = \"\"\n",
    "length = len(a)\n",
    "q0.a.check()"
   ]
  },
  {
   "cell_type": "markdown",
   "id": "16320edc",
   "metadata": {
    "papermill": {
     "duration": 0.004692,
     "end_time": "2023-06-10T07:50:28.512350",
     "exception": false,
     "start_time": "2023-06-10T07:50:28.507658",
     "status": "completed"
    },
    "tags": []
   },
   "source": [
    "# 0b."
   ]
  },
  {
   "cell_type": "code",
   "execution_count": 3,
   "id": "7fabbea8",
   "metadata": {
    "execution": {
     "iopub.execute_input": "2023-06-10T07:50:28.523993Z",
     "iopub.status.busy": "2023-06-10T07:50:28.523484Z",
     "iopub.status.idle": "2023-06-10T07:50:28.530506Z",
     "shell.execute_reply": "2023-06-10T07:50:28.529469Z"
    },
    "papermill": {
     "duration": 0.015264,
     "end_time": "2023-06-10T07:50:28.532449",
     "exception": false,
     "start_time": "2023-06-10T07:50:28.517185",
     "status": "completed"
    },
    "tags": []
   },
   "outputs": [
    {
     "data": {
      "application/javascript": [
       "parent.postMessage({\"jupyterEvent\": \"custom.exercise_interaction\", \"data\": {\"outcomeType\": 1, \"valueTowardsCompletion\": 0.3333333333333333, \"interactionType\": 1, \"questionType\": 1, \"questionId\": \"0.2_ZB\", \"learnToolsVersion\": \"0.3.4\", \"failureMessage\": \"\", \"exceptionClass\": \"\", \"trace\": \"\"}}, \"*\")"
      ],
      "text/plain": [
       "<IPython.core.display.Javascript object>"
      ]
     },
     "metadata": {},
     "output_type": "display_data"
    },
    {
     "data": {
      "text/markdown": [
       "<span style=\"color:#33cc33\">Correct:</span> \n",
       "\n",
       "Keep in mind Python includes spaces (and punctuation) when counting string length."
      ],
      "text/plain": [
       "Correct: \n",
       "\n",
       "Keep in mind Python includes spaces (and punctuation) when counting string length."
      ]
     },
     "metadata": {},
     "output_type": "display_data"
    }
   ],
   "source": [
    "b = \"it's ok\"\n",
    "length = len(b)\n",
    "q0.b.check()"
   ]
  },
  {
   "cell_type": "markdown",
   "id": "3b6fd760",
   "metadata": {
    "papermill": {
     "duration": 0.004672,
     "end_time": "2023-06-10T07:50:28.542348",
     "exception": false,
     "start_time": "2023-06-10T07:50:28.537676",
     "status": "completed"
    },
    "tags": []
   },
   "source": [
    "# 0c."
   ]
  },
  {
   "cell_type": "code",
   "execution_count": 4,
   "id": "4657e518",
   "metadata": {
    "execution": {
     "iopub.execute_input": "2023-06-10T07:50:28.554596Z",
     "iopub.status.busy": "2023-06-10T07:50:28.553802Z",
     "iopub.status.idle": "2023-06-10T07:50:28.560544Z",
     "shell.execute_reply": "2023-06-10T07:50:28.559490Z"
    },
    "papermill": {
     "duration": 0.014841,
     "end_time": "2023-06-10T07:50:28.562288",
     "exception": false,
     "start_time": "2023-06-10T07:50:28.547447",
     "status": "completed"
    },
    "tags": []
   },
   "outputs": [
    {
     "data": {
      "application/javascript": [
       "parent.postMessage({\"jupyterEvent\": \"custom.exercise_interaction\", \"data\": {\"outcomeType\": 1, \"valueTowardsCompletion\": 0.3333333333333333, \"interactionType\": 1, \"questionType\": 1, \"questionId\": \"0.3_ZC\", \"learnToolsVersion\": \"0.3.4\", \"failureMessage\": \"\", \"exceptionClass\": \"\", \"trace\": \"\"}}, \"*\")"
      ],
      "text/plain": [
       "<IPython.core.display.Javascript object>"
      ]
     },
     "metadata": {},
     "output_type": "display_data"
    },
    {
     "data": {
      "text/markdown": [
       "<span style=\"color:#33cc33\">Correct:</span> \n",
       "\n",
       "Even though we use different syntax to create it, the string `c` is identical to `b`. In particular, note that the backslash is not part of the string, so it doesn't contribute to its length."
      ],
      "text/plain": [
       "Correct: \n",
       "\n",
       "Even though we use different syntax to create it, the string `c` is identical to `b`. In particular, note that the backslash is not part of the string, so it doesn't contribute to its length."
      ]
     },
     "metadata": {},
     "output_type": "display_data"
    }
   ],
   "source": [
    "c = 'it\\'s ok'\n",
    "length = len(c)\n",
    "q0.c.check()"
   ]
  },
  {
   "cell_type": "markdown",
   "id": "c85455a3",
   "metadata": {
    "papermill": {
     "duration": 0.004935,
     "end_time": "2023-06-10T07:50:28.572542",
     "exception": false,
     "start_time": "2023-06-10T07:50:28.567607",
     "status": "completed"
    },
    "tags": []
   },
   "source": [
    "# 0d."
   ]
  },
  {
   "cell_type": "code",
   "execution_count": 5,
   "id": "71ea01eb",
   "metadata": {
    "execution": {
     "iopub.execute_input": "2023-06-10T07:50:28.588414Z",
     "iopub.status.busy": "2023-06-10T07:50:28.587802Z",
     "iopub.status.idle": "2023-06-10T07:50:28.594823Z",
     "shell.execute_reply": "2023-06-10T07:50:28.594035Z"
    },
    "papermill": {
     "duration": 0.017338,
     "end_time": "2023-06-10T07:50:28.596744",
     "exception": false,
     "start_time": "2023-06-10T07:50:28.579406",
     "status": "completed"
    },
    "tags": []
   },
   "outputs": [
    {
     "data": {
      "application/javascript": [
       "parent.postMessage({\"jupyterEvent\": \"custom.exercise_interaction\", \"data\": {\"outcomeType\": 1, \"valueTowardsCompletion\": 0.3333333333333333, \"interactionType\": 1, \"questionType\": 1, \"questionId\": \"0.4_ZD\", \"learnToolsVersion\": \"0.3.4\", \"failureMessage\": \"\", \"exceptionClass\": \"\", \"trace\": \"\"}}, \"*\")"
      ],
      "text/plain": [
       "<IPython.core.display.Javascript object>"
      ]
     },
     "metadata": {},
     "output_type": "display_data"
    },
    {
     "data": {
      "text/markdown": [
       "<span style=\"color:#33cc33\">Correct:</span> \n",
       "\n",
       "The fact that this string was created using triple-quote syntax doesn't make any difference in terms of its content or length. This string is exactly the same as `'hey'`."
      ],
      "text/plain": [
       "Correct: \n",
       "\n",
       "The fact that this string was created using triple-quote syntax doesn't make any difference in terms of its content or length. This string is exactly the same as `'hey'`."
      ]
     },
     "metadata": {},
     "output_type": "display_data"
    }
   ],
   "source": [
    "d = \"\"\"hey\"\"\"\n",
    "length = len(d)\n",
    "q0.d.check()"
   ]
  },
  {
   "cell_type": "markdown",
   "id": "78f883fe",
   "metadata": {
    "papermill": {
     "duration": 0.005696,
     "end_time": "2023-06-10T07:50:28.608695",
     "exception": false,
     "start_time": "2023-06-10T07:50:28.602999",
     "status": "completed"
    },
    "tags": []
   },
   "source": [
    "# 0e."
   ]
  },
  {
   "cell_type": "code",
   "execution_count": 6,
   "id": "1811fda9",
   "metadata": {
    "execution": {
     "iopub.execute_input": "2023-06-10T07:50:28.622543Z",
     "iopub.status.busy": "2023-06-10T07:50:28.622014Z",
     "iopub.status.idle": "2023-06-10T07:50:28.629705Z",
     "shell.execute_reply": "2023-06-10T07:50:28.628378Z"
    },
    "papermill": {
     "duration": 0.017071,
     "end_time": "2023-06-10T07:50:28.632014",
     "exception": false,
     "start_time": "2023-06-10T07:50:28.614943",
     "status": "completed"
    },
    "tags": []
   },
   "outputs": [
    {
     "data": {
      "application/javascript": [
       "parent.postMessage({\"jupyterEvent\": \"custom.exercise_interaction\", \"data\": {\"outcomeType\": 1, \"valueTowardsCompletion\": 0.3333333333333333, \"interactionType\": 1, \"questionType\": 1, \"questionId\": \"0.5_ZE\", \"learnToolsVersion\": \"0.3.4\", \"failureMessage\": \"\", \"exceptionClass\": \"\", \"trace\": \"\"}}, \"*\")"
      ],
      "text/plain": [
       "<IPython.core.display.Javascript object>"
      ]
     },
     "metadata": {},
     "output_type": "display_data"
    },
    {
     "data": {
      "text/markdown": [
       "<span style=\"color:#33cc33\">Correct:</span> \n",
       "\n",
       "The newline character is just a single character! (Even though we represent it to Python using a combination of two characters.)"
      ],
      "text/plain": [
       "Correct: \n",
       "\n",
       "The newline character is just a single character! (Even though we represent it to Python using a combination of two characters.)"
      ]
     },
     "metadata": {},
     "output_type": "display_data"
    }
   ],
   "source": [
    "e = '\\n'\n",
    "length = len(e)\n",
    "q0.e.check()"
   ]
  },
  {
   "cell_type": "markdown",
   "id": "b51deb72",
   "metadata": {
    "papermill": {
     "duration": 0.005768,
     "end_time": "2023-06-10T07:50:28.644060",
     "exception": false,
     "start_time": "2023-06-10T07:50:28.638292",
     "status": "completed"
    },
    "tags": []
   },
   "source": [
    "# 1.\n",
    "\n",
    "There is a saying that \"Data scientists spend 80% of their time cleaning data, and 20% of their time complaining about cleaning data.\" Let's see if you can write a function to help clean US zip code data. Given a string, it should return whether or not that string represents a valid zip code. For our purposes, a valid zip code is any string consisting of exactly 5 digits.\n",
    "\n",
    "HINT: `str` has a method that will be useful here. Use `help(str)` to review a list of string methods."
   ]
  },
  {
   "cell_type": "code",
   "execution_count": 7,
   "id": "28655b45",
   "metadata": {
    "execution": {
     "iopub.execute_input": "2023-06-10T07:50:28.658281Z",
     "iopub.status.busy": "2023-06-10T07:50:28.657572Z",
     "iopub.status.idle": "2023-06-10T07:50:28.667374Z",
     "shell.execute_reply": "2023-06-10T07:50:28.666611Z"
    },
    "papermill": {
     "duration": 0.019224,
     "end_time": "2023-06-10T07:50:28.669249",
     "exception": false,
     "start_time": "2023-06-10T07:50:28.650025",
     "status": "completed"
    },
    "tags": []
   },
   "outputs": [
    {
     "data": {
      "application/javascript": [
       "parent.postMessage({\"jupyterEvent\": \"custom.exercise_interaction\", \"data\": {\"outcomeType\": 1, \"valueTowardsCompletion\": 0.3333333333333333, \"interactionType\": 1, \"questionType\": 2, \"questionId\": \"1_ZipValidator\", \"learnToolsVersion\": \"0.3.4\", \"failureMessage\": \"\", \"exceptionClass\": \"\", \"trace\": \"\"}}, \"*\")"
      ],
      "text/plain": [
       "<IPython.core.display.Javascript object>"
      ]
     },
     "metadata": {},
     "output_type": "display_data"
    },
    {
     "data": {
      "text/markdown": [
       "<span style=\"color:#33cc33\">Correct</span>"
      ],
      "text/plain": [
       "Correct"
      ]
     },
     "metadata": {},
     "output_type": "display_data"
    }
   ],
   "source": [
    "def is_valid_zip(zip_code):\n",
    "    \"\"\"Returns whether the input string is a valid (5 digit) zip code\n",
    "    \"\"\"\n",
    "    return zip_code.isdigit() and len(zip_code) >= 5\n",
    "\n",
    "# Check your answer\n",
    "q1.check()"
   ]
  },
  {
   "cell_type": "code",
   "execution_count": 8,
   "id": "63d6f47e",
   "metadata": {
    "execution": {
     "iopub.execute_input": "2023-06-10T07:50:28.685516Z",
     "iopub.status.busy": "2023-06-10T07:50:28.684979Z",
     "iopub.status.idle": "2023-06-10T07:50:28.692607Z",
     "shell.execute_reply": "2023-06-10T07:50:28.691554Z"
    },
    "papermill": {
     "duration": 0.017628,
     "end_time": "2023-06-10T07:50:28.695185",
     "exception": false,
     "start_time": "2023-06-10T07:50:28.677557",
     "status": "completed"
    },
    "tags": []
   },
   "outputs": [
    {
     "data": {
      "application/javascript": [
       "parent.postMessage({\"jupyterEvent\": \"custom.exercise_interaction\", \"data\": {\"interactionType\": 3, \"questionType\": 2, \"questionId\": \"1_ZipValidator\", \"learnToolsVersion\": \"0.3.4\", \"valueTowardsCompletion\": 0.0, \"failureMessage\": \"\", \"exceptionClass\": \"\", \"trace\": \"\", \"outcomeType\": 4}}, \"*\")"
      ],
      "text/plain": [
       "<IPython.core.display.Javascript object>"
      ]
     },
     "metadata": {},
     "output_type": "display_data"
    },
    {
     "data": {
      "text/markdown": [
       "<span style=\"color:#33cc99\">Solution:</span> \n",
       "```python\n",
       "def is_valid_zip(zip_code):\n",
       "    return len(zip_code) == 5 and zip_code.isdigit()\n",
       "```"
      ],
      "text/plain": [
       "Solution: \n",
       "```python\n",
       "def is_valid_zip(zip_code):\n",
       "    return len(zip_code) == 5 and zip_code.isdigit()\n",
       "```"
      ]
     },
     "metadata": {},
     "output_type": "display_data"
    }
   ],
   "source": [
    "#q1.hint()\n",
    "q1.solution()"
   ]
  },
  {
   "cell_type": "markdown",
   "id": "155e963e",
   "metadata": {
    "papermill": {
     "duration": 0.006124,
     "end_time": "2023-06-10T07:50:28.707957",
     "exception": false,
     "start_time": "2023-06-10T07:50:28.701833",
     "status": "completed"
    },
    "tags": []
   },
   "source": [
    "# 2.\n",
    "\n",
    "A researcher has gathered thousands of news articles. But she wants to focus her attention on articles including a specific word. Complete the function below to help her filter her list of articles.\n",
    "\n",
    "Your function should meet the following criteria:\n",
    "\n",
    "- Do not include documents where the keyword string shows up only as a part of a larger word. For example, if she were looking for the keyword “closed”, you would not include the string “enclosed.” \n",
    "- She does not want you to distinguish upper case from lower case letters. So the phrase “Closed the case.” would be included when the keyword is “closed”\n",
    "- Do not let periods or commas affect what is matched. “It is closed.” would be included when the keyword is “closed”. But you can assume there are no other types of punctuation."
   ]
  },
  {
   "cell_type": "code",
   "execution_count": 9,
   "id": "e8ad18a6",
   "metadata": {
    "execution": {
     "iopub.execute_input": "2023-06-10T07:50:28.723420Z",
     "iopub.status.busy": "2023-06-10T07:50:28.723063Z",
     "iopub.status.idle": "2023-06-10T07:50:28.733452Z",
     "shell.execute_reply": "2023-06-10T07:50:28.732220Z"
    },
    "papermill": {
     "duration": 0.021002,
     "end_time": "2023-06-10T07:50:28.736162",
     "exception": false,
     "start_time": "2023-06-10T07:50:28.715160",
     "status": "completed"
    },
    "tags": []
   },
   "outputs": [
    {
     "data": {
      "application/javascript": [
       "parent.postMessage({\"jupyterEvent\": \"custom.exercise_interaction\", \"data\": {\"outcomeType\": 1, \"valueTowardsCompletion\": 0.3333333333333333, \"interactionType\": 1, \"questionType\": 2, \"questionId\": \"2_WordSearch\", \"learnToolsVersion\": \"0.3.4\", \"failureMessage\": \"\", \"exceptionClass\": \"\", \"trace\": \"\"}}, \"*\")"
      ],
      "text/plain": [
       "<IPython.core.display.Javascript object>"
      ]
     },
     "metadata": {},
     "output_type": "display_data"
    },
    {
     "data": {
      "text/markdown": [
       "<span style=\"color:#33cc33\">Correct</span>"
      ],
      "text/plain": [
       "Correct"
      ]
     },
     "metadata": {},
     "output_type": "display_data"
    }
   ],
   "source": [
    "def word_search(doc_list, k):\n",
    "    \"\"\"\n",
    "    Takes a list of documents (each document is a string) and a keyword. \n",
    "    Returns list of the index values into the original list for all documents \n",
    "    containing the keyword.\n",
    "\n",
    "    Example:\n",
    "    doc_list = [\"The Learn Python Challenge Casino.\", \"They bought a car\", \"Casinoville\"]\n",
    "    >>> word_search(doc_list, 'casino')\n",
    "    >>> [0]\n",
    "    \"\"\"\n",
    "\n",
    "    items = []\n",
    "    for doc in doc_list:\n",
    "        result = [i.strip(', .') == k for i in doc.lower().split()]\n",
    "        \n",
    "        if sum(result) > 0:\n",
    "            items.append(doc_list.index(doc))\n",
    "        \n",
    "    return items\n",
    "        \n",
    "\n",
    "# Check your answer\n",
    "q2.check()"
   ]
  },
  {
   "cell_type": "code",
   "execution_count": 10,
   "id": "05abe055",
   "metadata": {
    "execution": {
     "iopub.execute_input": "2023-06-10T07:50:28.752698Z",
     "iopub.status.busy": "2023-06-10T07:50:28.751405Z",
     "iopub.status.idle": "2023-06-10T07:50:28.763406Z",
     "shell.execute_reply": "2023-06-10T07:50:28.762284Z"
    },
    "papermill": {
     "duration": 0.023733,
     "end_time": "2023-06-10T07:50:28.766796",
     "exception": false,
     "start_time": "2023-06-10T07:50:28.743063",
     "status": "completed"
    },
    "tags": []
   },
   "outputs": [
    {
     "data": {
      "application/javascript": [
       "parent.postMessage({\"jupyterEvent\": \"custom.exercise_interaction\", \"data\": {\"interactionType\": 3, \"questionType\": 2, \"questionId\": \"2_WordSearch\", \"learnToolsVersion\": \"0.3.4\", \"valueTowardsCompletion\": 0.0, \"failureMessage\": \"\", \"exceptionClass\": \"\", \"trace\": \"\", \"outcomeType\": 4}}, \"*\")"
      ],
      "text/plain": [
       "<IPython.core.display.Javascript object>"
      ]
     },
     "metadata": {},
     "output_type": "display_data"
    },
    {
     "data": {
      "text/markdown": [
       "<span style=\"color:#33cc99\">Solution:</span> \n",
       "```python\n",
       "def word_search(doc_list, keyword):\n",
       "    # list to hold the indices of matching documents\n",
       "    indices = [] \n",
       "    # Iterate through the indices (i) and elements (doc) of documents\n",
       "    for i, doc in enumerate(doc_list):\n",
       "        # Split the string doc into a list of words (according to whitespace)\n",
       "        tokens = doc.split()\n",
       "        # Make a transformed list where we 'normalize' each word to facilitate matching.\n",
       "        # Periods and commas are removed from the end of each word, and it's set to all lowercase.\n",
       "        normalized = [token.rstrip('.,').lower() for token in tokens]\n",
       "        # Is there a match? If so, update the list of matching indices.\n",
       "        if keyword.lower() in normalized:\n",
       "            indices.append(i)\n",
       "    return indices\n",
       "```"
      ],
      "text/plain": [
       "Solution: \n",
       "```python\n",
       "def word_search(doc_list, keyword):\n",
       "    # list to hold the indices of matching documents\n",
       "    indices = [] \n",
       "    # Iterate through the indices (i) and elements (doc) of documents\n",
       "    for i, doc in enumerate(doc_list):\n",
       "        # Split the string doc into a list of words (according to whitespace)\n",
       "        tokens = doc.split()\n",
       "        # Make a transformed list where we 'normalize' each word to facilitate matching.\n",
       "        # Periods and commas are removed from the end of each word, and it's set to all lowercase.\n",
       "        normalized = [token.rstrip('.,').lower() for token in tokens]\n",
       "        # Is there a match? If so, update the list of matching indices.\n",
       "        if keyword.lower() in normalized:\n",
       "            indices.append(i)\n",
       "    return indices\n",
       "```"
      ]
     },
     "metadata": {},
     "output_type": "display_data"
    }
   ],
   "source": [
    "# q2.hint()\n",
    "q2.solution()"
   ]
  },
  {
   "cell_type": "markdown",
   "id": "289add79",
   "metadata": {
    "papermill": {
     "duration": 0.007361,
     "end_time": "2023-06-10T07:50:28.782335",
     "exception": false,
     "start_time": "2023-06-10T07:50:28.774974",
     "status": "completed"
    },
    "tags": []
   },
   "source": [
    "# 3.\n",
    "\n",
    "Now the researcher wants to supply multiple keywords to search for. Complete the function below to help her.\n",
    "\n",
    "(You're encouraged to use the `word_search` function you just wrote when implementing this function. Reusing code in this way makes your programs more robust and readable - and it saves typing!)"
   ]
  },
  {
   "cell_type": "code",
   "execution_count": 11,
   "id": "5dd0695b",
   "metadata": {
    "execution": {
     "iopub.execute_input": "2023-06-10T07:50:28.797436Z",
     "iopub.status.busy": "2023-06-10T07:50:28.797077Z",
     "iopub.status.idle": "2023-06-10T07:50:28.804628Z",
     "shell.execute_reply": "2023-06-10T07:50:28.803964Z"
    },
    "papermill": {
     "duration": 0.018303,
     "end_time": "2023-06-10T07:50:28.807445",
     "exception": false,
     "start_time": "2023-06-10T07:50:28.789142",
     "status": "completed"
    },
    "tags": []
   },
   "outputs": [
    {
     "data": {
      "application/javascript": [
       "parent.postMessage({\"jupyterEvent\": \"custom.exercise_interaction\", \"data\": {\"outcomeType\": 1, \"valueTowardsCompletion\": 0.3333333333333333, \"interactionType\": 1, \"questionType\": 2, \"questionId\": \"3_MultiWordSearch\", \"learnToolsVersion\": \"0.3.4\", \"failureMessage\": \"\", \"exceptionClass\": \"\", \"trace\": \"\"}}, \"*\")"
      ],
      "text/plain": [
       "<IPython.core.display.Javascript object>"
      ]
     },
     "metadata": {},
     "output_type": "display_data"
    },
    {
     "data": {
      "text/markdown": [
       "<span style=\"color:#33cc33\">Correct</span>"
      ],
      "text/plain": [
       "Correct"
      ]
     },
     "metadata": {},
     "output_type": "display_data"
    }
   ],
   "source": [
    "def multi_word_search(doc_list, keywords):\n",
    "    \"\"\"\n",
    "    Takes list of documents (each document is a string) and a list of keywords.  \n",
    "    Returns a dictionary where each key is a keyword, and the value is a list of indices\n",
    "    (from doc_list) of the documents containing that keyword\n",
    "\n",
    "    >>> doc_list = [\"The Learn Python Challenge Casino.\", \"They bought a car and a casino\", \"Casinoville\"]\n",
    "    >>> keywords = ['casino', 'they']\n",
    "    >>> multi_word_search(doc_list, keywords)\n",
    "    {'casino': [0, 1], 'they': [1]}\n",
    "    \"\"\"\n",
    "    return {keyword: word_search(doc_list, keyword) for keyword in keywords}\n",
    "\n",
    "# Check your answer\n",
    "q3.check()"
   ]
  },
  {
   "cell_type": "code",
   "execution_count": 12,
   "id": "03270d3f",
   "metadata": {
    "execution": {
     "iopub.execute_input": "2023-06-10T07:50:28.823808Z",
     "iopub.status.busy": "2023-06-10T07:50:28.823490Z",
     "iopub.status.idle": "2023-06-10T07:50:28.827423Z",
     "shell.execute_reply": "2023-06-10T07:50:28.826492Z"
    },
    "papermill": {
     "duration": 0.013988,
     "end_time": "2023-06-10T07:50:28.829266",
     "exception": false,
     "start_time": "2023-06-10T07:50:28.815278",
     "status": "completed"
    },
    "tags": []
   },
   "outputs": [],
   "source": [
    "#q3.solution()"
   ]
  },
  {
   "cell_type": "markdown",
   "id": "aacb225f",
   "metadata": {
    "papermill": {
     "duration": 0.006749,
     "end_time": "2023-06-10T07:50:28.843367",
     "exception": false,
     "start_time": "2023-06-10T07:50:28.836618",
     "status": "completed"
    },
    "tags": []
   },
   "source": [
    "# Keep Going\n",
    "\n",
    "You've learned a lot. But even the best programmers rely heavily on \"libraries\" of code from other programmers. You'll learn about that in **[the last lesson](https://www.kaggle.com/colinmorris/working-with-external-libraries)**.\n"
   ]
  },
  {
   "cell_type": "markdown",
   "id": "65483c52",
   "metadata": {
    "papermill": {
     "duration": 0.006599,
     "end_time": "2023-06-10T07:50:28.856896",
     "exception": false,
     "start_time": "2023-06-10T07:50:28.850297",
     "status": "completed"
    },
    "tags": []
   },
   "source": [
    "---\n",
    "\n",
    "\n",
    "\n",
    "\n",
    "*Have questions or comments? Visit the [course discussion forum](https://www.kaggle.com/learn/python/discussion) to chat with other learners.*"
   ]
  }
 ],
 "metadata": {
  "kernelspec": {
   "display_name": "Python 3",
   "language": "python",
   "name": "python3"
  },
  "language_info": {
   "codemirror_mode": {
    "name": "ipython",
    "version": 3
   },
   "file_extension": ".py",
   "mimetype": "text/x-python",
   "name": "python",
   "nbconvert_exporter": "python",
   "pygments_lexer": "ipython3",
   "version": "3.10.10"
  },
  "papermill": {
   "default_parameters": {},
   "duration": 10.267487,
   "end_time": "2023-06-10T07:50:29.583283",
   "environment_variables": {},
   "exception": null,
   "input_path": "__notebook__.ipynb",
   "output_path": "__notebook__.ipynb",
   "parameters": {},
   "start_time": "2023-06-10T07:50:19.315796",
   "version": "2.4.0"
  }
 },
 "nbformat": 4,
 "nbformat_minor": 5
}
