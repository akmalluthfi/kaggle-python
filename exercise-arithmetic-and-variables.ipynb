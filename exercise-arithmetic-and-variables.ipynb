{
 "cells": [
  {
   "cell_type": "markdown",
   "id": "4397b91c",
   "metadata": {
    "_cell_guid": "6a3ff914-9131-48cd-abf7-500a217bc84d",
    "_uuid": "94afaa26-0112-4610-a05b-76f1ccb5e5fe",
    "papermill": {
     "duration": 0.008408,
     "end_time": "2023-06-10T08:07:26.219600",
     "exception": false,
     "start_time": "2023-06-10T08:07:26.211192",
     "status": "completed"
    },
    "tags": []
   },
   "source": [
    "**This notebook is an exercise in the [Intro to Programming](https://www.kaggle.com/learn/intro-to-programming) course.  You can reference the tutorial at [this link](https://www.kaggle.com/alexisbcook/arithmetic-and-variables).**\n",
    "\n",
    "---"
   ]
  },
  {
   "cell_type": "markdown",
   "id": "7eb31744",
   "metadata": {
    "_cell_guid": "a1ffdce6-24b4-461d-aa20-800659a97408",
    "_uuid": "0319e458-03ea-4ecc-a907-ddad1059b29a",
    "papermill": {
     "duration": 0.008069,
     "end_time": "2023-06-10T08:07:26.236378",
     "exception": false,
     "start_time": "2023-06-10T08:07:26.228309",
     "status": "completed"
    },
    "tags": []
   },
   "source": [
    "This exercise will get you started with running your own code.  \n",
    "\n",
    "# Set up the notebook\n",
    "\n",
    "To begin, run the code in the next cell.\n",
    "- Begin by clicking inside the code cell.  \n",
    "- Click on the triangle (in the shape of a \"Play button\") that appears to the left of the code cell.\n",
    "- If your code was run sucessfully, you will see `Setup Complete` as output below the cell.\n",
    "\n",
    "Instead of clicking on the triangle, you can also run code by pressing Shift + Enter on your keyboard.  Try this now!  Nothing bad will happen if you run the code more than once."
   ]
  },
  {
   "cell_type": "code",
   "execution_count": 1,
   "id": "2cb18038",
   "metadata": {
    "_cell_guid": "2f22cbfe-403c-4ea5-8484-9a558e368cea",
    "_uuid": "740a3c36-d36e-4f4d-8375-fba3f8bd1e71",
    "collapsed": false,
    "execution": {
     "iopub.execute_input": "2023-06-10T08:07:26.255348Z",
     "iopub.status.busy": "2023-06-10T08:07:26.254358Z",
     "iopub.status.idle": "2023-06-10T08:07:26.313523Z",
     "shell.execute_reply": "2023-06-10T08:07:26.312151Z"
    },
    "jupyter": {
     "outputs_hidden": false
    },
    "papermill": {
     "duration": 0.071977,
     "end_time": "2023-06-10T08:07:26.316441",
     "exception": false,
     "start_time": "2023-06-10T08:07:26.244464",
     "status": "completed"
    },
    "tags": []
   },
   "outputs": [
    {
     "name": "stdout",
     "output_type": "stream",
     "text": [
      "Setup complete.\n"
     ]
    }
   ],
   "source": [
    "# Set up the exercise\n",
    "from learntools.core import binder\n",
    "binder.bind(globals())\n",
    "from learntools.intro_to_programming.ex1 import *\n",
    "print('Setup complete.')"
   ]
  },
  {
   "cell_type": "markdown",
   "id": "0d66338e",
   "metadata": {
    "_cell_guid": "14402869-8202-45af-a215-cf702da9500a",
    "_uuid": "aec1fa95-5931-45ba-bc09-076815a1abdb",
    "papermill": {
     "duration": 0.007982,
     "end_time": "2023-06-10T08:07:26.333023",
     "exception": false,
     "start_time": "2023-06-10T08:07:26.325041",
     "status": "completed"
    },
    "tags": []
   },
   "source": [
    "The code above sets up the notebook so that it can check your answers in this exercise.  You should never modify this code.  (Otherwise, the notebook won't be able to verify that you have successfully completed the exercise.)\n",
    "\n",
    "After finishing all of the questions below, you'll see the exercise marked as complete on the [course page](http://www.kaggle.com/learn/intro-to-programming).  Once you complete all of the lessons, you'll get a course completion certificate!\n",
    "\n",
    "# Question 1\n",
    "\n",
    "Next, you will run some code from the tutorial, so you can see how it works for yourself.  Run the next code cell without changes."
   ]
  },
  {
   "cell_type": "code",
   "execution_count": 2,
   "id": "23b09c56",
   "metadata": {
    "_cell_guid": "2cc3a268-a1df-4e39-ace4-e86a7a235285",
    "_uuid": "768275d6-ea4f-450a-9a40-a92041f82814",
    "collapsed": false,
    "execution": {
     "iopub.execute_input": "2023-06-10T08:07:26.353187Z",
     "iopub.status.busy": "2023-06-10T08:07:26.352449Z",
     "iopub.status.idle": "2023-06-10T08:07:26.365599Z",
     "shell.execute_reply": "2023-06-10T08:07:26.364308Z"
    },
    "jupyter": {
     "outputs_hidden": false
    },
    "papermill": {
     "duration": 0.027493,
     "end_time": "2023-06-10T08:07:26.368698",
     "exception": false,
     "start_time": "2023-06-10T08:07:26.341205",
     "status": "completed"
    },
    "tags": []
   },
   "outputs": [
    {
     "name": "stdout",
     "output_type": "stream",
     "text": [
      "Hello, world!\n"
     ]
    },
    {
     "data": {
      "application/javascript": [
       "parent.postMessage({\"jupyterEvent\": \"custom.exercise_interaction\", \"data\": {\"outcomeType\": 1, \"valueTowardsCompletion\": 0.2, \"interactionType\": 1, \"questionType\": 2, \"questionId\": \"1_RunHelloWorld\", \"learnToolsVersion\": \"0.3.4\", \"failureMessage\": \"\", \"exceptionClass\": \"\", \"trace\": \"\"}}, \"*\")"
      ],
      "text/plain": [
       "<IPython.core.display.Javascript object>"
      ]
     },
     "metadata": {},
     "output_type": "display_data"
    },
    {
     "data": {
      "text/markdown": [
       "<span style=\"color:#33cc33\">If you see 'Hello, world!' above, You have successfully printed a message, and you're ready to move on to the next question.</span>"
      ],
      "text/plain": [
       "If you see 'Hello, world!' above, You have successfully printed a message, and you're ready to move on to the next question."
      ]
     },
     "metadata": {},
     "output_type": "display_data"
    }
   ],
   "source": [
    "print(\"Hello, world!\")\n",
    "\n",
    "# DO NOT REMOVE: Mark this question as completed\n",
    "q1.check()"
   ]
  },
  {
   "cell_type": "markdown",
   "id": "90b2cecb",
   "metadata": {
    "_cell_guid": "965bf28d-606a-4de3-957b-d4b03316153a",
    "_uuid": "802a59ac-88a1-42d3-a0f4-13f76197d930",
    "papermill": {
     "duration": 0.008328,
     "end_time": "2023-06-10T08:07:26.385626",
     "exception": false,
     "start_time": "2023-06-10T08:07:26.377298",
     "status": "completed"
    },
    "tags": []
   },
   "source": [
    "You just ran code to print `Hello world!`, which you should see in the output above.\n",
    "\n",
    "The second line of code (`q1.check()`) checks your answer.  You should never modify this checking code; if you remove it, you won't get credit for completing the problem.\n",
    "\n",
    "# Question 2\n",
    "\n",
    "Now, you will print another message of your choosing.  To do this, change `print(\"Your message here!\")` to use a different message.  For instance, you might like to change it to something like:\n",
    "- `print(\"Good morning!\")`\n",
    "- `print(\"I am learning how to code :D\")`\n",
    "\n",
    "Or, you might like to see what happens if you write something like `print(\"3+4\")`.  Does it return 7, or does it just think of `\"3+4\"` as just another message?\n",
    "\n",
    "Make sure that your message is enclosed in quotation marks (`\"`), and the message itself does not use quotation marks. For instance, this will throw an error: `print(\"She said \"great job\" and gave me a high-five!\")` because the message contains quotation marks.  If you decide to take the Python course after completing this course, you will learn more about how to avoid this error in [Lesson 6](https://www.kaggle.com/colinmorris/strings-and-dictionaries).\n",
    "\n",
    "Feel free to try out multiple messages!"
   ]
  },
  {
   "cell_type": "code",
   "execution_count": 3,
   "id": "af3b4469",
   "metadata": {
    "_cell_guid": "2eb7db2c-d817-47c3-8cc8-233168e7aa7b",
    "_uuid": "c781d962-9107-4356-858f-d521c7f4c1b4",
    "collapsed": false,
    "execution": {
     "iopub.execute_input": "2023-06-10T08:07:26.405806Z",
     "iopub.status.busy": "2023-06-10T08:07:26.405149Z",
     "iopub.status.idle": "2023-06-10T08:07:26.415887Z",
     "shell.execute_reply": "2023-06-10T08:07:26.414657Z"
    },
    "jupyter": {
     "outputs_hidden": false
    },
    "papermill": {
     "duration": 0.024087,
     "end_time": "2023-06-10T08:07:26.418463",
     "exception": false,
     "start_time": "2023-06-10T08:07:26.394376",
     "status": "completed"
    },
    "tags": []
   },
   "outputs": [
    {
     "name": "stdout",
     "output_type": "stream",
     "text": [
      "7+3\n"
     ]
    },
    {
     "data": {
      "application/javascript": [
       "parent.postMessage({\"jupyterEvent\": \"custom.exercise_interaction\", \"data\": {\"outcomeType\": 1, \"valueTowardsCompletion\": 0.2, \"interactionType\": 1, \"questionType\": 2, \"questionId\": \"2_PrintAnotherMsg\", \"learnToolsVersion\": \"0.3.4\", \"failureMessage\": \"\", \"exceptionClass\": \"\", \"trace\": \"\"}}, \"*\")"
      ],
      "text/plain": [
       "<IPython.core.display.Javascript object>"
      ]
     },
     "metadata": {},
     "output_type": "display_data"
    },
    {
     "data": {
      "text/markdown": [
       "<span style=\"color:#33cc33\">Once you have printed your own message, you're ready to move on to the next question.</span>"
      ],
      "text/plain": [
       "Once you have printed your own message, you're ready to move on to the next question."
      ]
     },
     "metadata": {},
     "output_type": "display_data"
    }
   ],
   "source": [
    "# TODO: Change the message\n",
    "print(\"7+3\")\n",
    "\n",
    "# DO NOT REMOVE: Mark this question as completed \n",
    "q2.check()"
   ]
  },
  {
   "cell_type": "markdown",
   "id": "98ac1a65",
   "metadata": {
    "_cell_guid": "090e5929-aca8-4cda-8782-fb72d297b9cf",
    "_uuid": "28a16bf5-86c7-46bb-91ff-dfc57b3836c3",
    "papermill": {
     "duration": 0.008753,
     "end_time": "2023-06-10T08:07:26.436147",
     "exception": false,
     "start_time": "2023-06-10T08:07:26.427394",
     "status": "completed"
    },
    "tags": []
   },
   "source": [
    "# Question 3\n",
    "\n",
    "As you learned in the tutorial, a comment in Python has a pound sign (`#`) in front of it, which tells Python to ignore the text after it.\n",
    "\n",
    "Putting a pound sign in front of a line of code will make Python ignore that code.  For instance, this line would be ignored by Python, and nothing would appear in the output:\n",
    "```python\n",
    "#print(1+2)\n",
    "```\n",
    "Removing the pound sign will make it so that you can run the code again. When we remove the pound sign in front of a line of code, we call this **uncommenting**.\n",
    "\n",
    "In this problem, you will uncomment two lines in the code cell below and view the output:\n",
    "- Remove the `#` in front of `q3.hint()`.  To avoid errors, do NOT remove the `#` in front of `# Uncomment to view hint`.  \n",
    "- Next, remove the `#` in front of `q3.solution()`.\n",
    "\n",
    "As in the previous questions, do not change the final line of code that marks your work as completed."
   ]
  },
  {
   "cell_type": "code",
   "execution_count": 4,
   "id": "8f4e34df",
   "metadata": {
    "_cell_guid": "09ea5f3e-f00b-4590-b6b6-b506004c0a1e",
    "_uuid": "80286217-65ea-4b37-9b94-c4a60309fb6e",
    "collapsed": false,
    "execution": {
     "iopub.execute_input": "2023-06-10T08:07:26.456441Z",
     "iopub.status.busy": "2023-06-10T08:07:26.455693Z",
     "iopub.status.idle": "2023-06-10T08:07:26.474761Z",
     "shell.execute_reply": "2023-06-10T08:07:26.473763Z"
    },
    "jupyter": {
     "outputs_hidden": false
    },
    "papermill": {
     "duration": 0.032259,
     "end_time": "2023-06-10T08:07:26.477320",
     "exception": false,
     "start_time": "2023-06-10T08:07:26.445061",
     "status": "completed"
    },
    "tags": []
   },
   "outputs": [
    {
     "data": {
      "application/javascript": [
       "parent.postMessage({\"jupyterEvent\": \"custom.exercise_interaction\", \"data\": {\"interactionType\": 2, \"questionType\": 2, \"questionId\": \"3_LearnCheckingCode\", \"learnToolsVersion\": \"0.3.4\", \"valueTowardsCompletion\": 0.0, \"failureMessage\": \"\", \"exceptionClass\": \"\", \"trace\": \"\", \"outcomeType\": 4}}, \"*\")"
      ],
      "text/plain": [
       "<IPython.core.display.Javascript object>"
      ]
     },
     "metadata": {},
     "output_type": "display_data"
    },
    {
     "data": {
      "text/markdown": [
       "<span style=\"color:#3366cc\">Hint:</span> If you're ever stuck on a question, it's a good idea to look at the hint before viewing the solution."
      ],
      "text/plain": [
       "Hint: If you're ever stuck on a question, it's a good idea to look at the hint before viewing the solution."
      ]
     },
     "metadata": {},
     "output_type": "display_data"
    },
    {
     "data": {
      "application/javascript": [
       "parent.postMessage({\"jupyterEvent\": \"custom.exercise_interaction\", \"data\": {\"interactionType\": 3, \"questionType\": 2, \"questionId\": \"3_LearnCheckingCode\", \"learnToolsVersion\": \"0.3.4\", \"valueTowardsCompletion\": 0.0, \"failureMessage\": \"\", \"exceptionClass\": \"\", \"trace\": \"\", \"outcomeType\": 4}}, \"*\")"
      ],
      "text/plain": [
       "<IPython.core.display.Javascript object>"
      ]
     },
     "metadata": {},
     "output_type": "display_data"
    },
    {
     "data": {
      "text/markdown": [
       "<span style=\"color:#33cc99\">Solution:</span> If you're still stuck on a question after viewing the hint and re-reading the tutorial, you can view the solution.  You can also view the solution after you have successfully submitted your own answer, to check if the official solution is any different (there may be more than one right answer!)."
      ],
      "text/plain": [
       "Solution: If you're still stuck on a question after viewing the hint and re-reading the tutorial, you can view the solution.  You can also view the solution after you have successfully submitted your own answer, to check if the official solution is any different (there may be more than one right answer!)."
      ]
     },
     "metadata": {},
     "output_type": "display_data"
    },
    {
     "data": {
      "application/javascript": [
       "parent.postMessage({\"jupyterEvent\": \"custom.exercise_interaction\", \"data\": {\"outcomeType\": 1, \"valueTowardsCompletion\": 0.2, \"interactionType\": 1, \"questionType\": 2, \"questionId\": \"3_LearnCheckingCode\", \"learnToolsVersion\": \"0.3.4\", \"failureMessage\": \"\", \"exceptionClass\": \"\", \"trace\": \"\"}}, \"*\")"
      ],
      "text/plain": [
       "<IPython.core.display.Javascript object>"
      ]
     },
     "metadata": {},
     "output_type": "display_data"
    },
    {
     "data": {
      "text/markdown": [
       "<span style=\"color:#33cc33\">Once you have printed the hint and the solution, you're ready to move on to the next question.</span>"
      ],
      "text/plain": [
       "Once you have printed the hint and the solution, you're ready to move on to the next question."
      ]
     },
     "metadata": {},
     "output_type": "display_data"
    }
   ],
   "source": [
    "# Uncomment to get a hint\n",
    "q3.hint()\n",
    "\n",
    "# Uncomment to view solution\n",
    "q3.solution()\n",
    "\n",
    "# DO NOT REMOVE: Check your answer\n",
    "q3.check()"
   ]
  },
  {
   "cell_type": "markdown",
   "id": "665f65ab",
   "metadata": {
    "_cell_guid": "83432890-4283-4b30-80a3-f43a0499e652",
    "_uuid": "435012d6-65de-4a6b-af57-628f64efbab7",
    "papermill": {
     "duration": 0.00958,
     "end_time": "2023-06-10T08:07:26.496918",
     "exception": false,
     "start_time": "2023-06-10T08:07:26.487338",
     "status": "completed"
    },
    "tags": []
   },
   "source": [
    "In the next question, and in most of the exercises in this course, you will have the option to uncomment to view hints and solutions.  Once you feel comfortable with uncommenting, continue to the next question."
   ]
  },
  {
   "cell_type": "markdown",
   "id": "765e39d8",
   "metadata": {
    "_cell_guid": "8abe9889-c775-4f3b-b990-f28ba4bf919b",
    "_uuid": "22e3e26c-2da7-443c-be82-47b848761ecd",
    "papermill": {
     "duration": 0.009653,
     "end_time": "2023-06-10T08:07:26.516906",
     "exception": false,
     "start_time": "2023-06-10T08:07:26.507253",
     "status": "completed"
    },
    "tags": []
   },
   "source": [
    "# Question 4\n",
    "\n",
    "In the tutorial, you defined several variables to calculate the total number of seconds in a year.  Run the next code cell to do the calculation here."
   ]
  },
  {
   "cell_type": "code",
   "execution_count": 5,
   "id": "22e19f4c",
   "metadata": {
    "_cell_guid": "0e744612-9e22-41b3-addb-62e9c205f5e4",
    "_uuid": "1bd3e3e5-a6fa-49c3-9a3f-5270e72c0bb4",
    "collapsed": false,
    "execution": {
     "iopub.execute_input": "2023-06-10T08:07:26.539278Z",
     "iopub.status.busy": "2023-06-10T08:07:26.538447Z",
     "iopub.status.idle": "2023-06-10T08:07:26.546391Z",
     "shell.execute_reply": "2023-06-10T08:07:26.544842Z"
    },
    "jupyter": {
     "outputs_hidden": false
    },
    "papermill": {
     "duration": 0.022235,
     "end_time": "2023-06-10T08:07:26.549156",
     "exception": false,
     "start_time": "2023-06-10T08:07:26.526921",
     "status": "completed"
    },
    "tags": []
   },
   "outputs": [
    {
     "name": "stdout",
     "output_type": "stream",
     "text": [
      "126144000\n"
     ]
    }
   ],
   "source": [
    "# Create variables\n",
    "num_years = 4\n",
    "days_per_year = 365 \n",
    "hours_per_day = 24\n",
    "mins_per_hour = 60\n",
    "secs_per_min = 60\n",
    "\n",
    "# Calculate number of seconds in four years\n",
    "total_secs = secs_per_min * mins_per_hour * hours_per_day * days_per_year * num_years\n",
    "print(total_secs)"
   ]
  },
  {
   "cell_type": "markdown",
   "id": "3feeebc8",
   "metadata": {
    "_cell_guid": "47250a20-3f7a-41d9-b6e2-363d91204449",
    "_uuid": "b084824a-bf0c-4925-9983-8b1de2c9f69b",
    "papermill": {
     "duration": 0.009897,
     "end_time": "2023-06-10T08:07:26.569311",
     "exception": false,
     "start_time": "2023-06-10T08:07:26.559414",
     "status": "completed"
    },
    "tags": []
   },
   "source": [
    "Use the next code cell to:\n",
    "- Define a variable `births_per_min` and set it to 250.  (There are on average 250 babies born each minute.)\n",
    "- Define a variable `births_per_day` that contains the average number of babies born each day.  (To set the value of this variable, you should use `births_per_min` and some of the variables from the previous code cell.)\n",
    "\n",
    "Remember you can always get a hint if you need it!"
   ]
  },
  {
   "cell_type": "code",
   "execution_count": 6,
   "id": "eaab6262",
   "metadata": {
    "_cell_guid": "94acdc77-c64b-4aaa-a236-c67988976995",
    "_uuid": "cea395bb-0a72-4639-b9e9-3e53912601a5",
    "collapsed": false,
    "execution": {
     "iopub.execute_input": "2023-06-10T08:07:26.591586Z",
     "iopub.status.busy": "2023-06-10T08:07:26.591192Z",
     "iopub.status.idle": "2023-06-10T08:07:26.600865Z",
     "shell.execute_reply": "2023-06-10T08:07:26.599659Z"
    },
    "jupyter": {
     "outputs_hidden": false
    },
    "papermill": {
     "duration": 0.023816,
     "end_time": "2023-06-10T08:07:26.603286",
     "exception": false,
     "start_time": "2023-06-10T08:07:26.579470",
     "status": "completed"
    },
    "tags": []
   },
   "outputs": [
    {
     "data": {
      "application/javascript": [
       "parent.postMessage({\"jupyterEvent\": \"custom.exercise_interaction\", \"data\": {\"outcomeType\": 1, \"valueTowardsCompletion\": 0.2, \"interactionType\": 1, \"questionType\": 1, \"questionId\": \"4_BirthsPerYear\", \"learnToolsVersion\": \"0.3.4\", \"failureMessage\": \"\", \"exceptionClass\": \"\", \"trace\": \"\"}}, \"*\")"
      ],
      "text/plain": [
       "<IPython.core.display.Javascript object>"
      ]
     },
     "metadata": {},
     "output_type": "display_data"
    },
    {
     "data": {
      "text/markdown": [
       "<span style=\"color:#33cc33\">Correct</span>"
      ],
      "text/plain": [
       "Correct"
      ]
     },
     "metadata": {},
     "output_type": "display_data"
    }
   ],
   "source": [
    "# TODO: Set the value of the births_per_min variable\n",
    "births_per_min = 250\n",
    "births_per_hours = births_per_min * 60\n",
    "\n",
    "# TODO: Set the value of the births_per_day variable\n",
    "births_per_day = births_per_hours * 24\n",
    "\n",
    "# DO NOT REMOVE: Check your answer\n",
    "q4.check()"
   ]
  },
  {
   "cell_type": "code",
   "execution_count": 7,
   "id": "a91e6361",
   "metadata": {
    "_cell_guid": "ffb284c1-c833-4313-8854-27d0ec65df7f",
    "_uuid": "9b9c9890-a3d8-4416-8c11-ec056cb57841",
    "collapsed": false,
    "execution": {
     "iopub.execute_input": "2023-06-10T08:07:26.626519Z",
     "iopub.status.busy": "2023-06-10T08:07:26.625856Z",
     "iopub.status.idle": "2023-06-10T08:07:26.630893Z",
     "shell.execute_reply": "2023-06-10T08:07:26.629676Z"
    },
    "jupyter": {
     "outputs_hidden": false
    },
    "papermill": {
     "duration": 0.020026,
     "end_time": "2023-06-10T08:07:26.633749",
     "exception": false,
     "start_time": "2023-06-10T08:07:26.613723",
     "status": "completed"
    },
    "tags": []
   },
   "outputs": [],
   "source": [
    "# Uncomment to get a hint\n",
    "# q4.hint()\n",
    "\n",
    "# Uncomment to view solution\n",
    "# q4.solution()"
   ]
  },
  {
   "cell_type": "markdown",
   "id": "5c5b992c",
   "metadata": {
    "_cell_guid": "8b443626-4eb8-4c8a-8955-44b9c295c0b6",
    "_uuid": "926f26f1-13be-4adf-82cc-e0b722d223a7",
    "papermill": {
     "duration": 0.010167,
     "end_time": "2023-06-10T08:07:26.655152",
     "exception": false,
     "start_time": "2023-06-10T08:07:26.644985",
     "status": "completed"
    },
    "tags": []
   },
   "source": [
    "# 🌶️ Question 5\n",
    "\n",
    "(Questions marked with a 🌶️ will be a little bit more challenging than the others!  Remember you can always get a hint or view the solution.)\n",
    "\n",
    "The [Titanic competition](https://www.kaggle.com/c/titanic) is Kaggle's most famous data science competition. In this competition, participants are challenged to build a machine learning model that can predict whether or not passengers survived the Titanic shipwreck, based on information like age, sex, family size, and ticket number.\n",
    "\n",
    "Run the next code cell without changes to load and preview the titanic data.\n",
    "\n",
    "Don't worry about the details of the code for now - the end result is just that the all of the titanic data has been loaded in a variable named `titanic_data`.  (In order to learn how to write this code yourself, you can take the [Python course](https://www.kaggle.com/learn/python) and then the [Pandas course](https://www.kaggle.com/learn/pandas).)"
   ]
  },
  {
   "cell_type": "code",
   "execution_count": 8,
   "id": "f7ab0c77",
   "metadata": {
    "_cell_guid": "050e3b23-47fd-4b89-8426-052837fda814",
    "_uuid": "149bdf14-85b3-48a0-90a7-386c55f23672",
    "collapsed": false,
    "execution": {
     "iopub.execute_input": "2023-06-10T08:07:26.678590Z",
     "iopub.status.busy": "2023-06-10T08:07:26.678189Z",
     "iopub.status.idle": "2023-06-10T08:07:26.744252Z",
     "shell.execute_reply": "2023-06-10T08:07:26.743160Z"
    },
    "jupyter": {
     "outputs_hidden": false
    },
    "papermill": {
     "duration": 0.081024,
     "end_time": "2023-06-10T08:07:26.746710",
     "exception": false,
     "start_time": "2023-06-10T08:07:26.665686",
     "status": "completed"
    },
    "tags": []
   },
   "outputs": [
    {
     "data": {
      "text/html": [
       "<div>\n",
       "<style scoped>\n",
       "    .dataframe tbody tr th:only-of-type {\n",
       "        vertical-align: middle;\n",
       "    }\n",
       "\n",
       "    .dataframe tbody tr th {\n",
       "        vertical-align: top;\n",
       "    }\n",
       "\n",
       "    .dataframe thead th {\n",
       "        text-align: right;\n",
       "    }\n",
       "</style>\n",
       "<table border=\"1\" class=\"dataframe\">\n",
       "  <thead>\n",
       "    <tr style=\"text-align: right;\">\n",
       "      <th></th>\n",
       "      <th>PassengerId</th>\n",
       "      <th>Survived</th>\n",
       "      <th>Pclass</th>\n",
       "      <th>Name</th>\n",
       "      <th>Sex</th>\n",
       "      <th>Age</th>\n",
       "      <th>SibSp</th>\n",
       "      <th>Parch</th>\n",
       "      <th>Ticket</th>\n",
       "      <th>Fare</th>\n",
       "      <th>Cabin</th>\n",
       "      <th>Embarked</th>\n",
       "    </tr>\n",
       "  </thead>\n",
       "  <tbody>\n",
       "    <tr>\n",
       "      <th>0</th>\n",
       "      <td>1</td>\n",
       "      <td>0</td>\n",
       "      <td>3</td>\n",
       "      <td>Braund, Mr. Owen Harris</td>\n",
       "      <td>male</td>\n",
       "      <td>22.0</td>\n",
       "      <td>1</td>\n",
       "      <td>0</td>\n",
       "      <td>A/5 21171</td>\n",
       "      <td>7.2500</td>\n",
       "      <td>NaN</td>\n",
       "      <td>S</td>\n",
       "    </tr>\n",
       "    <tr>\n",
       "      <th>1</th>\n",
       "      <td>2</td>\n",
       "      <td>1</td>\n",
       "      <td>1</td>\n",
       "      <td>Cumings, Mrs. John Bradley (Florence Briggs Th...</td>\n",
       "      <td>female</td>\n",
       "      <td>38.0</td>\n",
       "      <td>1</td>\n",
       "      <td>0</td>\n",
       "      <td>PC 17599</td>\n",
       "      <td>71.2833</td>\n",
       "      <td>C85</td>\n",
       "      <td>C</td>\n",
       "    </tr>\n",
       "    <tr>\n",
       "      <th>2</th>\n",
       "      <td>3</td>\n",
       "      <td>1</td>\n",
       "      <td>3</td>\n",
       "      <td>Heikkinen, Miss. Laina</td>\n",
       "      <td>female</td>\n",
       "      <td>26.0</td>\n",
       "      <td>0</td>\n",
       "      <td>0</td>\n",
       "      <td>STON/O2. 3101282</td>\n",
       "      <td>7.9250</td>\n",
       "      <td>NaN</td>\n",
       "      <td>S</td>\n",
       "    </tr>\n",
       "    <tr>\n",
       "      <th>3</th>\n",
       "      <td>4</td>\n",
       "      <td>1</td>\n",
       "      <td>1</td>\n",
       "      <td>Futrelle, Mrs. Jacques Heath (Lily May Peel)</td>\n",
       "      <td>female</td>\n",
       "      <td>35.0</td>\n",
       "      <td>1</td>\n",
       "      <td>0</td>\n",
       "      <td>113803</td>\n",
       "      <td>53.1000</td>\n",
       "      <td>C123</td>\n",
       "      <td>S</td>\n",
       "    </tr>\n",
       "    <tr>\n",
       "      <th>4</th>\n",
       "      <td>5</td>\n",
       "      <td>0</td>\n",
       "      <td>3</td>\n",
       "      <td>Allen, Mr. William Henry</td>\n",
       "      <td>male</td>\n",
       "      <td>35.0</td>\n",
       "      <td>0</td>\n",
       "      <td>0</td>\n",
       "      <td>373450</td>\n",
       "      <td>8.0500</td>\n",
       "      <td>NaN</td>\n",
       "      <td>S</td>\n",
       "    </tr>\n",
       "  </tbody>\n",
       "</table>\n",
       "</div>"
      ],
      "text/plain": [
       "   PassengerId  Survived  Pclass  \\\n",
       "0            1         0       3   \n",
       "1            2         1       1   \n",
       "2            3         1       3   \n",
       "3            4         1       1   \n",
       "4            5         0       3   \n",
       "\n",
       "                                                Name     Sex   Age  SibSp  \\\n",
       "0                            Braund, Mr. Owen Harris    male  22.0      1   \n",
       "1  Cumings, Mrs. John Bradley (Florence Briggs Th...  female  38.0      1   \n",
       "2                             Heikkinen, Miss. Laina  female  26.0      0   \n",
       "3       Futrelle, Mrs. Jacques Heath (Lily May Peel)  female  35.0      1   \n",
       "4                           Allen, Mr. William Henry    male  35.0      0   \n",
       "\n",
       "   Parch            Ticket     Fare Cabin Embarked  \n",
       "0      0         A/5 21171   7.2500   NaN        S  \n",
       "1      0          PC 17599  71.2833   C85        C  \n",
       "2      0  STON/O2. 3101282   7.9250   NaN        S  \n",
       "3      0            113803  53.1000  C123        S  \n",
       "4      0            373450   8.0500   NaN        S  "
      ]
     },
     "execution_count": 8,
     "metadata": {},
     "output_type": "execute_result"
    }
   ],
   "source": [
    "# Load the data from the titanic competition\n",
    "import pandas as pd\n",
    "titanic_data = pd.read_csv(\"../input/titanic/train.csv\")\n",
    "\n",
    "# Show the first five rows of the data\n",
    "titanic_data.head()"
   ]
  },
  {
   "cell_type": "markdown",
   "id": "af44f98c",
   "metadata": {
    "_cell_guid": "7467a856-98e0-4ded-a216-83a34e41fef6",
    "_uuid": "b24a5e0d-c151-4819-8194-90b651b3c543",
    "papermill": {
     "duration": 0.010482,
     "end_time": "2023-06-10T08:07:26.768095",
     "exception": false,
     "start_time": "2023-06-10T08:07:26.757613",
     "status": "completed"
    },
    "tags": []
   },
   "source": [
    "The data has a different row for each passenger.  \n",
    "\n",
    "The next code cell defines and prints the values of three variables:  \n",
    "- `total` = total number of passengers who boarded the ship\n",
    "- `survived` = number of passengers who survived the shipwreck\n",
    "- `minors` = number of passengers under 18 years of age\n",
    "\n",
    "Run the code cell without changes.  (Don't worry about the details of how these variables are calculated for now.  You can learn more about how to calculate these values in the [Pandas course](https://www.kaggle.com/learn/pandas).)"
   ]
  },
  {
   "cell_type": "code",
   "execution_count": 9,
   "id": "14bd7199",
   "metadata": {
    "_cell_guid": "05cff4b5-37ea-4e1a-8ded-e3fa07f144a9",
    "_uuid": "7264fb8e-2640-4c73-8d21-c2e6b65d3c4f",
    "collapsed": false,
    "execution": {
     "iopub.execute_input": "2023-06-10T08:07:26.792056Z",
     "iopub.status.busy": "2023-06-10T08:07:26.791422Z",
     "iopub.status.idle": "2023-06-10T08:07:26.800967Z",
     "shell.execute_reply": "2023-06-10T08:07:26.799918Z"
    },
    "jupyter": {
     "outputs_hidden": false
    },
    "papermill": {
     "duration": 0.024756,
     "end_time": "2023-06-10T08:07:26.803604",
     "exception": false,
     "start_time": "2023-06-10T08:07:26.778848",
     "status": "completed"
    },
    "tags": []
   },
   "outputs": [
    {
     "name": "stdout",
     "output_type": "stream",
     "text": [
      "891\n",
      "342\n",
      "113\n"
     ]
    }
   ],
   "source": [
    "# Number of total passengers\n",
    "total = len(titanic_data)\n",
    "print(total)\n",
    "\n",
    "# Number of passengers who survived\n",
    "survived = (titanic_data.Survived == 1).sum()\n",
    "print(survived)\n",
    "\n",
    "# Number of passengers under 18\n",
    "minors = (titanic_data.Age < 18).sum()\n",
    "print(minors)"
   ]
  },
  {
   "cell_type": "markdown",
   "id": "6d5b1ae2",
   "metadata": {
    "_cell_guid": "b2b884a8-1c95-439c-b7af-422ff9349110",
    "_uuid": "f5cd51f2-d648-4ff1-af8b-e2bb54e86da1",
    "papermill": {
     "duration": 0.010491,
     "end_time": "2023-06-10T08:07:26.825014",
     "exception": false,
     "start_time": "2023-06-10T08:07:26.814523",
     "status": "completed"
    },
    "tags": []
   },
   "source": [
    "So, \n",
    "- `total = 891` (there were 891 passengers on board the Titanic),\n",
    "- `survived = 342` (342 passengers survived), and \n",
    "- `minors = 113` (113 passengers were under the age of 18).\n",
    "\n",
    "In the code cell below, replace the underlines (`____`) with code to calculate the values for two more variables:\n",
    "- `survived_fraction` should be set to the fraction of passengers who survived the Titanic disaster.\n",
    "- `minors_fraction` should be the fraction of passengers who were minors (under the age of 18).\n",
    "\n",
    "For each variable, your answer should be a number between 0 and 1.  \n",
    "\n",
    "If you need a hint or want to view the solution, you can skip to the next code cell and uncomment the appropriate lines of code (`q5.hint()` and `q5.solution()`)."
   ]
  },
  {
   "cell_type": "code",
   "execution_count": 10,
   "id": "997c551a",
   "metadata": {
    "_cell_guid": "a325b3da-8ffd-4874-8983-376d33bcf681",
    "_uuid": "146ad62a-ae96-49a3-9e9c-18bed95f360e",
    "collapsed": false,
    "execution": {
     "iopub.execute_input": "2023-06-10T08:07:26.849104Z",
     "iopub.status.busy": "2023-06-10T08:07:26.848326Z",
     "iopub.status.idle": "2023-06-10T08:07:26.859757Z",
     "shell.execute_reply": "2023-06-10T08:07:26.858438Z"
    },
    "jupyter": {
     "outputs_hidden": false
    },
    "papermill": {
     "duration": 0.026435,
     "end_time": "2023-06-10T08:07:26.862206",
     "exception": false,
     "start_time": "2023-06-10T08:07:26.835771",
     "status": "completed"
    },
    "tags": []
   },
   "outputs": [
    {
     "name": "stdout",
     "output_type": "stream",
     "text": [
      "342\n",
      "113\n"
     ]
    },
    {
     "data": {
      "application/javascript": [
       "parent.postMessage({\"jupyterEvent\": \"custom.exercise_interaction\", \"data\": {\"outcomeType\": 2, \"failureMessage\": \"Incorrect value for `survived_fraction`: `342`\", \"interactionType\": 1, \"questionType\": 1, \"questionId\": \"5_BonusTitanic\", \"learnToolsVersion\": \"0.3.4\", \"valueTowardsCompletion\": 0.0, \"exceptionClass\": \"\", \"trace\": \"\"}}, \"*\")"
      ],
      "text/plain": [
       "<IPython.core.display.Javascript object>"
      ]
     },
     "metadata": {},
     "output_type": "display_data"
    },
    {
     "data": {
      "text/markdown": [
       "<span style=\"color:#cc3333\">Incorrect:</span> Incorrect value for `survived_fraction`: `342`"
      ],
      "text/plain": [
       "Incorrect: Incorrect value for `survived_fraction`: `342`"
      ]
     },
     "metadata": {},
     "output_type": "display_data"
    }
   ],
   "source": [
    "# TODO: Fill in the value of the survived_fraction variable\n",
    "survived_fraction = survived\n",
    "\n",
    "# Print the value of the variable\n",
    "print(survived_fraction)\n",
    "\n",
    "# TODO: Fill in the value of the minors_fraction variable\n",
    "minors_fraction = minors\n",
    "\n",
    "# Print the value of the variable\n",
    "print(minors_fraction)\n",
    "\n",
    "# DO NOT REMOVE: Check your answer\n",
    "q5.check()"
   ]
  },
  {
   "cell_type": "code",
   "execution_count": 11,
   "id": "317dbc19",
   "metadata": {
    "_cell_guid": "6595070b-c26a-43bc-b58c-852d7bfca595",
    "_uuid": "5fe27546-f5cd-42c2-b91b-5ef026c315be",
    "collapsed": false,
    "execution": {
     "iopub.execute_input": "2023-06-10T08:07:26.887618Z",
     "iopub.status.busy": "2023-06-10T08:07:26.886472Z",
     "iopub.status.idle": "2023-06-10T08:07:26.891661Z",
     "shell.execute_reply": "2023-06-10T08:07:26.890336Z"
    },
    "jupyter": {
     "outputs_hidden": false
    },
    "papermill": {
     "duration": 0.020617,
     "end_time": "2023-06-10T08:07:26.894462",
     "exception": false,
     "start_time": "2023-06-10T08:07:26.873845",
     "status": "completed"
    },
    "tags": []
   },
   "outputs": [],
   "source": [
    "# Uncomment to receive a hint\n",
    "#q5.hint()\n",
    "\n",
    "# Uncomment to view the solution\n",
    "# q5.solution()"
   ]
  },
  {
   "cell_type": "markdown",
   "id": "4bc00db1",
   "metadata": {
    "_cell_guid": "0ec42966-abac-4f29-9730-675c40f87b3d",
    "_uuid": "f250aa7c-c47d-4638-9d4f-a2f3014339e9",
    "papermill": {
     "duration": 0.011112,
     "end_time": "2023-06-10T08:07:26.916981",
     "exception": false,
     "start_time": "2023-06-10T08:07:26.905869",
     "status": "completed"
    },
    "tags": []
   },
   "source": [
    "# Bonus Exercise\n",
    "\n",
    "As an **optional** next step, you're encouraged to make a submission to the Titanic competition.  \n",
    "> To do this, follow the instructions in the **[notebook here](https://www.kaggle.com/alexisbcook/titanic-tutorial)**.  \n",
    "\n",
    "The notebook is beginner-friendly and does not assume you have any experience with coding.  At the same time, you'll learn how to author your own notebooks on Kaggle, and it gives you a great idea of what you'll be able to do if you continue to learn data science!\n",
    "\n",
    "# Keep going\n",
    "\n",
    "Congratulations!  You have just finished the first exercise in the Intro to Programming course!  \n",
    "\n",
    "You are now ready to learn how to **[organize your code with functions](https://www.kaggle.com/alexisbcook/functions)**."
   ]
  },
  {
   "cell_type": "markdown",
   "id": "2033224f",
   "metadata": {
    "_cell_guid": "4965366d-d67a-4838-b416-99782fa2c9bf",
    "_uuid": "eadb053f-4a48-4599-90d2-3a2109131d18",
    "papermill": {
     "duration": 0.011061,
     "end_time": "2023-06-10T08:07:26.939530",
     "exception": false,
     "start_time": "2023-06-10T08:07:26.928469",
     "status": "completed"
    },
    "tags": []
   },
   "source": [
    "---\n",
    "\n",
    "\n",
    "\n",
    "\n",
    "*Have questions or comments? Visit the [course discussion forum](https://www.kaggle.com/learn/intro-to-programming/discussion) to chat with other learners.*"
   ]
  }
 ],
 "metadata": {
  "kernelspec": {
   "display_name": "Python 3",
   "language": "python",
   "name": "python3"
  },
  "language_info": {
   "codemirror_mode": {
    "name": "ipython",
    "version": 3
   },
   "file_extension": ".py",
   "mimetype": "text/x-python",
   "name": "python",
   "nbconvert_exporter": "python",
   "pygments_lexer": "ipython3",
   "version": "3.10.10"
  },
  "papermill": {
   "default_parameters": {},
   "duration": 17.495655,
   "end_time": "2023-06-10T08:07:27.875063",
   "environment_variables": {},
   "exception": null,
   "input_path": "__notebook__.ipynb",
   "output_path": "__notebook__.ipynb",
   "parameters": {},
   "start_time": "2023-06-10T08:07:10.379408",
   "version": "2.4.0"
  }
 },
 "nbformat": 4,
 "nbformat_minor": 5
}
